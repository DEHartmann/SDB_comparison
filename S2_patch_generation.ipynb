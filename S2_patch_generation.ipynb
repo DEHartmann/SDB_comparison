{
  "cells": [
    {
      "cell_type": "code",
      "execution_count": null,
      "metadata": {
        "colab": {
          "base_uri": "https://localhost:8080/"
        },
        "id": "qscpJUKs7ijd",
        "outputId": "cff02f23-7a39-424f-c6d1-befa92a66e1b"
      },
      "outputs": [
        {
          "output_type": "stream",
          "name": "stdout",
          "text": [
            "Drive already mounted at /content/drive; to attempt to forcibly remount, call drive.mount(\"/content/drive\", force_remount=True).\n"
          ]
        }
      ],
      "source": [
        "# Load drive\n",
        "from google.colab import drive\n",
        "drive.mount('/content/drive')\n"
      ]
    },
    {
      "cell_type": "code",
      "execution_count": null,
      "metadata": {
        "colab": {
          "base_uri": "https://localhost:8080/"
        },
        "id": "gPECd-YV7whL",
        "outputId": "5cef5ae2-10bb-46aa-d64a-5af5727a34bb"
      },
      "outputs": [
        {
          "output_type": "stream",
          "name": "stdout",
          "text": [
            "Looking in indexes: https://pypi.org/simple, https://us-python.pkg.dev/colab-wheels/public/simple/\n",
            "Requirement already satisfied: rasterio in /usr/local/lib/python3.9/dist-packages (1.3.6)\n",
            "Requirement already satisfied: numpy>=1.18 in /usr/local/lib/python3.9/dist-packages (from rasterio) (1.22.4)\n",
            "Requirement already satisfied: attrs in /usr/local/lib/python3.9/dist-packages (from rasterio) (22.2.0)\n",
            "Requirement already satisfied: click-plugins in /usr/local/lib/python3.9/dist-packages (from rasterio) (1.1.1)\n",
            "Requirement already satisfied: snuggs>=1.4.1 in /usr/local/lib/python3.9/dist-packages (from rasterio) (1.4.7)\n",
            "Requirement already satisfied: affine in /usr/local/lib/python3.9/dist-packages (from rasterio) (2.4.0)\n",
            "Requirement already satisfied: certifi in /usr/local/lib/python3.9/dist-packages (from rasterio) (2022.12.7)\n",
            "Requirement already satisfied: setuptools in /usr/local/lib/python3.9/dist-packages (from rasterio) (67.6.0)\n",
            "Requirement already satisfied: cligj>=0.5 in /usr/local/lib/python3.9/dist-packages (from rasterio) (0.7.2)\n",
            "Requirement already satisfied: click>=4.0 in /usr/local/lib/python3.9/dist-packages (from rasterio) (8.1.3)\n",
            "Requirement already satisfied: pyparsing>=2.1.6 in /usr/local/lib/python3.9/dist-packages (from snuggs>=1.4.1->rasterio) (3.0.9)\n",
            "Looking in indexes: https://pypi.org/simple, https://us-python.pkg.dev/colab-wheels/public/simple/\n",
            "Requirement already satisfied: earthpy in /usr/local/lib/python3.9/dist-packages (0.9.4)\n",
            "Requirement already satisfied: numpy>=1.14.0 in /usr/local/lib/python3.9/dist-packages (from earthpy) (1.22.4)\n",
            "Requirement already satisfied: geopandas in /usr/local/lib/python3.9/dist-packages (from earthpy) (0.12.2)\n",
            "Requirement already satisfied: scikit-image in /usr/local/lib/python3.9/dist-packages (from earthpy) (0.19.3)\n",
            "Requirement already satisfied: rasterio in /usr/local/lib/python3.9/dist-packages (from earthpy) (1.3.6)\n",
            "Requirement already satisfied: matplotlib>=2.0.0 in /usr/local/lib/python3.9/dist-packages (from earthpy) (3.7.1)\n",
            "Requirement already satisfied: requests in /usr/local/lib/python3.9/dist-packages (from earthpy) (2.27.1)\n",
            "Requirement already satisfied: packaging>=20.0 in /usr/local/lib/python3.9/dist-packages (from matplotlib>=2.0.0->earthpy) (23.0)\n",
            "Requirement already satisfied: python-dateutil>=2.7 in /usr/local/lib/python3.9/dist-packages (from matplotlib>=2.0.0->earthpy) (2.8.2)\n",
            "Requirement already satisfied: kiwisolver>=1.0.1 in /usr/local/lib/python3.9/dist-packages (from matplotlib>=2.0.0->earthpy) (1.4.4)\n",
            "Requirement already satisfied: contourpy>=1.0.1 in /usr/local/lib/python3.9/dist-packages (from matplotlib>=2.0.0->earthpy) (1.0.7)\n",
            "Requirement already satisfied: importlib-resources>=3.2.0 in /usr/local/lib/python3.9/dist-packages (from matplotlib>=2.0.0->earthpy) (5.12.0)\n",
            "Requirement already satisfied: fonttools>=4.22.0 in /usr/local/lib/python3.9/dist-packages (from matplotlib>=2.0.0->earthpy) (4.39.2)\n",
            "Requirement already satisfied: pillow>=6.2.0 in /usr/local/lib/python3.9/dist-packages (from matplotlib>=2.0.0->earthpy) (8.4.0)\n",
            "Requirement already satisfied: cycler>=0.10 in /usr/local/lib/python3.9/dist-packages (from matplotlib>=2.0.0->earthpy) (0.11.0)\n",
            "Requirement already satisfied: pyparsing>=2.3.1 in /usr/local/lib/python3.9/dist-packages (from matplotlib>=2.0.0->earthpy) (3.0.9)\n",
            "Requirement already satisfied: shapely>=1.7 in /usr/local/lib/python3.9/dist-packages (from geopandas->earthpy) (2.0.1)\n",
            "Requirement already satisfied: pandas>=1.0.0 in /usr/local/lib/python3.9/dist-packages (from geopandas->earthpy) (1.4.4)\n",
            "Requirement already satisfied: fiona>=1.8 in /usr/local/lib/python3.9/dist-packages (from geopandas->earthpy) (1.9.2)\n",
            "Requirement already satisfied: pyproj>=2.6.1.post1 in /usr/local/lib/python3.9/dist-packages (from geopandas->earthpy) (3.4.1)\n",
            "Requirement already satisfied: setuptools in /usr/local/lib/python3.9/dist-packages (from rasterio->earthpy) (67.6.0)\n",
            "Requirement already satisfied: click-plugins in /usr/local/lib/python3.9/dist-packages (from rasterio->earthpy) (1.1.1)\n",
            "Requirement already satisfied: cligj>=0.5 in /usr/local/lib/python3.9/dist-packages (from rasterio->earthpy) (0.7.2)\n",
            "Requirement already satisfied: attrs in /usr/local/lib/python3.9/dist-packages (from rasterio->earthpy) (22.2.0)\n",
            "Requirement already satisfied: affine in /usr/local/lib/python3.9/dist-packages (from rasterio->earthpy) (2.4.0)\n",
            "Requirement already satisfied: certifi in /usr/local/lib/python3.9/dist-packages (from rasterio->earthpy) (2022.12.7)\n",
            "Requirement already satisfied: click>=4.0 in /usr/local/lib/python3.9/dist-packages (from rasterio->earthpy) (8.1.3)\n",
            "Requirement already satisfied: snuggs>=1.4.1 in /usr/local/lib/python3.9/dist-packages (from rasterio->earthpy) (1.4.7)\n",
            "Requirement already satisfied: idna<4,>=2.5 in /usr/local/lib/python3.9/dist-packages (from requests->earthpy) (3.4)\n",
            "Requirement already satisfied: charset-normalizer~=2.0.0 in /usr/local/lib/python3.9/dist-packages (from requests->earthpy) (2.0.12)\n",
            "Requirement already satisfied: urllib3<1.27,>=1.21.1 in /usr/local/lib/python3.9/dist-packages (from requests->earthpy) (1.26.15)\n",
            "Requirement already satisfied: imageio>=2.4.1 in /usr/local/lib/python3.9/dist-packages (from scikit-image->earthpy) (2.25.1)\n",
            "Requirement already satisfied: PyWavelets>=1.1.1 in /usr/local/lib/python3.9/dist-packages (from scikit-image->earthpy) (1.4.1)\n",
            "Requirement already satisfied: scipy>=1.4.1 in /usr/local/lib/python3.9/dist-packages (from scikit-image->earthpy) (1.10.1)\n",
            "Requirement already satisfied: tifffile>=2019.7.26 in /usr/local/lib/python3.9/dist-packages (from scikit-image->earthpy) (2023.3.21)\n",
            "Requirement already satisfied: networkx>=2.2 in /usr/local/lib/python3.9/dist-packages (from scikit-image->earthpy) (3.0)\n",
            "Requirement already satisfied: importlib-metadata in /usr/local/lib/python3.9/dist-packages (from fiona>=1.8->geopandas->earthpy) (6.1.0)\n",
            "Requirement already satisfied: munch>=2.3.2 in /usr/local/lib/python3.9/dist-packages (from fiona>=1.8->geopandas->earthpy) (2.5.0)\n",
            "Requirement already satisfied: zipp>=3.1.0 in /usr/local/lib/python3.9/dist-packages (from importlib-resources>=3.2.0->matplotlib>=2.0.0->earthpy) (3.15.0)\n",
            "Requirement already satisfied: pytz>=2020.1 in /usr/local/lib/python3.9/dist-packages (from pandas>=1.0.0->geopandas->earthpy) (2022.7.1)\n",
            "Requirement already satisfied: six>=1.5 in /usr/local/lib/python3.9/dist-packages (from python-dateutil>=2.7->matplotlib>=2.0.0->earthpy) (1.16.0)\n"
          ]
        },
        {
          "output_type": "stream",
          "name": "stderr",
          "text": [
            "<ipython-input-2-4f6808ef3848>:77: DeprecationWarning: Please use `generic_filter` from the `scipy.ndimage` namespace, the `scipy.ndimage.filters` namespace is deprecated.\n",
            "  from scipy.ndimage.filters import generic_filter\n"
          ]
        },
        {
          "output_type": "execute_result",
          "data": {
            "text/plain": [
              "{'divide': 'warn', 'over': 'warn', 'under': 'ignore', 'invalid': 'warn'}"
            ]
          },
          "metadata": {},
          "execution_count": 2
        }
      ],
      "source": [
        "import pandas as pd\n",
        "from pandas import read_csv\n",
        "import numpy as np\n",
        "from numpy import arange\n",
        "import matplotlib.pyplot as plt\n",
        "from tifffile import *\n",
        "from glob import glob\n",
        "!pip install rasterio\n",
        "!pip install earthpy\n",
        "import rasterio\n",
        "import tensorflow as tf\n",
        "from tensorflow import keras\n",
        "from sklearn.model_selection import train_test_split\n",
        "\n",
        "\n",
        "import matplotlib.pyplot as plt\n",
        "import sklearn\n",
        "from sklearn.model_selection import train_test_split\n",
        "from sklearn import linear_model\n",
        "import statsmodels.api as sm\n",
        "from matplotlib.patches import Patch\n",
        "from sklearn import datasets, linear_model\n",
        "from sklearn.metrics import mean_squared_error, r2_score\n",
        "from sklearn.model_selection import cross_val_predict\n",
        "from sklearn import metrics\n",
        "import matplotlib.pyplot as plt\n",
        "from matplotlib import cm\n",
        "import matplotlib.colors as mcolors\n",
        "\n",
        "from matplotlib.colors import Normalize\n",
        "from scipy.interpolate import interpn\n",
        "import rasterio as rio\n",
        "import matplotlib.pyplot as plt\n",
        "from matplotlib.colors import ListedColormap\n",
        "import plotly.graph_objects as go\n",
        "\n",
        "# Import libraries\n",
        "import pandas as pd\n",
        "from pandas import read_csv\n",
        "import numpy as np\n",
        "from numpy import arange\n",
        "import matplotlib.pyplot as plt\n",
        "from matplotlib import cm\n",
        "from matplotlib.colors import Normalize\n",
        "from scipy.interpolate import interpn\n",
        "from sklearn import metrics\n",
        "from sklearn.model_selection import train_test_split\n",
        "from sklearn.ensemble import RandomForestRegressor\n",
        "from sklearn.preprocessing import StandardScaler\n",
        "from sklearn.model_selection import RandomizedSearchCV\n",
        "from sklearn.model_selection import GridSearchCV\n",
        "from sklearn.metrics import mean_squared_error\n",
        "from sklearn.inspection import permutation_importance\n",
        "\n",
        "# Import Python 3's print function and division\n",
        "from __future__ import print_function, division\n",
        "\n",
        "# Import GDAL, NumPy, and matplotlib\n",
        "from osgeo import gdal, gdal_array\n",
        "import numpy as np\n",
        "import matplotlib.pyplot as plt\n",
        "%matplotlib inline\n",
        "\n",
        "from osgeo import gdal\n",
        "import os\n",
        "import glob\n",
        "import numpy as np\n",
        "import re\n",
        "import matplotlib.pyplot as plt\n",
        "\n",
        "from sklearn.ensemble import RandomForestClassifier\n",
        "from sklearn.impute import SimpleImputer\n",
        "from sklearn.model_selection import train_test_split\n",
        "from sklearn.metrics import (accuracy_score, confusion_matrix, classification_report)\n",
        "\n",
        "\n",
        "from scipy.ndimage.filters import generic_filter\n",
        "from scipy.stats import mode\n",
        "\n",
        "import earthpy as et\n",
        "import earthpy.spatial as es\n",
        "import earthpy.plot as ep\n",
        "import xgboost as xgb\n",
        "\n",
        "# Import libraries\n",
        "import tensorflow as tf\n",
        "import numpy as np\n",
        "import pandas as pd\n",
        "from sklearn.model_selection import train_test_split\n",
        "from sklearn.preprocessing import StandardScaler, MinMaxScaler\n",
        "import os\n",
        "import matplotlib.pyplot as plt\n",
        "from sklearn import metrics\n",
        "from sklearn.metrics import mean_squared_error\n",
        "from matplotlib import cm\n",
        "from matplotlib.colors import Normalize\n",
        "from scipy.interpolate import interpn\n",
        "from google.colab import files\n",
        "\n",
        "np.seterr(divide='ignore', invalid='ignore')"
      ]
    },
    {
      "cell_type": "code",
      "source": [],
      "metadata": {
        "id": "8S0FRKNt_adu"
      },
      "execution_count": null,
      "outputs": []
    },
    {
      "cell_type": "code",
      "execution_count": null,
      "metadata": {
        "colab": {
          "base_uri": "https://localhost:8080/"
        },
        "id": "S9xWayOy70yL",
        "outputId": "f64cb182-63fb-499c-c205-78b6816eed43"
      },
      "outputs": [
        {
          "output_type": "execute_result",
          "data": {
            "text/plain": [
              "(3783, 5389)"
            ]
          },
          "metadata": {},
          "execution_count": 3
        }
      ],
      "source": [
        "## Stack image with reference\n",
        "with rasterio.open('/content/drive/MyDrive/GEE_composites/median_reflectance.tif') as src:\n",
        "    reference = src.read()\n",
        "reference = reference[-1,:,:]\n",
        "reference.shape"
      ]
    },
    {
      "cell_type": "code",
      "execution_count": null,
      "metadata": {
        "colab": {
          "base_uri": "https://localhost:8080/",
          "height": 275
        },
        "id": "USqzJYlw72fj",
        "outputId": "4978460c-a2c3-464d-e4f6-2b72a1247089"
      },
      "outputs": [
        {
          "output_type": "execute_result",
          "data": {
            "text/plain": [
              "<matplotlib.colorbar.Colorbar at 0x7fdd718fddc0>"
            ]
          },
          "metadata": {},
          "execution_count": 4
        },
        {
          "output_type": "display_data",
          "data": {
            "text/plain": [
              "<Figure size 432x288 with 2 Axes>"
            ],
            "image/png": "[encoded data removed]"
          },
          "metadata": {
            "needs_background": "light"
          }
        }
      ],
      "source": [
        "## Stack image with reference\n",
        "with rasterio.open('/content/drive/MyDrive/GEE_composites/median_reflectance.tif') as src:\n",
        "    ref = src.read()\n",
        "\n",
        "ref[-1,:,:][ref[-1,:,:] > 0] = 1\n",
        "ref[-1,:,:][ref[-1,:,:] < 0] = 1\n",
        "ref[-1,:,:][ref[-1,:,:] == 0] = 1\n",
        "ref = ref[-1,:,:]\n",
        "\n",
        "pc = plt.imshow(ref)\n",
        "plt.colorbar(pc)"
      ]
    },
    {
      "cell_type": "code",
      "execution_count": null,
      "metadata": {
        "id": "hChclvQo74W6"
      },
      "outputs": [],
      "source": [
        "def remove_nan(image):\n",
        "    image = image.astype(np.float32) # from integer to float\n",
        "    nan_mask = np.any(np.isnan(image), axis=0)\n",
        "    image[:, nan_mask] = np.nan\n",
        "\n",
        "    return image"
      ]
    },
    {
      "cell_type": "code",
      "execution_count": null,
      "metadata": {
        "id": "8fSJXRrz757H"
      },
      "outputs": [],
      "source": [
        "def clean_image(image):\n",
        "    # Create a mask for the pixels where the last band is less than -20\n",
        "    mask = image[:, :, 12] < -20\n",
        "    image[mask, :] = np.nan\n",
        "    return image"
      ]
    },
    {
      "cell_type": "code",
      "execution_count": null,
      "metadata": {
        "id": "MIKcsK6p7-0M"
      },
      "outputs": [],
      "source": [
        "def remove_patches_with_too_many_NaN(patches, threshold=0.9):\n",
        "    # Create an array of the same shape as patches to store the mask\n",
        "    mask = np.zeros(patches.shape, dtype=bool)\n",
        "    # Find the indices of the NaN values in each patch\n",
        "    nan_indices = np.isnan(patches)\n",
        "    # Use the nan_indices to create the mask\n",
        "    mask[nan_indices] = True\n",
        "    # Calculate the fraction of NaN values in each patch\n",
        "    fraction_NaN = np.mean(mask, axis=(1, 2, 3))\n",
        "    # Keep only the patches with fewer than the threshold fraction of NaN values\n",
        "    kept_patches = patches[fraction_NaN < threshold, :, :, :]\n",
        "    # Get the indices of the removed patches\n",
        "    removed_indices = np.where(fraction_NaN >= threshold)[0]\n",
        "    return kept_patches, removed_indices\n",
        "\n",
        "def set_NaN_to_zero(patches):\n",
        "    # Replace the NaN values in each patch with 0\n",
        "    patches[np.isnan(patches)] = 0\n",
        "    return patches\n",
        "\n",
        "import random\n",
        "\n",
        "def extract_patches(image, patch_size, stride):\n",
        "    # Calculate the number of patches in each dimension\n",
        "    n_rows = (image.shape[0] - patch_size[0]) // stride + 1\n",
        "    n_cols = (image.shape[1] - patch_size[1]) // stride + 1\n",
        "    n_patches = n_rows * n_cols\n",
        "    patches = np.zeros((n_patches, patch_size[0], patch_size[1], image.shape[2]))\n",
        "\n",
        "    # Keep track of the indices of the patches that meet the size requirement\n",
        "    valid_patch_indices = []\n",
        "\n",
        "    # Loop over the patches and extract them using slicing\n",
        "    patch_index = 0\n",
        "    for i in range(0, image.shape[0] - patch_size[0] + 1, stride):\n",
        "        for j in range(0, image.shape[1] - patch_size[1] + 1, stride):\n",
        "            if i <= image.shape[0] - patch_size[0] and j <= image.shape[1] - patch_size[1]:\n",
        "                i_rand = random.randint(0, patch_size[0]-1)\n",
        "                j_rand = random.randint(0, patch_size[1]-1)\n",
        "                patch = image[i+i_rand:i + i_rand + patch_size[0], j+j_rand:j + j_rand + patch_size[1], :]\n",
        "                if patch.shape == (patch_size[0], patch_size[1], image.shape[2]):\n",
        "                    patches[patch_index, :, :, :] = patch\n",
        "                    valid_patch_indices.append(patch_index)\n",
        "                    patch_index += 1\n",
        "\n",
        "    # Only return the patches that meet the size requirement\n",
        "    return patches[valid_patch_indices, :, :, :]\n",
        "\n",
        "def extract_zeroed_patches(image_train, image_test, patch_size=(64, 64, 13), nan_threshold=0.9):\n",
        "    # Extract the patches for train area\n",
        "    patches_train = extract_patches(image_train, patch_size, stride)\n",
        "    print('Number of patches for training:', patches_train.shape[0])\n",
        "    print('Patch shape:', patches_train.shape[1:])\n",
        "    # Remove patches with more than `nan_threshold` NaN values\n",
        "    kept_patches_train, removed_indices = remove_patches_with_too_many_NaN(patches_train, threshold=nan_threshold)\n",
        "    print(kept_patches_train.shape)\n",
        "    # Set the NaN values in the kept patches to 0\n",
        "    zeroed_patches_train = set_NaN_to_zero(kept_patches_train)\n",
        "    print(zeroed_patches_train.shape)\n",
        "\n",
        "    # Extract the patches for test area\n",
        "    patches_test = extract_patches(image_test, patch_size, stride)\n",
        "    print('Number of patches for testing:', patches_test.shape[0])\n",
        "    print('Patch shape:', patches_test.shape[1:])\n",
        "    # Remove patches with more than `nan_threshold` NaN values\n",
        "    kept_patches_test, removed_indices = remove_patches_with_too_many_NaN(patches_test, threshold=nan_threshold)\n",
        "    print(kept_patches_test.shape)\n",
        "    # Set the NaN values in the kept patches to 0\n",
        "    zeroed_patches_test = set_NaN_to_zero(kept_patches_test)\n",
        "    print(zeroed_patches_test.shape)\n",
        "\n",
        "    return zeroed_patches_train, zeroed_patches_test, removed_indices"
      ]
    },
    {
      "cell_type": "code",
      "execution_count": null,
      "metadata": {
        "id": "sTN93fh18Bx0"
      },
      "outputs": [],
      "source": [
        "import tensorflow as tf\n",
        "\n",
        "def split_data(zeroed_patches_train, zeroed_patches_test, patch_size, val_prop=0.25):\n",
        "    # Split the zeroed_patches array into inputs and targets\n",
        "    X_train = zeroed_patches_train[:, :, :, :-1]\n",
        "    y_train = zeroed_patches_train[:, :, :, -1]\n",
        "    y_train = tf.reshape(y_train, (-1, patch_size[0], patch_size[1], 1))\n",
        "\n",
        "    X_test = zeroed_patches_test[:, :, :, :-1]\n",
        "    y_test = zeroed_patches_test[:, :, :, -1]\n",
        "    y_test = tf.reshape(y_test, (-1, patch_size[0], patch_size[1], 1))\n",
        "\n",
        "    # Calculate the number of samples in the validation set\n",
        "    val_samples = int(X_train.shape[0] * val_prop)\n",
        "\n",
        "    # Split the training data into training and validation sets\n",
        "    X_val = X_train[-val_samples:, :, :, :]\n",
        "    y_val = y_train[-val_samples:, :, :, :]\n",
        "    X_train = X_train[:-val_samples, :, :, :]\n",
        "    y_train = y_train[:-val_samples, :, :, :]\n",
        "\n",
        "    return X_train, y_train, X_val, y_val, X_test, y_test"
      ]
    },
    {
      "cell_type": "code",
      "execution_count": null,
      "metadata": {
        "id": "zsuRtxz58DtY"
      },
      "outputs": [],
      "source": [
        "def masked_rmse(y_true, y_pred):\n",
        "    # Create a mask of non-NaN and non-zero values\n",
        "    mask = tf.math.logical_and(~tf.math.is_nan(y_true), y_true != 0)\n",
        "\n",
        "    # Apply the mask to both y_true and y_pred\n",
        "    y_true = tf.boolean_mask(y_true, mask)\n",
        "    y_pred = tf.boolean_mask(y_pred, mask)\n",
        "\n",
        "    # Calculate the RMSE between non-NaN, non-zero elements\n",
        "    mse = tf.keras.losses.mean_squared_error(y_true, y_pred)\n",
        "    rmse = tf.math.sqrt(mse)\n",
        "\n",
        "    return rmse"
      ]
    },
    {
      "cell_type": "code",
      "execution_count": null,
      "metadata": {
        "id": "KHMKrSLL8GQx"
      },
      "outputs": [],
      "source": [
        "import random\n",
        "\n",
        "def train_model(X_train, y_train, X_val, y_val, X_test, model):\n",
        "    # Set random seed for NumPy\n",
        "    np.random.seed(1)\n",
        "    # Set random seed for Python's built-in random module\n",
        "    random.seed(1)\n",
        "    # Set random seed for TensorFlow\n",
        "    tf.random.set_seed(1)\n",
        "\n",
        "    keras.backend.clear_session()\n",
        "\n",
        "    model.compile(optimizer=keras.optimizers.Adam(lr=0.001), loss=masked_rmse)\n",
        "\n",
        "    # Train the model on the training data\n",
        "    history = model.fit(X_train, y_train, epochs=100, batch_size=32, validation_data=(X_val, y_val))\n",
        "\n",
        "    # Evaluate the model on the testing data\n",
        "    predictions = model.predict(X_test)\n",
        "    print(predictions.shape)\n",
        "    return history, predictions"
      ]
    },
    {
      "cell_type": "code",
      "source": [
        "#### NOT RANDOM ####\n",
        "\n",
        "def extract_patches(image, patch_size, stride):\n",
        "    # Calculate the number of patches in each dimension\n",
        "    n_rows = (image.shape[0] - patch_size[0]) // stride + 1\n",
        "    n_cols = (image.shape[1] - patch_size[1]) // stride + 1\n",
        "    n_patches = n_rows * n_cols\n",
        "    patches = np.zeros((n_patches, patch_size[0], patch_size[1], image.shape[2]))\n",
        "\n",
        "    # Keep track of the indices of the patches that meet the size requirement\n",
        "    valid_patch_indices = []\n",
        "\n",
        "    # Loop over the patches and extract them using slicing\n",
        "    patch_index = 0\n",
        "    for i in range(0, image.shape[0] - patch_size[0] + 1, stride):\n",
        "        for j in range(0, image.shape[1] - patch_size[1] + 1, stride):\n",
        "            if i <= image.shape[0] - patch_size[0] and j <= image.shape[1] - patch_size[1]:\n",
        "                i_rand = random.randint(0, patch_size[0]-1)\n",
        "                j_rand = random.randint(0, patch_size[1]-1)\n",
        "                patch = image[i+i_rand:i + i_rand + patch_size[0], j+j_rand:j + j_rand + patch_size[1], :]\n",
        "                if patch.shape == (patch_size[0], patch_size[1], image.shape[2]):\n",
        "                    patches[patch_index, :, :, :] = patch\n",
        "                    valid_patch_indices.append(patch_index)\n",
        "                    patch_index += 1\n",
        "\n",
        "    # Only return the patches that meet the size requirement\n",
        "    return patches[valid_patch_indices, :, :, :]\n"
      ],
      "metadata": {
        "id": "c2JT_yHsZdR7"
      },
      "execution_count": null,
      "outputs": []
    },
    {
      "cell_type": "code",
      "execution_count": null,
      "metadata": {
        "colab": {
          "base_uri": "https://localhost:8080/"
        },
        "id": "RdxWTc-28IuH",
        "outputId": "be8408cb-732d-46a0-e354-23058d7dd5b6"
      },
      "outputs": [
        {
          "output_type": "stream",
          "name": "stdout",
          "text": [
            "Model: \"sequential\"\n",
            "_________________________________________________________________\n",
            " Layer (type)                Output Shape              Param #   \n",
            "=================================================================\n",
            " conv2d (Conv2D)             (None, 16, 16, 32)        3488      \n",
            "                                                                 \n",
            " batch_normalization (BatchN  (None, 16, 16, 32)       128       \n",
            " ormalization)                                                   \n",
            "                                                                 \n",
            " dropout (Dropout)           (None, 16, 16, 32)        0         \n",
            "                                                                 \n",
            " conv2d_1 (Conv2D)           (None, 16, 16, 64)        18496     \n",
            "                                                                 \n",
            " batch_normalization_1 (Batc  (None, 16, 16, 64)       256       \n",
            " hNormalization)                                                 \n",
            "                                                                 \n",
            " dropout_1 (Dropout)         (None, 16, 16, 64)        0         \n",
            "                                                                 \n",
            " conv2d_2 (Conv2D)           (None, 16, 16, 128)       73856     \n",
            "                                                                 \n",
            " batch_normalization_2 (Batc  (None, 16, 16, 128)      512       \n",
            " hNormalization)                                                 \n",
            "                                                                 \n",
            " conv2d_3 (Conv2D)           (None, 16, 16, 256)       295168    \n",
            "                                                                 \n",
            " batch_normalization_3 (Batc  (None, 16, 16, 256)      1024      \n",
            " hNormalization)                                                 \n",
            "                                                                 \n",
            " conv2d_4 (Conv2D)           (None, 16, 16, 1)         257       \n",
            "                                                                 \n",
            "=================================================================\n",
            "Total params: 393,185\n",
            "Trainable params: 392,225\n",
            "Non-trainable params: 960\n",
            "_________________________________________________________________\n"
          ]
        }
      ],
      "source": [
        "# BEST\n",
        "# Define the model architecture\n",
        "model = keras.Sequential([\n",
        "    keras.layers.Conv2D(32, (3, 3), padding='same', activation='relu', input_shape=(16,16,12)),\n",
        "    keras.layers.BatchNormalization(),\n",
        "    keras.layers.Dropout(0.25),\n",
        "\n",
        "    keras.layers.Conv2D(64, (3, 3), padding='same', activation='relu'),\n",
        "    keras.layers.BatchNormalization(),\n",
        "    keras.layers.Dropout(0.25),\n",
        "\n",
        "    keras.layers.Conv2D(128, (3, 3), padding='same', activation='relu'),\n",
        "    keras.layers.BatchNormalization(),\n",
        "\n",
        "    keras.layers.Conv2D(256, (3, 3), padding='same', activation='relu'),\n",
        "    keras.layers.BatchNormalization(),\n",
        "\n",
        "    keras.layers.Conv2D(1, (1, 1), padding='same', activation='linear')\n",
        "])\n",
        "model.summary()"
      ]
    },
    {
      "cell_type": "code",
      "execution_count": null,
      "metadata": {
        "id": "7ws1qLdR8Ls9"
      },
      "outputs": [],
      "source": [
        "import pandas as pd\n",
        "from sklearn.metrics import mean_squared_error, r2_score\n",
        "import numpy as np\n",
        "from sklearn import metrics\n",
        "\n",
        "def evaluate_model(predictions, y_test):\n",
        "    predictions = np.array(predictions)\n",
        "    y_test = np.array(y_test)\n",
        "\n",
        "    # Calculate the RMSE\n",
        "    rmse = np.sqrt(np.nanmean((predictions - y_test) ** 2))\n",
        "    print('RMSE:', rmse)\n",
        "\n",
        "    y_test_flat = y_test.flatten()\n",
        "    predictions_flat = predictions.flatten()\n",
        "    df_pred = pd.DataFrame(predictions_flat)\n",
        "    df_test = pd.DataFrame(y_test_flat)\n",
        "    df = pd.concat([df_test, df_pred], axis =1)\n",
        "    df2 = df.dropna() # Remove NaN values\n",
        "    df2.columns = ['Reference','Predicted']\n",
        "    df2= df2[df2['Reference'] < 0] # set max ref depth\n",
        "    df2= df2[df2['Predicted'] > -50] # set max ref depth\n",
        "    df2= df2[df2['Predicted'] < 0] # set max ref depth\n",
        "\n",
        "    #df2= df2[df2['Reference'] > -10] # set max ref depth\n",
        "    #df2 = df2.dropna() # Remove NaN values\n",
        "    df3 = df2.reset_index(drop=True)\n",
        "    df3['Error'] = df3['Predicted'] - df3['Reference']\n",
        "\n",
        "    # Metrics\n",
        "    rmse = mean_squared_error(df3.Reference, df3.Predicted, squared=False)\n",
        "    r2 = metrics.r2_score(df3.Reference, df3.Predicted)\n",
        "    mae = np.mean(abs(df3.Reference - df3.Predicted))\n",
        "    return df3, mae, rmse, r2\n"
      ]
    },
    {
      "cell_type": "code",
      "execution_count": null,
      "metadata": {
        "id": "idi-Vmw78OEg"
      },
      "outputs": [],
      "source": [
        "def reshape_predictions(predictions, image, patch_size, removed_indices):\n",
        "    # Get the shape of the original test area image\n",
        "    test_area_shape = image.shape\n",
        "\n",
        "    # Create a new array with the same shape as the test area image, filled with NaN values\n",
        "    reconstructed_test_area = np.full(test_area_shape, np.nan)\n",
        "\n",
        "    # Calculate the number of patches in each dimension\n",
        "    n_rows = (test_area_shape[0] - patch_size[0]) // patch_size[0] + 1\n",
        "    n_cols = (test_area_shape[1] - patch_size[1]) // patch_size[1] + 1\n",
        "\n",
        "    # Create a mask with True values for the removed patches\n",
        "    removed_mask = np.zeros((n_rows, n_cols), dtype=bool)\n",
        "    removed_mask[np.unravel_index(removed_indices, (n_rows, n_cols))] = True\n",
        "\n",
        "    # Loop over the patches and fill in the corresponding elements in the reconstructed test area\n",
        "    patch_index = 0\n",
        "    for i in range(0, test_area_shape[0] - patch_size[0] + 1, patch_size[0]):\n",
        "        for j in range(0, test_area_shape[1] - patch_size[1] + 1, patch_size[1]):\n",
        "            if not removed_mask[i // patch_size[0], j // patch_size[1]]:\n",
        "                # If the patch was not removed, use the corresponding patch from predictions\n",
        "                patch = predictions[patch_index, :, :, :]\n",
        "                reconstructed_test_area[i:i + patch_size[0], j:j + patch_size[1], :] = patch\n",
        "                patch_index += 1\n",
        "            else:\n",
        "                # If the patch was removed, fill in the corresponding region with NaNs\n",
        "                reconstructed_test_area[i:i + patch_size[0], j:j + patch_size[1], :] = np.nan\n",
        "\n",
        "    return reconstructed_test_area"
      ]
    },
    {
      "cell_type": "code",
      "execution_count": null,
      "metadata": {
        "id": "3H2xjeF58QPd"
      },
      "outputs": [],
      "source": [
        "def concat_ref_images(image_1, image_2, image_3, image_4):\n",
        "    ref_image_1 = image_1[:,:,-1]\n",
        "    ref_image_2 = image_2[:,:,-1]\n",
        "    ref_image_3 = image_3[:,:,-1]\n",
        "    ref_image_4 = image_4[:,:,-1]\n",
        "\n",
        "    ref_1_2 = np.concatenate((ref_image_1, ref_image_2), axis = 0)\n",
        "\n",
        "    ref_image_4_pad = np.pad(ref_image_4, [(0,0), (0,211)], 'constant', constant_values=(np.nan,))\n",
        "    ref_3_4 = np.concatenate((ref_image_3, ref_image_4_pad), axis = 1)\n",
        "    ref_3_4 = np.pad(ref_3_4, [(0,147), (0,0)], 'constant', constant_values=(np.nan,))\n",
        "    ref_3_4 = ref_3_4[:,0:5389]\n",
        "\n",
        "    ref_all = np.concatenate((ref_1_2, ref_3_4), axis = 0)\n",
        "\n",
        "    return ref_all"
      ]
    },
    {
      "cell_type": "code",
      "execution_count": null,
      "metadata": {
        "id": "yBdLqRgm8Saj"
      },
      "outputs": [],
      "source": [
        "def reshape_all_predictions(pred_image_1, pred_image_2, pred_image_3, pred_image_4, ref_all):\n",
        "    pred_image_1 = pred_image_1[:,:,-1]\n",
        "    pred_image_2 = pred_image_2[:,:,-1]\n",
        "    pred_image_3 = pred_image_3[:,:,-1]\n",
        "    pred_image_4 = pred_image_4[:,:,-1]\n",
        "    y_pred_1_2 = np.concatenate((pred_image_1, pred_image_2), axis = 0)\n",
        "    pred_image_4_pad = np.pad(pred_image_4, [(0,0), (0,211)], 'constant', constant_values=(np.nan,))\n",
        "    y_pred_3_4 = np.concatenate((pred_image_3, pred_image_4_pad), axis = 1)\n",
        "    y_pred_3_4 = np.pad(y_pred_3_4, [(0,147), (0,0)], 'constant', constant_values=(np.nan,))\n",
        "    y_pred_3_4 = y_pred_3_4[:,0:5389]\n",
        "    y_pred_all = np.concatenate((y_pred_1_2, y_pred_3_4), axis = 0)\n",
        "    y_pred_mask = y_pred_all.copy()\n",
        "    y_pred_mask[y_pred_mask <= 0] = 1\n",
        "    ref_all_masked = ref_all * y_pred_mask\n",
        "    ref_mask = ref_all_masked.copy()\n",
        "    ref_mask[ref_mask <= 0] = 1\n",
        "    y_pred_all_masked = y_pred_all * ref_mask\n",
        "    return y_pred_all_masked, ref_all_masked"
      ]
    },
    {
      "cell_type": "code",
      "execution_count": null,
      "metadata": {
        "id": "xYbHf4_O8UVC"
      },
      "outputs": [],
      "source": [
        "def stack_layers(image, ref, reference):\n",
        "    image = image.astype(np.float32) # from integer to float\n",
        "    image = np.where(image == 0, np.nan, image)\n",
        "    image = np.where(image < 0, np.nan, image)\n",
        "    image = np.concatenate((image, reference[np.newaxis,:,:]), axis=0)\n",
        "\n",
        "    image_copy = np.isnan(image).any(axis=0)\n",
        "    image_copy = np.where(image_copy, np.nan, 1)\n",
        "    image = image * image_copy\n",
        "    #image = np.moveaxis(image, 0, -1)\n",
        "    return image"
      ]
    },
    {
      "cell_type": "code",
      "execution_count": null,
      "metadata": {
        "id": "CyGQ81fkGJrA"
      },
      "outputs": [],
      "source": [
        "import numpy as np\n",
        "from sklearn.preprocessing import StandardScaler\n",
        "\n",
        "def normalize_image(image):\n",
        "\n",
        "    # extract non-NaN values from the input image\n",
        "    image_no_nan = image[~np.isnan(image).any(axis=2)]\n",
        "    # Only normalize non reference data\n",
        "    no_ref = image_no_nan[:,:-1]\n",
        "\n",
        "    # Get reference data\n",
        "    ref = image_no_nan[:,-1]\n",
        "\n",
        "    # Use std scaler for bands. not for reference data\n",
        "    scaler = StandardScaler().fit(no_ref)\n",
        "    no_ref_z = scaler.transform(no_ref)\n",
        "\n",
        "    # Stack satellite data and reference data\n",
        "    image_z = np.column_stack((no_ref_z, ref))\n",
        "    shape = image_z.shape[0]\n",
        "    print('shape: ',shape)\n",
        "    no_nan = image_z.reshape(shape*13)\n",
        "    nan_mask = np.isnan(image)\n",
        "\n",
        "    image_z = np.empty_like(image)\n",
        "    image_z.fill(np.nan) # fill empty image with NaN\n",
        "    image_z[~nan_mask] = no_nan\n",
        "\n",
        "    return image_z\n"
      ]
    },
    {
      "cell_type": "code",
      "execution_count": null,
      "metadata": {
        "id": "KaeqC3eR82Gw"
      },
      "outputs": [],
      "source": [
        "import numpy as np\n",
        "import random\n",
        "\n",
        "def extract_patches(image, patch_size, stride, random_start=True):\n",
        "    # Calculate the number of patches in each dimension\n",
        "    n_rows = (image.shape[0] - patch_size[0]) // stride + 1\n",
        "    n_cols = (image.shape[1] - patch_size[1]) // stride + 1\n",
        "    n_patches = n_rows * n_cols\n",
        "    patches = np.zeros((n_patches, patch_size[0], patch_size[1], image.shape[2]))\n",
        "\n",
        "    # Loop over the patches and extract them using slicing\n",
        "    patch_index = 0\n",
        "\n",
        "    if random_start:\n",
        "        start_row = random.randint(0, 33)  # Random start point between row 0 and 32\n",
        "        start_col = random.randint(0, 33)  # Random start point between column 0 and 32\n",
        "    else:\n",
        "        start_row, start_col = 0, 0\n",
        "\n",
        "    for i in range(start_row, image.shape[0] - patch_size[0] + 1, stride):\n",
        "        for j in range(start_col, image.shape[1] - patch_size[1] + 1, stride):\n",
        "            patch = image[i:i + patch_size[0], j:j + patch_size[1], :]\n",
        "            patches[patch_index, :, :, :] = patch\n",
        "            patch_index += 1\n",
        "\n",
        "    return patches\n",
        "\n"
      ]
    },
    {
      "cell_type": "markdown",
      "metadata": {
        "id": "7cs9ojXQLHle"
      },
      "source": [
        "# Patches 64x64 with max depth 20m. Area 1"
      ]
    },
    {
      "cell_type": "markdown",
      "metadata": {
        "id": "rlyMlHx8LHlf"
      },
      "source": [
        "## Patches 2019"
      ]
    },
    {
      "cell_type": "code",
      "execution_count": null,
      "metadata": {
        "colab": {
          "base_uri": "https://localhost:8080/"
        },
        "outputId": "36c997d4-1a31-4968-884b-177437f7e7f9",
        "id": "-JCVmGqXLHlf"
      },
      "outputs": [
        {
          "output_type": "stream",
          "name": "stdout",
          "text": [
            "2018-12-19\n",
            "shape:  5507532\n",
            "Number of patches for training: 5980\n",
            "Patch shape: (64, 64, 13)\n",
            "(1623, 64, 64, 13)\n",
            "(1623, 64, 64, 13)\n",
            "Number of patches for testing: 1472\n",
            "Patch shape: (64, 64, 13)\n",
            "(413, 64, 64, 13)\n",
            "(413, 64, 64, 13)\n",
            "2019-01-03\n",
            "shape:  5757403\n",
            "Number of patches for training: 5980\n",
            "Patch shape: (64, 64, 13)\n",
            "(1651, 64, 64, 13)\n",
            "(1651, 64, 64, 13)\n",
            "Number of patches for testing: 1472\n",
            "Patch shape: (64, 64, 13)\n",
            "(415, 64, 64, 13)\n",
            "(415, 64, 64, 13)\n",
            "2019-01-08\n",
            "shape:  5776356\n",
            "Number of patches for training: 5980\n",
            "Patch shape: (64, 64, 13)\n",
            "(1737, 64, 64, 13)\n",
            "(1737, 64, 64, 13)\n",
            "Number of patches for testing: 1472\n",
            "Patch shape: (64, 64, 13)\n",
            "(412, 64, 64, 13)\n",
            "(412, 64, 64, 13)\n",
            "2019-01-13\n",
            "shape:  5688645\n",
            "Number of patches for training: 5980\n",
            "Patch shape: (64, 64, 13)\n",
            "(1740, 64, 64, 13)\n",
            "(1740, 64, 64, 13)\n",
            "Number of patches for testing: 1472\n",
            "Patch shape: (64, 64, 13)\n",
            "(402, 64, 64, 13)\n",
            "(402, 64, 64, 13)\n",
            "2019-02-02\n",
            "shape:  5723961\n",
            "Number of patches for training: 5980\n",
            "Patch shape: (64, 64, 13)\n",
            "(1724, 64, 64, 13)\n",
            "(1724, 64, 64, 13)\n",
            "Number of patches for testing: 1472\n",
            "Patch shape: (64, 64, 13)\n",
            "(416, 64, 64, 13)\n",
            "(416, 64, 64, 13)\n",
            "2019-02-12\n",
            "shape:  5742786\n",
            "Number of patches for training: 5980\n",
            "Patch shape: (64, 64, 13)\n",
            "(1664, 64, 64, 13)\n",
            "(1664, 64, 64, 13)\n",
            "Number of patches for testing: 1472\n",
            "Patch shape: (64, 64, 13)\n",
            "(413, 64, 64, 13)\n",
            "(413, 64, 64, 13)\n",
            "2019-03-14\n",
            "shape:  5571262\n",
            "Number of patches for training: 5980\n",
            "Patch shape: (64, 64, 13)\n",
            "(1710, 64, 64, 13)\n",
            "(1710, 64, 64, 13)\n",
            "Number of patches for testing: 1472\n",
            "Patch shape: (64, 64, 13)\n",
            "(414, 64, 64, 13)\n",
            "(414, 64, 64, 13)\n",
            "2019-10-10\n",
            "shape:  5549807\n",
            "Number of patches for training: 5980\n",
            "Patch shape: (64, 64, 13)\n",
            "(1687, 64, 64, 13)\n",
            "(1687, 64, 64, 13)\n",
            "Number of patches for testing: 1472\n",
            "Patch shape: (64, 64, 13)\n",
            "(412, 64, 64, 13)\n",
            "(412, 64, 64, 13)\n",
            "2019-10-15\n",
            "shape:  5391333\n",
            "Number of patches for training: 5980\n",
            "Patch shape: (64, 64, 13)\n",
            "(1705, 64, 64, 13)\n",
            "(1705, 64, 64, 13)\n",
            "Number of patches for testing: 1472\n",
            "Patch shape: (64, 64, 13)\n",
            "(406, 64, 64, 13)\n",
            "(406, 64, 64, 13)\n",
            "2019-11-04\n",
            "shape:  5768149\n",
            "Number of patches for training: 5980\n",
            "Patch shape: (64, 64, 13)\n",
            "(1649, 64, 64, 13)\n",
            "(1649, 64, 64, 13)\n",
            "Number of patches for testing: 1472\n",
            "Patch shape: (64, 64, 13)\n",
            "(411, 64, 64, 13)\n",
            "(411, 64, 64, 13)\n",
            "2019-11-14\n",
            "shape:  5767421\n",
            "Number of patches for training: 5980\n",
            "Patch shape: (64, 64, 13)\n",
            "(1748, 64, 64, 13)\n",
            "(1748, 64, 64, 13)\n",
            "Number of patches for testing: 1472\n",
            "Patch shape: (64, 64, 13)\n",
            "(411, 64, 64, 13)\n",
            "(411, 64, 64, 13)\n",
            "2019-11-19\n",
            "shape:  5657783\n",
            "Number of patches for training: 5980\n",
            "Patch shape: (64, 64, 13)\n",
            "(1734, 64, 64, 13)\n",
            "(1734, 64, 64, 13)\n",
            "Number of patches for testing: 1472\n",
            "Patch shape: (64, 64, 13)\n",
            "(405, 64, 64, 13)\n",
            "(405, 64, 64, 13)\n",
            "2019-11-24\n",
            "shape:  5775358\n",
            "Number of patches for training: 5980\n",
            "Patch shape: (64, 64, 13)\n",
            "(1653, 64, 64, 13)\n",
            "(1653, 64, 64, 13)\n",
            "Number of patches for testing: 1472\n",
            "Patch shape: (64, 64, 13)\n",
            "(414, 64, 64, 13)\n",
            "(414, 64, 64, 13)\n",
            "2019-12-09\n",
            "shape:  5675967\n",
            "Number of patches for training: 5980\n",
            "Patch shape: (64, 64, 13)\n",
            "(1732, 64, 64, 13)\n",
            "(1732, 64, 64, 13)\n",
            "Number of patches for testing: 1472\n",
            "Patch shape: (64, 64, 13)\n",
            "(411, 64, 64, 13)\n",
            "(411, 64, 64, 13)\n",
            "2019-12-29\n",
            "shape:  5743432\n",
            "Number of patches for training: 5980\n",
            "Patch shape: (64, 64, 13)\n",
            "(1737, 64, 64, 13)\n",
            "(1737, 64, 64, 13)\n",
            "Number of patches for testing: 1472\n",
            "Patch shape: (64, 64, 13)\n",
            "(415, 64, 64, 13)\n",
            "(415, 64, 64, 13)\n"
          ]
        }
      ],
      "source": [
        "from pathlib import Path # for reincursive folders\n",
        "import gc\n",
        "import matplotlib.colors as mcolors\n",
        "\n",
        "from google.colab import files\n",
        "\n",
        "patches_test_2019 = []\n",
        "patches_train_2019 = []\n",
        "\n",
        "\n",
        "root_dir = '/content/drive/MyDrive/GEE_good_2019/'\n",
        "\n",
        "for filename in Path(root_dir).rglob('*.tif'):\n",
        "  try:\n",
        "      filename = str(filename)\n",
        "      date = filename[37:47] # select date of image\n",
        "      with rasterio.open(filename) as src:\n",
        "          image = src.read()\n",
        "      del src\n",
        "      gc.collect()\n",
        "      print(date)\n",
        "      image = stack_layers(image,ref,reference) # Remove NaN values and stack reference data\n",
        "      image = remove_nan(image) # Remove NaN values and stack reference data\n",
        "      image_reference = image[12,:,:]\n",
        "      image = np.transpose(image, (1, 2, 0))\n",
        "      image = clean_image(image)\n",
        "      image = normalize_image(image)\n",
        "\n",
        "      ### IMAGE 1\n",
        "      # Select training area:\n",
        "      image_no_1 = np.copy(image)\n",
        "      # Set pixels in specified slice to NaN\n",
        "      image_no_1[70:1035,:, :] = np.nan\n",
        "      # Train set\n",
        "      image_1 = image[70:1035,:, :]\n",
        "      # Extract patches\n",
        "      patch_size = (64, 64, 13)\n",
        "      stride = 58\n",
        "      zeroed_patches_train, zeroed_patches_test, removed_indices = extract_zeroed_patches(image_no_1, image_1, patch_size=(64, 64, 13), nan_threshold=0.9)\n",
        "\n",
        "      # append patches\n",
        "      patches_test_2019.append(zeroed_patches_test)\n",
        "      patches_train_2019.append(zeroed_patches_train)\n",
        "\n",
        "  except Exception as e:\n",
        "    # code to handle the exception\n",
        "    print(e)\n",
        "    pass"
      ]
    },
    {
      "cell_type": "code",
      "execution_count": null,
      "metadata": {
        "colab": {
          "base_uri": "https://localhost:8080/"
        },
        "outputId": "8996fa31-6fc9-4da2-f945-b40e93a41ada",
        "id": "8ob-8PUwLHlg"
      },
      "outputs": [
        {
          "output_type": "execute_result",
          "data": {
            "text/plain": [
              "(6170, 64, 64, 13)"
            ]
          },
          "metadata": {},
          "execution_count": 21
        }
      ],
      "source": [
        "patches_test_2019_array = np.concatenate(patches_test_2019, axis=0)\n",
        "patches_test_2019_array.shape\n",
        "# With no random starting point and no 10% striding: 5100 patches."
      ]
    },
    {
      "cell_type": "code",
      "execution_count": null,
      "metadata": {
        "colab": {
          "base_uri": "https://localhost:8080/"
        },
        "outputId": "5d1cd9d4-2787-4be0-ec58-54e97f4ca300",
        "id": "uSCGROFhLHlg"
      },
      "outputs": [
        {
          "output_type": "execute_result",
          "data": {
            "text/plain": [
              "(25494, 64, 64, 13)"
            ]
          },
          "metadata": {},
          "execution_count": 22
        }
      ],
      "source": [
        "patches_train_2019_array = np.concatenate(patches_train_2019, axis=0)\n",
        "patches_train_2019_array.shape\n",
        "# With no random starting point and no 10% striding: 20081 patches."
      ]
    },
    {
      "cell_type": "code",
      "execution_count": null,
      "metadata": {
        "id": "fZqjltJMLHlg"
      },
      "outputs": [],
      "source": [
        "np.save('/content/drive/My Drive/Patches_64_20m/patches_test_1_2019_v2.npy', patches_test_2019_array)\n",
        "np.save('/content/drive/My Drive/Patches_64_20m/patches_train_no_1_2019_v2.npy', patches_train_2019_array)"
      ]
    },
    {
      "cell_type": "markdown",
      "metadata": {
        "id": "gw8efd2aLHlh"
      },
      "source": [
        "## Patches 2020"
      ]
    },
    {
      "cell_type": "code",
      "execution_count": null,
      "metadata": {
        "colab": {
          "base_uri": "https://localhost:8080/"
        },
        "outputId": "15526d8f-ee3c-46d9-9dd7-d7cae0ff256a",
        "id": "c6VQsJ-YLHlh"
      },
      "outputs": [
        {
          "output_type": "stream",
          "name": "stdout",
          "text": [
            "2020-02-02\n",
            "shape:  5769434\n",
            "Number of patches for training: 5980\n",
            "Patch shape: (64, 64, 13)\n",
            "(1743, 64, 64, 13)\n",
            "(1743, 64, 64, 13)\n",
            "Number of patches for testing: 1472\n",
            "Patch shape: (64, 64, 13)\n",
            "(405, 64, 64, 13)\n",
            "(405, 64, 64, 13)\n",
            "2020-02-12\n",
            "shape:  5496404\n",
            "Number of patches for training: 5980\n",
            "Patch shape: (64, 64, 13)\n",
            "(1647, 64, 64, 13)\n",
            "(1647, 64, 64, 13)\n",
            "Number of patches for testing: 1472\n",
            "Patch shape: (64, 64, 13)\n",
            "(385, 64, 64, 13)\n",
            "(385, 64, 64, 13)\n",
            "2020-02-17\n",
            "shape:  5762866\n",
            "Number of patches for training: 5980\n",
            "Patch shape: (64, 64, 13)\n",
            "(1734, 64, 64, 13)\n",
            "(1734, 64, 64, 13)\n",
            "Number of patches for testing: 1472\n",
            "Patch shape: (64, 64, 13)\n",
            "(486, 64, 64, 13)\n",
            "(486, 64, 64, 13)\n",
            "2020-03-13\n",
            "shape:  5607266\n",
            "Number of patches for training: 5980\n",
            "Patch shape: (64, 64, 13)\n",
            "(1717, 64, 64, 13)\n",
            "(1717, 64, 64, 13)\n",
            "Number of patches for testing: 1472\n",
            "Patch shape: (64, 64, 13)\n",
            "(412, 64, 64, 13)\n",
            "(412, 64, 64, 13)\n",
            "2020-10-09\n",
            "shape:  5690770\n",
            "Number of patches for training: 5980\n",
            "Patch shape: (64, 64, 13)\n",
            "(1745, 64, 64, 13)\n",
            "(1745, 64, 64, 13)\n",
            "Number of patches for testing: 1472\n",
            "Patch shape: (64, 64, 13)\n",
            "(407, 64, 64, 13)\n",
            "(407, 64, 64, 13)\n",
            "2020-10-19\n",
            "shape:  5771022\n",
            "Number of patches for training: 5980\n",
            "Patch shape: (64, 64, 13)\n",
            "(1661, 64, 64, 13)\n",
            "(1661, 64, 64, 13)\n",
            "Number of patches for testing: 1472\n",
            "Patch shape: (64, 64, 13)\n",
            "(416, 64, 64, 13)\n",
            "(416, 64, 64, 13)\n",
            "2020-11-13\n",
            "shape:  5709693\n",
            "Number of patches for training: 5980\n",
            "Patch shape: (64, 64, 13)\n",
            "(1744, 64, 64, 13)\n",
            "(1744, 64, 64, 13)\n",
            "Number of patches for testing: 1472\n",
            "Patch shape: (64, 64, 13)\n",
            "(414, 64, 64, 13)\n",
            "(414, 64, 64, 13)\n",
            "2020-12-13\n",
            "shape:  5736026\n",
            "Number of patches for training: 5980\n",
            "Patch shape: (64, 64, 13)\n",
            "(1738, 64, 64, 13)\n",
            "(1738, 64, 64, 13)\n",
            "Number of patches for testing: 1472\n",
            "Patch shape: (64, 64, 13)\n",
            "(411, 64, 64, 13)\n",
            "(411, 64, 64, 13)\n",
            "2020-12-18\n",
            "shape:  5759902\n",
            "Number of patches for training: 5980\n",
            "Patch shape: (64, 64, 13)\n",
            "(1661, 64, 64, 13)\n",
            "(1661, 64, 64, 13)\n",
            "Number of patches for testing: 1472\n",
            "Patch shape: (64, 64, 13)\n",
            "(415, 64, 64, 13)\n",
            "(415, 64, 64, 13)\n",
            "2020-12-23\n",
            "shape:  5721383\n",
            "Number of patches for training: 5980\n",
            "Patch shape: (64, 64, 13)\n",
            "(1743, 64, 64, 13)\n",
            "(1743, 64, 64, 13)\n",
            "Number of patches for testing: 1472\n",
            "Patch shape: (64, 64, 13)\n",
            "(406, 64, 64, 13)\n",
            "(406, 64, 64, 13)\n",
            "2020-12-28\n",
            "shape:  5776544\n",
            "Number of patches for training: 5980\n",
            "Patch shape: (64, 64, 13)\n",
            "(1743, 64, 64, 13)\n",
            "(1743, 64, 64, 13)\n",
            "Number of patches for testing: 1472\n",
            "Patch shape: (64, 64, 13)\n",
            "(481, 64, 64, 13)\n",
            "(481, 64, 64, 13)\n"
          ]
        }
      ],
      "source": [
        "from pathlib import Path # for reincursive folders\n",
        "import gc\n",
        "import matplotlib.colors as mcolors\n",
        "\n",
        "from google.colab import files\n",
        "\n",
        "patches_test_2020 = []\n",
        "patches_train_2020 = []\n",
        "\n",
        "\n",
        "root_dir = '/content/drive/MyDrive/GEE_good_2020/'\n",
        "\n",
        "for filename in Path(root_dir).rglob('*.tif'):\n",
        "  try:\n",
        "      filename = str(filename)\n",
        "      date = filename[37:47] # select date of image\n",
        "      with rasterio.open(filename) as src:\n",
        "          image = src.read()\n",
        "      del src\n",
        "      gc.collect()\n",
        "      print(date)\n",
        "      image = stack_layers(image,ref,reference) # Remove NaN values and stack reference data\n",
        "      image = remove_nan(image) # Remove NaN values and stack reference data\n",
        "      image_reference = image[12,:,:]\n",
        "      image = np.transpose(image, (1, 2, 0))\n",
        "      image = clean_image(image)\n",
        "      image = normalize_image(image)\n",
        "\n",
        "      ### IMAGE 1\n",
        "      # Select training area:\n",
        "      image_no_1 = np.copy(image)\n",
        "      # Set pixels in specified slice to NaN\n",
        "      image_no_1[70:1035,:, :] = np.nan\n",
        "      # Train set\n",
        "      image_1 = image[70:1035,:, :]\n",
        "      # Extract patches\n",
        "      patch_size = (64, 64, 13)\n",
        "      stride = 58\n",
        "      zeroed_patches_train, zeroed_patches_test, removed_indices = extract_zeroed_patches(image_no_1, image_1, patch_size=(64, 64, 13), nan_threshold=0.9)\n",
        "\n",
        "      # append patches\n",
        "      patches_test_2020.append(zeroed_patches_test)\n",
        "      patches_train_2020.append(zeroed_patches_train)\n",
        "\n",
        "  except Exception as e:\n",
        "    # code to handle the exception\n",
        "    print(e)\n",
        "    pass"
      ]
    },
    {
      "cell_type": "code",
      "execution_count": null,
      "metadata": {
        "colab": {
          "base_uri": "https://localhost:8080/"
        },
        "outputId": "a79d5db5-cece-4b97-9b5c-c4b95836ba94",
        "id": "NkvTUwj7LHlh"
      },
      "outputs": [
        {
          "output_type": "execute_result",
          "data": {
            "text/plain": [
              "(4638, 64, 64, 13)"
            ]
          },
          "metadata": {},
          "execution_count": 21
        }
      ],
      "source": [
        "patches_test_2020_array = np.concatenate(patches_test_2020, axis=0)\n",
        "patches_test_2020_array.shape"
      ]
    },
    {
      "cell_type": "code",
      "execution_count": null,
      "metadata": {
        "colab": {
          "base_uri": "https://localhost:8080/"
        },
        "outputId": "7e5d9914-99d4-473e-a234-3adda88bb559",
        "id": "jxTfKIKWLHli"
      },
      "outputs": [
        {
          "output_type": "execute_result",
          "data": {
            "text/plain": [
              "(18876, 64, 64, 13)"
            ]
          },
          "metadata": {},
          "execution_count": 22
        }
      ],
      "source": [
        "patches_train_2020_array = np.concatenate(patches_train_2020, axis=0)\n",
        "patches_train_2020_array.shape\n",
        "# With no random starting point and no 10% striding: 14797 patches."
      ]
    },
    {
      "cell_type": "code",
      "execution_count": null,
      "metadata": {
        "id": "G1ltao-1LHli"
      },
      "outputs": [],
      "source": [
        "np.save('/content/drive/My Drive/Patches_64_20m/patches_test_1_2020_v2.npy', patches_test_2020_array)\n",
        "np.save('/content/drive/My Drive/Patches_64_20m/patches_train_no_1_2020_v2.npy', patches_train_2020_array)"
      ]
    },
    {
      "cell_type": "markdown",
      "metadata": {
        "id": "9nuuBgM7LHli"
      },
      "source": [
        "## Patches 2021"
      ]
    },
    {
      "cell_type": "code",
      "execution_count": null,
      "metadata": {
        "colab": {
          "base_uri": "https://localhost:8080/"
        },
        "outputId": "5cbac593-5d4b-4105-a378-434849087354",
        "id": "lhDHJgzMLHlj"
      },
      "outputs": [
        {
          "output_type": "stream",
          "name": "stdout",
          "text": [
            "2021-01-07\n",
            "shape:  5773538\n",
            "Number of patches for training: 5980\n",
            "Patch shape: (64, 64, 13)\n",
            "(1736, 64, 64, 13)\n",
            "(1736, 64, 64, 13)\n",
            "Number of patches for testing: 1472\n",
            "Patch shape: (64, 64, 13)\n",
            "(414, 64, 64, 13)\n",
            "(414, 64, 64, 13)\n",
            "2021-01-12\n",
            "shape:  5772530\n",
            "Number of patches for training: 5980\n",
            "Patch shape: (64, 64, 13)\n",
            "(1749, 64, 64, 13)\n",
            "(1749, 64, 64, 13)\n",
            "Number of patches for testing: 1472\n",
            "Patch shape: (64, 64, 13)\n",
            "(411, 64, 64, 13)\n",
            "(411, 64, 64, 13)\n",
            "2021-01-17\n",
            "shape:  5641571\n",
            "Number of patches for training: 5980\n",
            "Patch shape: (64, 64, 13)\n",
            "(1734, 64, 64, 13)\n",
            "(1734, 64, 64, 13)\n",
            "Number of patches for testing: 1472\n",
            "Patch shape: (64, 64, 13)\n",
            "(409, 64, 64, 13)\n",
            "(409, 64, 64, 13)\n",
            "2021-01-22\n",
            "shape:  5776372\n",
            "Number of patches for training: 5980\n",
            "Patch shape: (64, 64, 13)\n",
            "(1742, 64, 64, 13)\n",
            "(1742, 64, 64, 13)\n",
            "Number of patches for testing: 1472\n",
            "Patch shape: (64, 64, 13)\n",
            "(414, 64, 64, 13)\n",
            "(414, 64, 64, 13)\n",
            "2021-01-27\n",
            "shape:  5777107\n",
            "Number of patches for training: 5980\n",
            "Patch shape: (64, 64, 13)\n",
            "(1745, 64, 64, 13)\n",
            "(1745, 64, 64, 13)\n",
            "Number of patches for testing: 1472\n",
            "Patch shape: (64, 64, 13)\n",
            "(413, 64, 64, 13)\n",
            "(413, 64, 64, 13)\n",
            "2021-02-11\n",
            "shape:  5696674\n",
            "Number of patches for training: 5980\n",
            "Patch shape: (64, 64, 13)\n",
            "(1734, 64, 64, 13)\n",
            "(1734, 64, 64, 13)\n",
            "Number of patches for testing: 1472\n",
            "Patch shape: (64, 64, 13)\n",
            "(414, 64, 64, 13)\n",
            "(414, 64, 64, 13)\n",
            "2021-02-21\n",
            "shape:  5580740\n",
            "Number of patches for training: 5980\n",
            "Patch shape: (64, 64, 13)\n",
            "(1655, 64, 64, 13)\n",
            "(1655, 64, 64, 13)\n",
            "Number of patches for testing: 1472\n",
            "Patch shape: (64, 64, 13)\n",
            "(409, 64, 64, 13)\n",
            "(409, 64, 64, 13)\n",
            "2021-03-13\n",
            "shape:  5721398\n",
            "Number of patches for training: 5980\n",
            "Patch shape: (64, 64, 13)\n",
            "(1737, 64, 64, 13)\n",
            "(1737, 64, 64, 13)\n",
            "Number of patches for testing: 1472\n",
            "Patch shape: (64, 64, 13)\n",
            "(410, 64, 64, 13)\n",
            "(410, 64, 64, 13)\n",
            "2021-10-19\n",
            "shape:  5665406\n",
            "Number of patches for training: 5980\n",
            "Patch shape: (64, 64, 13)\n",
            "(1652, 64, 64, 13)\n",
            "(1652, 64, 64, 13)\n",
            "Number of patches for testing: 1472\n",
            "Patch shape: (64, 64, 13)\n",
            "(413, 64, 64, 13)\n",
            "(413, 64, 64, 13)\n",
            "2021-10-24\n",
            "shape:  5771396\n",
            "Number of patches for training: 5980\n",
            "Patch shape: (64, 64, 13)\n",
            "(1746, 64, 64, 13)\n",
            "(1746, 64, 64, 13)\n",
            "Number of patches for testing: 1472\n",
            "Patch shape: (64, 64, 13)\n",
            "(481, 64, 64, 13)\n",
            "(481, 64, 64, 13)\n",
            "2021-11-23\n",
            "shape:  5652481\n",
            "Number of patches for training: 5980\n",
            "Patch shape: (64, 64, 13)\n",
            "(1660, 64, 64, 13)\n",
            "(1660, 64, 64, 13)\n",
            "Number of patches for testing: 1472\n",
            "Patch shape: (64, 64, 13)\n",
            "(407, 64, 64, 13)\n",
            "(407, 64, 64, 13)\n",
            "2021-12-03\n",
            "shape:  5658050\n",
            "Number of patches for training: 5980\n",
            "Patch shape: (64, 64, 13)\n",
            "(1652, 64, 64, 13)\n",
            "(1652, 64, 64, 13)\n",
            "Number of patches for testing: 1472\n",
            "Patch shape: (64, 64, 13)\n",
            "(410, 64, 64, 13)\n",
            "(410, 64, 64, 13)\n",
            "2021-12-08\n",
            "shape:  5775219\n",
            "Number of patches for training: 5980\n",
            "Patch shape: (64, 64, 13)\n",
            "(1744, 64, 64, 13)\n",
            "(1744, 64, 64, 13)\n",
            "Number of patches for testing: 1472\n",
            "Patch shape: (64, 64, 13)\n",
            "(411, 64, 64, 13)\n",
            "(411, 64, 64, 13)\n",
            "2021-12-28\n",
            "shape:  5765810\n",
            "Number of patches for training: 5980\n",
            "Patch shape: (64, 64, 13)\n",
            "(1659, 64, 64, 13)\n",
            "(1659, 64, 64, 13)\n",
            "Number of patches for testing: 1472\n",
            "Patch shape: (64, 64, 13)\n",
            "(413, 64, 64, 13)\n",
            "(413, 64, 64, 13)\n"
          ]
        }
      ],
      "source": [
        "from pathlib import Path # for reincursive folders\n",
        "import gc\n",
        "import matplotlib.colors as mcolors\n",
        "\n",
        "from google.colab import files\n",
        "\n",
        "patches_test_2021 = []\n",
        "patches_train_2021 = []\n",
        "\n",
        "\n",
        "root_dir = '/content/drive/MyDrive/GEE_good_2021/'\n",
        "\n",
        "for filename in Path(root_dir).rglob('*.tif'):\n",
        "  try:\n",
        "      filename = str(filename)\n",
        "      date = filename[37:47] # select date of image\n",
        "      with rasterio.open(filename) as src:\n",
        "          image = src.read()\n",
        "      del src\n",
        "      gc.collect()\n",
        "      print(date)\n",
        "      image = stack_layers(image,ref,reference) # Remove NaN values and stack reference data\n",
        "      image = remove_nan(image) # Remove NaN values and stack reference data\n",
        "      image_reference = image[12,:,:]\n",
        "      image = np.transpose(image, (1, 2, 0))\n",
        "      image = clean_image(image)\n",
        "      image = normalize_image(image)\n",
        "\n",
        "      ### IMAGE 1\n",
        "      # Select training area:\n",
        "      image_no_1 = np.copy(image)\n",
        "      # Set pixels in specified slice to NaN\n",
        "      image_no_1[70:1035,:, :] = np.nan\n",
        "      # Train set\n",
        "      image_1 = image[70:1035,:, :]\n",
        "      # Extract patches\n",
        "      patch_size = (16, 16, 13)\n",
        "      stride = 58\n",
        "      zeroed_patches_train, zeroed_patches_test, removed_indices = extract_zeroed_patches(image_no_1, image_1, patch_size=(64, 64, 13), nan_threshold=0.9)\n",
        "\n",
        "      # append patches\n",
        "      patches_test_2021.append(zeroed_patches_test)\n",
        "      patches_train_2021.append(zeroed_patches_train)\n",
        "\n",
        "  except Exception as e:\n",
        "    # code to handle the exception\n",
        "    print(e)\n",
        "    pass"
      ]
    },
    {
      "cell_type": "code",
      "execution_count": null,
      "metadata": {
        "colab": {
          "base_uri": "https://localhost:8080/"
        },
        "outputId": "39a94e29-2b82-44d6-efc6-b742bfec1af7",
        "id": "8JzXQm1QLHlj"
      },
      "outputs": [
        {
          "output_type": "execute_result",
          "data": {
            "text/plain": [
              "(5829, 64, 64, 13)"
            ]
          },
          "metadata": {},
          "execution_count": 21
        }
      ],
      "source": [
        "patches_test_2021_array = np.concatenate(patches_test_2021, axis=0)\n",
        "patches_test_2021_array.shape\n",
        "# With no random starting point and no 10% striding: 18837 patches."
      ]
    },
    {
      "cell_type": "code",
      "execution_count": null,
      "metadata": {
        "colab": {
          "base_uri": "https://localhost:8080/"
        },
        "outputId": "09c8fd06-750e-45db-d0eb-567079e1eb00",
        "id": "uiAue12fLHlj"
      },
      "outputs": [
        {
          "output_type": "execute_result",
          "data": {
            "text/plain": [
              "(23945, 64, 64, 13)"
            ]
          },
          "metadata": {},
          "execution_count": 22
        }
      ],
      "source": [
        "patches_train_2021_array = np.concatenate(patches_train_2021, axis=0)\n",
        "patches_train_2021_array.shape\n",
        "# With no random starting point and no 10% striding: 18837 patches.\n",
        "# With random patching, no norm: 23056 patches."
      ]
    },
    {
      "cell_type": "code",
      "execution_count": null,
      "metadata": {
        "id": "orPWQR1TLHlk"
      },
      "outputs": [],
      "source": [
        "np.save('/content/drive/My Drive/Patches_64_20m/patches_test_1_2021_v2.npy', patches_test_2021_array)\n",
        "np.save('/content/drive/My Drive/Patches_64_20m/patches_train_no_1_2021_v2.npy', patches_train_2021_array)"
      ]
    },
    {
      "cell_type": "markdown",
      "metadata": {
        "id": "X7HkQvfGLHlk"
      },
      "source": [
        "## Patches 2022"
      ]
    },
    {
      "cell_type": "code",
      "execution_count": null,
      "metadata": {
        "colab": {
          "base_uri": "https://localhost:8080/"
        },
        "outputId": "7b39a1b7-5809-4dcf-ded3-7fcd8d9c0af1",
        "id": "3rlLEUfYLHlk"
      },
      "outputs": [
        {
          "output_type": "stream",
          "name": "stdout",
          "text": [
            "2022-01-12\n",
            "shape:  5776609\n",
            "Number of patches for training: 5980\n",
            "Patch shape: (64, 64, 13)\n",
            "(1654, 64, 64, 13)\n",
            "(1654, 64, 64, 13)\n",
            "Number of patches for testing: 1472\n",
            "Patch shape: (64, 64, 13)\n",
            "(412, 64, 64, 13)\n",
            "(412, 64, 64, 13)\n",
            "2022-01-22\n",
            "shape:  5657143\n",
            "Number of patches for training: 5980\n",
            "Patch shape: (64, 64, 13)\n",
            "(1713, 64, 64, 13)\n",
            "(1713, 64, 64, 13)\n",
            "Number of patches for testing: 1472\n",
            "Patch shape: (64, 64, 13)\n",
            "(414, 64, 64, 13)\n",
            "(414, 64, 64, 13)\n",
            "2022-02-21\n",
            "shape:  3293632\n",
            "Number of patches for training: 5980\n",
            "Patch shape: (64, 64, 13)\n",
            "(1480, 64, 64, 13)\n",
            "(1480, 64, 64, 13)\n",
            "Number of patches for testing: 1472\n",
            "Patch shape: (64, 64, 13)\n",
            "(328, 64, 64, 13)\n",
            "(328, 64, 64, 13)\n",
            "2022-03-03\n",
            "shape:  1391391\n",
            "Number of patches for training: 5980\n",
            "Patch shape: (64, 64, 13)\n",
            "(302, 64, 64, 13)\n",
            "(302, 64, 64, 13)\n",
            "Number of patches for testing: 1472\n",
            "Patch shape: (64, 64, 13)\n",
            "(391, 64, 64, 13)\n",
            "(391, 64, 64, 13)\n",
            "2022-11-03\n",
            "shape:  3021039\n",
            "Number of patches for training: 5980\n",
            "Patch shape: (64, 64, 13)\n",
            "(1403, 64, 64, 13)\n",
            "(1403, 64, 64, 13)\n",
            "Number of patches for testing: 1472\n",
            "Patch shape: (64, 64, 13)\n",
            "(147, 64, 64, 13)\n",
            "(147, 64, 64, 13)\n",
            "2022-11-18\n",
            "shape:  4931037\n",
            "Number of patches for training: 5980\n",
            "Patch shape: (64, 64, 13)\n",
            "(1713, 64, 64, 13)\n",
            "(1713, 64, 64, 13)\n",
            "Number of patches for testing: 1472\n",
            "Patch shape: (64, 64, 13)\n",
            "(405, 64, 64, 13)\n",
            "(405, 64, 64, 13)\n",
            "2022-11-28\n",
            "shape:  3599800\n",
            "Number of patches for training: 5980\n",
            "Patch shape: (64, 64, 13)\n",
            "(1638, 64, 64, 13)\n",
            "(1638, 64, 64, 13)\n",
            "Number of patches for testing: 1472\n",
            "Patch shape: (64, 64, 13)\n",
            "(304, 64, 64, 13)\n",
            "(304, 64, 64, 13)\n",
            "2022-12-23\n",
            "shape:  3185110\n",
            "Number of patches for training: 5980\n",
            "Patch shape: (64, 64, 13)\n",
            "(1580, 64, 64, 13)\n",
            "(1580, 64, 64, 13)\n",
            "Number of patches for testing: 1472\n",
            "Patch shape: (64, 64, 13)\n",
            "(220, 64, 64, 13)\n",
            "(220, 64, 64, 13)\n",
            "2023-01-12\n",
            "shape:  195163\n",
            "Number of patches for training: 5980\n",
            "Patch shape: (64, 64, 13)\n",
            "(254, 64, 64, 13)\n",
            "(254, 64, 64, 13)\n",
            "Number of patches for testing: 1472\n",
            "Patch shape: (64, 64, 13)\n",
            "(12, 64, 64, 13)\n",
            "(12, 64, 64, 13)\n",
            "2023-01-22\n",
            "shape:  4296615\n",
            "Number of patches for training: 5980\n",
            "Patch shape: (64, 64, 13)\n",
            "(1548, 64, 64, 13)\n",
            "(1548, 64, 64, 13)\n",
            "Number of patches for testing: 1472\n",
            "Patch shape: (64, 64, 13)\n",
            "(157, 64, 64, 13)\n",
            "(157, 64, 64, 13)\n"
          ]
        }
      ],
      "source": [
        "from pathlib import Path # for reincursive folders\n",
        "import gc\n",
        "import matplotlib.colors as mcolors\n",
        "\n",
        "from google.colab import files\n",
        "\n",
        "patches_test_2022 = []\n",
        "patches_train_2022 = []\n",
        "\n",
        "\n",
        "root_dir = '/content/drive/MyDrive/GEE_good_2022/'\n",
        "\n",
        "for filename in Path(root_dir).rglob('*.tif'):\n",
        "  try:\n",
        "      filename = str(filename)\n",
        "      date = filename[37:47] # select date of image\n",
        "      with rasterio.open(filename) as src:\n",
        "          image = src.read()\n",
        "      del src\n",
        "      gc.collect()\n",
        "      print(date)\n",
        "      image = stack_layers(image,ref,reference) # Remove NaN values and stack reference data\n",
        "      image = remove_nan(image) # Remove NaN values and stack reference data\n",
        "      image_reference = image[12,:,:]\n",
        "      image = np.transpose(image, (1, 2, 0))\n",
        "      image = clean_image(image)\n",
        "      image = normalize_image(image)\n",
        "\n",
        "      ### IMAGE 1\n",
        "      # Select training area:\n",
        "      image_no_1 = np.copy(image)\n",
        "      # Set pixels in specified slice to NaN\n",
        "      image_no_1[70:1035,:, :] = np.nan\n",
        "      # Train set\n",
        "      image_1 = image[70:1035,:, :]\n",
        "      # Extract patches\n",
        "      patch_size = (16, 16, 13)\n",
        "      stride = 58\n",
        "      zeroed_patches_train, zeroed_patches_test, removed_indices = extract_zeroed_patches(image_no_1, image_1, patch_size=(64, 64, 13), nan_threshold=0.9)\n",
        "\n",
        "      # append patches\n",
        "      patches_test_2022.append(zeroed_patches_test)\n",
        "      patches_train_2022.append(zeroed_patches_train)\n",
        "\n",
        "  except Exception as e:\n",
        "    # code to handle the exception\n",
        "    print(e)\n",
        "    pass"
      ]
    },
    {
      "cell_type": "code",
      "execution_count": null,
      "metadata": {
        "colab": {
          "base_uri": "https://localhost:8080/"
        },
        "outputId": "f3b37631-842a-487b-aed4-a15052da8f62",
        "id": "DuZItA5xLHlk"
      },
      "outputs": [
        {
          "output_type": "execute_result",
          "data": {
            "text/plain": [
              "(2790, 64, 64, 13)"
            ]
          },
          "metadata": {},
          "execution_count": 21
        }
      ],
      "source": [
        "patches_test_2022_array = np.concatenate(patches_test_2022, axis=0)\n",
        "patches_test_2022_array.shape\n",
        "# With no random starting point and no 10% striding: 2729 patches."
      ]
    },
    {
      "cell_type": "code",
      "execution_count": null,
      "metadata": {
        "colab": {
          "base_uri": "https://localhost:8080/"
        },
        "outputId": "640eedf7-8983-40ba-9436-607ceaf1727b",
        "id": "Z_ZhdierLHll"
      },
      "outputs": [
        {
          "output_type": "execute_result",
          "data": {
            "text/plain": [
              "(13285, 64, 64, 13)"
            ]
          },
          "metadata": {},
          "execution_count": 22
        }
      ],
      "source": [
        "patches_train_2022_array = np.concatenate(patches_train_2022, axis=0)\n",
        "patches_train_2022_array.shape\n",
        "# With no random starting point and no 10% striding: 10335 patches."
      ]
    },
    {
      "cell_type": "code",
      "execution_count": null,
      "metadata": {
        "colab": {
          "base_uri": "https://localhost:8080/",
          "height": 268
        },
        "outputId": "8a2f54fd-2720-452c-8f1b-37e6d756990f",
        "id": "aO2TEsoCLHll"
      },
      "outputs": [
        {
          "output_type": "display_data",
          "data": {
            "text/plain": [
              "<Figure size 432x288 with 2 Axes>"
            ],
            "image/png": "[encoded data removed]"
          },
          "metadata": {
            "needs_background": "light"
          }
        }
      ],
      "source": [
        "plt.imshow(patches_train_2022_array[213,:,:,1])\n",
        "plt.colorbar()\n",
        "plt.show()\n"
      ]
    },
    {
      "cell_type": "code",
      "execution_count": null,
      "metadata": {
        "id": "-hmffkL-LHll"
      },
      "outputs": [],
      "source": [
        "np.save('/content/drive/My Drive/Patches_64_20m/patches_test_1_2022_v2.npy', patches_test_2022_array)\n",
        "np.save('/content/drive/My Drive/Patches_64_20m/patches_train_no_1_2022_v2.npy', patches_train_2022_array)"
      ]
    },
    {
      "cell_type": "markdown",
      "metadata": {
        "id": "s_DFdX3qKXL4"
      },
      "source": [
        "# Patches 64x64 with max depth 20m. Area 2"
      ]
    },
    {
      "cell_type": "markdown",
      "metadata": {
        "id": "YfslkbqCKXL-"
      },
      "source": [
        "## Patches 2019"
      ]
    },
    {
      "cell_type": "code",
      "execution_count": null,
      "metadata": {
        "colab": {
          "base_uri": "https://localhost:8080/"
        },
        "outputId": "281ce340-07ef-4fdc-89bf-307fb615ba52",
        "id": "inJTk1DbKXL_"
      },
      "outputs": [
        {
          "output_type": "stream",
          "name": "stdout",
          "text": [
            "2018-12-19\n",
            "shape:  5507532\n",
            "\n",
            " image 2:\n",
            "Number of patches for training: 5980\n",
            "Patch shape: (64, 64, 13)\n",
            "(1743, 64, 64, 13)\n",
            "(1743, 64, 64, 13)\n",
            "Number of patches for testing: 1472\n",
            "Patch shape: (64, 64, 13)\n",
            "(369, 64, 64, 13)\n",
            "(369, 64, 64, 13)\n",
            "2019-01-03\n",
            "shape:  5757403\n",
            "\n",
            " image 2:\n",
            "Number of patches for training: 5980\n",
            "Patch shape: (64, 64, 13)\n",
            "(1758, 64, 64, 13)\n",
            "(1758, 64, 64, 13)\n",
            "Number of patches for testing: 1472\n",
            "Patch shape: (64, 64, 13)\n",
            "(402, 64, 64, 13)\n",
            "(402, 64, 64, 13)\n",
            "2019-01-08\n",
            "shape:  5776356\n",
            "\n",
            " image 2:\n",
            "Number of patches for training: 5980\n",
            "Patch shape: (64, 64, 13)\n",
            "(1748, 64, 64, 13)\n",
            "(1748, 64, 64, 13)\n",
            "Number of patches for testing: 1472\n",
            "Patch shape: (64, 64, 13)\n",
            "(399, 64, 64, 13)\n",
            "(399, 64, 64, 13)\n",
            "2019-01-13\n",
            "shape:  5688645\n",
            "\n",
            " image 2:\n",
            "Number of patches for training: 5980\n",
            "Patch shape: (64, 64, 13)\n",
            "(1659, 64, 64, 13)\n",
            "(1659, 64, 64, 13)\n",
            "Number of patches for testing: 1472\n",
            "Patch shape: (64, 64, 13)\n",
            "(400, 64, 64, 13)\n",
            "(400, 64, 64, 13)\n",
            "2019-02-02\n",
            "shape:  5723961\n",
            "\n",
            " image 2:\n",
            "Number of patches for training: 5980\n",
            "Patch shape: (64, 64, 13)\n",
            "(1731, 64, 64, 13)\n",
            "(1731, 64, 64, 13)\n",
            "Number of patches for testing: 1472\n",
            "Patch shape: (64, 64, 13)\n",
            "(399, 64, 64, 13)\n",
            "(399, 64, 64, 13)\n",
            "2019-02-12\n",
            "shape:  5742786\n",
            "\n",
            " image 2:\n",
            "Number of patches for training: 5980\n",
            "Patch shape: (64, 64, 13)\n",
            "(1761, 64, 64, 13)\n",
            "(1761, 64, 64, 13)\n",
            "Number of patches for testing: 1472\n",
            "Patch shape: (64, 64, 13)\n",
            "(399, 64, 64, 13)\n",
            "(399, 64, 64, 13)\n",
            "2019-03-14\n",
            "shape:  5571262\n",
            "\n",
            " image 2:\n",
            "Number of patches for training: 5980\n",
            "Patch shape: (64, 64, 13)\n",
            "(1734, 64, 64, 13)\n",
            "(1734, 64, 64, 13)\n",
            "Number of patches for testing: 1472\n",
            "Patch shape: (64, 64, 13)\n",
            "(392, 64, 64, 13)\n",
            "(392, 64, 64, 13)\n",
            "2019-10-10\n",
            "shape:  5549807\n",
            "\n",
            " image 2:\n",
            "Number of patches for training: 5980\n",
            "Patch shape: (64, 64, 13)\n",
            "(1723, 64, 64, 13)\n",
            "(1723, 64, 64, 13)\n",
            "Number of patches for testing: 1472\n",
            "Patch shape: (64, 64, 13)\n",
            "(384, 64, 64, 13)\n",
            "(384, 64, 64, 13)\n",
            "2019-10-15\n",
            "shape:  5391333\n",
            "\n",
            " image 2:\n",
            "Number of patches for training: 5980\n",
            "Patch shape: (64, 64, 13)\n",
            "(1730, 64, 64, 13)\n",
            "(1730, 64, 64, 13)\n",
            "Number of patches for testing: 1472\n",
            "Patch shape: (64, 64, 13)\n",
            "(373, 64, 64, 13)\n",
            "(373, 64, 64, 13)\n",
            "2019-11-04\n",
            "shape:  5768149\n",
            "\n",
            " image 2:\n",
            "Number of patches for training: 5980\n",
            "Patch shape: (64, 64, 13)\n",
            "(1662, 64, 64, 13)\n",
            "(1662, 64, 64, 13)\n",
            "Number of patches for testing: 1472\n",
            "Patch shape: (64, 64, 13)\n",
            "(398, 64, 64, 13)\n",
            "(398, 64, 64, 13)\n",
            "2019-11-14\n",
            "shape:  5767421\n",
            "\n",
            " image 2:\n",
            "Number of patches for training: 5980\n",
            "Patch shape: (64, 64, 13)\n",
            "(1675, 64, 64, 13)\n",
            "(1675, 64, 64, 13)\n",
            "Number of patches for testing: 1472\n",
            "Patch shape: (64, 64, 13)\n",
            "(403, 64, 64, 13)\n",
            "(403, 64, 64, 13)\n",
            "2019-11-19\n",
            "shape:  5657783\n",
            "\n",
            " image 2:\n",
            "Number of patches for training: 5980\n",
            "Patch shape: (64, 64, 13)\n",
            "(1741, 64, 64, 13)\n",
            "(1741, 64, 64, 13)\n",
            "Number of patches for testing: 1472\n",
            "Patch shape: (64, 64, 13)\n",
            "(392, 64, 64, 13)\n",
            "(392, 64, 64, 13)\n",
            "2019-11-24\n",
            "shape:  5775358\n",
            "\n",
            " image 2:\n",
            "Number of patches for training: 5980\n",
            "Patch shape: (64, 64, 13)\n",
            "(1762, 64, 64, 13)\n",
            "(1762, 64, 64, 13)\n",
            "Number of patches for testing: 1472\n",
            "Patch shape: (64, 64, 13)\n",
            "(448, 64, 64, 13)\n",
            "(448, 64, 64, 13)\n",
            "2019-12-09\n",
            "shape:  5675967\n",
            "\n",
            " image 2:\n",
            "Number of patches for training: 5980\n",
            "Patch shape: (64, 64, 13)\n",
            "(1763, 64, 64, 13)\n",
            "(1763, 64, 64, 13)\n",
            "Number of patches for testing: 1472\n",
            "Patch shape: (64, 64, 13)\n",
            "(396, 64, 64, 13)\n",
            "(396, 64, 64, 13)\n",
            "2019-12-29\n",
            "shape:  5743432\n",
            "\n",
            " image 2:\n",
            "Number of patches for training: 5980\n",
            "Patch shape: (64, 64, 13)\n",
            "(1674, 64, 64, 13)\n",
            "(1674, 64, 64, 13)\n",
            "Number of patches for testing: 1472\n",
            "Patch shape: (64, 64, 13)\n",
            "(398, 64, 64, 13)\n",
            "(398, 64, 64, 13)\n"
          ]
        }
      ],
      "source": [
        "from pathlib import Path # for reincursive folders\n",
        "import gc\n",
        "import matplotlib.colors as mcolors\n",
        "\n",
        "from google.colab import files\n",
        "\n",
        "patches_test_2019 = []\n",
        "patches_train_2019 = []\n",
        "\n",
        "\n",
        "root_dir = '/content/drive/MyDrive/GEE_good_2019/'\n",
        "\n",
        "for filename in Path(root_dir).rglob('*.tif'):\n",
        "  try:\n",
        "      filename = str(filename)\n",
        "      date = filename[37:47] # select date of image\n",
        "      with rasterio.open(filename) as src:\n",
        "          image = src.read()\n",
        "      del src\n",
        "      gc.collect()\n",
        "      print(date)\n",
        "      image = stack_layers(image,ref,reference) # Remove NaN values and stack reference data\n",
        "      image = remove_nan(image) # Remove NaN values and stack reference data\n",
        "      image_reference = image[12,:,:]\n",
        "      image = np.transpose(image, (1, 2, 0))\n",
        "      image = clean_image(image)\n",
        "      image = normalize_image(image)\n",
        "\n",
        "      ### IMAGE 2\n",
        "      print('\\n image 2:')\n",
        "      image_no_2 = np.copy(image)\n",
        "      image_no_2[1035:2000,:,:] = np.nan\n",
        "      image_2 = image[1035:2000,:,:]\n",
        "\n",
        "      # Extract patches\n",
        "      patch_size = (64, 64, 13)\n",
        "      stride = 58\n",
        "      zeroed_patches_train, zeroed_patches_test, removed_indices = extract_zeroed_patches(image_no_2, image_2, patch_size=(64, 64, 13), nan_threshold=0.9)\n",
        "\n",
        "      # append patches\n",
        "      patches_test_2019.append(zeroed_patches_test)\n",
        "      patches_train_2019.append(zeroed_patches_train)\n",
        "\n",
        "  except Exception as e:\n",
        "    # code to handle the exception\n",
        "    print(e)\n",
        "    pass"
      ]
    },
    {
      "cell_type": "code",
      "execution_count": null,
      "metadata": {
        "colab": {
          "base_uri": "https://localhost:8080/"
        },
        "outputId": "2d3f1d72-1445-42ef-8af7-a3e554ae8fc7",
        "id": "7GCDm4dqKXMA"
      },
      "outputs": [
        {
          "output_type": "execute_result",
          "data": {
            "text/plain": [
              "(5952, 64, 64, 13)"
            ]
          },
          "metadata": {},
          "execution_count": 21
        }
      ],
      "source": [
        "patches_test_2019_array = np.concatenate(patches_test_2019, axis=0)\n",
        "patches_test_2019_array.shape\n",
        "# With no random starting point and no 10% striding: 5100 patches."
      ]
    },
    {
      "cell_type": "code",
      "execution_count": null,
      "metadata": {
        "colab": {
          "base_uri": "https://localhost:8080/"
        },
        "outputId": "6bfaba25-0a7d-4d42-9719-072ecce138cf",
        "id": "jkGY3kv4KXMA"
      },
      "outputs": [
        {
          "output_type": "execute_result",
          "data": {
            "text/plain": [
              "(25864, 64, 64, 13)"
            ]
          },
          "metadata": {},
          "execution_count": 22
        }
      ],
      "source": [
        "patches_train_2019_array = np.concatenate(patches_train_2019, axis=0)\n",
        "patches_train_2019_array.shape\n",
        "# With no random starting point and no 10% striding: 20081 patches."
      ]
    },
    {
      "cell_type": "code",
      "execution_count": null,
      "metadata": {
        "id": "0MHST6kJKXMA"
      },
      "outputs": [],
      "source": [
        "np.save('/content/drive/My Drive/Patches_64_20m/patches_test_2_2019_v2.npy', patches_test_2019_array)\n",
        "np.save('/content/drive/My Drive/Patches_64_20m/patches_train_no_2_2019_v2.npy', patches_train_2019_array)"
      ]
    },
    {
      "cell_type": "markdown",
      "metadata": {
        "id": "a40T1iaaKXMB"
      },
      "source": [
        "## Patches 2020"
      ]
    },
    {
      "cell_type": "code",
      "execution_count": null,
      "metadata": {
        "colab": {
          "base_uri": "https://localhost:8080/"
        },
        "outputId": "a328d083-42a1-45a0-d59e-4529d6a58698",
        "id": "P7jypuE7KXMB"
      },
      "outputs": [
        {
          "output_type": "stream",
          "name": "stdout",
          "text": [
            "2020-02-02\n",
            "shape:  5769434\n",
            "\n",
            " image 2:\n",
            "Number of patches for training: 5980\n",
            "Patch shape: (64, 64, 13)\n",
            "(1754, 64, 64, 13)\n",
            "(1754, 64, 64, 13)\n",
            "Number of patches for testing: 1472\n",
            "Patch shape: (64, 64, 13)\n",
            "(396, 64, 64, 13)\n",
            "(396, 64, 64, 13)\n",
            "2020-02-12\n",
            "shape:  5496404\n",
            "\n",
            " image 2:\n",
            "Number of patches for training: 5980\n",
            "Patch shape: (64, 64, 13)\n",
            "(1723, 64, 64, 13)\n",
            "(1723, 64, 64, 13)\n",
            "Number of patches for testing: 1472\n",
            "Patch shape: (64, 64, 13)\n",
            "(402, 64, 64, 13)\n",
            "(402, 64, 64, 13)\n",
            "2020-02-17\n",
            "shape:  5762866\n",
            "\n",
            " image 2:\n",
            "Number of patches for training: 5980\n",
            "Patch shape: (64, 64, 13)\n",
            "(1759, 64, 64, 13)\n",
            "(1759, 64, 64, 13)\n",
            "Number of patches for testing: 1472\n",
            "Patch shape: (64, 64, 13)\n",
            "(403, 64, 64, 13)\n",
            "(403, 64, 64, 13)\n",
            "2020-03-13\n",
            "shape:  5607266\n",
            "\n",
            " image 2:\n",
            "Number of patches for training: 5980\n",
            "Patch shape: (64, 64, 13)\n",
            "(1750, 64, 64, 13)\n",
            "(1750, 64, 64, 13)\n",
            "Number of patches for testing: 1472\n",
            "Patch shape: (64, 64, 13)\n",
            "(376, 64, 64, 13)\n",
            "(376, 64, 64, 13)\n",
            "2020-10-09\n",
            "shape:  5690770\n",
            "\n",
            " image 2:\n",
            "Number of patches for training: 5980\n",
            "Patch shape: (64, 64, 13)\n",
            "(1755, 64, 64, 13)\n",
            "(1755, 64, 64, 13)\n",
            "Number of patches for testing: 1472\n",
            "Patch shape: (64, 64, 13)\n",
            "(396, 64, 64, 13)\n",
            "(396, 64, 64, 13)\n",
            "2020-10-19\n",
            "shape:  5771022\n",
            "\n",
            " image 2:\n",
            "Number of patches for training: 5980\n",
            "Patch shape: (64, 64, 13)\n",
            "(1764, 64, 64, 13)\n",
            "(1764, 64, 64, 13)\n",
            "Number of patches for testing: 1472\n",
            "Patch shape: (64, 64, 13)\n",
            "(397, 64, 64, 13)\n",
            "(397, 64, 64, 13)\n",
            "2020-11-13\n",
            "shape:  5709693\n",
            "\n",
            " image 2:\n",
            "Number of patches for training: 5980\n",
            "Patch shape: (64, 64, 13)\n",
            "(1744, 64, 64, 13)\n",
            "(1744, 64, 64, 13)\n",
            "Number of patches for testing: 1472\n",
            "Patch shape: (64, 64, 13)\n",
            "(397, 64, 64, 13)\n",
            "(397, 64, 64, 13)\n",
            "2020-12-13\n",
            "shape:  5736026\n",
            "\n",
            " image 2:\n",
            "Number of patches for training: 5980\n",
            "Patch shape: (64, 64, 13)\n",
            "(1666, 64, 64, 13)\n",
            "(1666, 64, 64, 13)\n",
            "Number of patches for testing: 1472\n",
            "Patch shape: (64, 64, 13)\n",
            "(396, 64, 64, 13)\n",
            "(396, 64, 64, 13)\n",
            "2020-12-18\n",
            "shape:  5759902\n",
            "\n",
            " image 2:\n",
            "Number of patches for training: 5980\n",
            "Patch shape: (64, 64, 13)\n",
            "(1774, 64, 64, 13)\n",
            "(1774, 64, 64, 13)\n",
            "Number of patches for testing: 1472\n",
            "Patch shape: (64, 64, 13)\n",
            "(395, 64, 64, 13)\n",
            "(395, 64, 64, 13)\n",
            "2020-12-23\n",
            "shape:  5721383\n",
            "\n",
            " image 2:\n",
            "Number of patches for training: 5980\n",
            "Patch shape: (64, 64, 13)\n",
            "(1661, 64, 64, 13)\n",
            "(1661, 64, 64, 13)\n",
            "Number of patches for testing: 1472\n",
            "Patch shape: (64, 64, 13)\n",
            "(403, 64, 64, 13)\n",
            "(403, 64, 64, 13)\n",
            "2020-12-28\n",
            "shape:  5776544\n",
            "\n",
            " image 2:\n",
            "Number of patches for training: 5980\n",
            "Patch shape: (64, 64, 13)\n",
            "(1758, 64, 64, 13)\n",
            "(1758, 64, 64, 13)\n",
            "Number of patches for testing: 1472\n",
            "Patch shape: (64, 64, 13)\n",
            "(396, 64, 64, 13)\n",
            "(396, 64, 64, 13)\n"
          ]
        }
      ],
      "source": [
        "from pathlib import Path # for reincursive folders\n",
        "import gc\n",
        "import matplotlib.colors as mcolors\n",
        "\n",
        "from google.colab import files\n",
        "\n",
        "patches_test_2020 = []\n",
        "patches_train_2020 = []\n",
        "\n",
        "\n",
        "root_dir = '/content/drive/MyDrive/GEE_good_2020/'\n",
        "\n",
        "for filename in Path(root_dir).rglob('*.tif'):\n",
        "  try:\n",
        "      filename = str(filename)\n",
        "      date = filename[37:47] # select date of image\n",
        "      with rasterio.open(filename) as src:\n",
        "          image = src.read()\n",
        "      del src\n",
        "      gc.collect()\n",
        "      print(date)\n",
        "      image = stack_layers(image,ref,reference) # Remove NaN values and stack reference data\n",
        "      image = remove_nan(image) # Remove NaN values and stack reference data\n",
        "      image_reference = image[12,:,:]\n",
        "      image = np.transpose(image, (1, 2, 0))\n",
        "      image = clean_image(image)\n",
        "      image = normalize_image(image)\n",
        "\n",
        "      ### IMAGE 2\n",
        "      print('\\n image 2:')\n",
        "      image_no_2 = np.copy(image)\n",
        "      image_no_2[1035:2000,:,:] = np.nan\n",
        "      image_2 = image[1035:2000,:,:]\n",
        "      # Extract patches\n",
        "      patch_size = (64, 64, 13)\n",
        "      stride = 58\n",
        "      zeroed_patches_train, zeroed_patches_test, removed_indices = extract_zeroed_patches(image_no_2, image_2, patch_size=(64, 64, 13), nan_threshold=0.9)\n",
        "\n",
        "      # append patches\n",
        "      patches_test_2020.append(zeroed_patches_test)\n",
        "      patches_train_2020.append(zeroed_patches_train)\n",
        "\n",
        "  except Exception as e:\n",
        "    # code to handle the exception\n",
        "    print(e)\n",
        "    pass"
      ]
    },
    {
      "cell_type": "code",
      "execution_count": null,
      "metadata": {
        "colab": {
          "base_uri": "https://localhost:8080/"
        },
        "outputId": "d7c7e5e8-6ec4-45fd-fde7-8476d267ce1f",
        "id": "Up1MygHYKXMB"
      },
      "outputs": [
        {
          "output_type": "execute_result",
          "data": {
            "text/plain": [
              "(4357, 64, 64, 13)"
            ]
          },
          "metadata": {},
          "execution_count": 21
        }
      ],
      "source": [
        "patches_test_2020_array = np.concatenate(patches_test_2020, axis=0)\n",
        "patches_test_2020_array.shape"
      ]
    },
    {
      "cell_type": "code",
      "execution_count": null,
      "metadata": {
        "colab": {
          "base_uri": "https://localhost:8080/"
        },
        "outputId": "8515dc59-2c06-4f28-b655-6ae442dde458",
        "id": "2l1SQofyKXMC"
      },
      "outputs": [
        {
          "output_type": "execute_result",
          "data": {
            "text/plain": [
              "(19108, 64, 64, 13)"
            ]
          },
          "metadata": {},
          "execution_count": 22
        }
      ],
      "source": [
        "patches_train_2020_array = np.concatenate(patches_train_2020, axis=0)\n",
        "patches_train_2020_array.shape\n",
        "# With no random starting point and no 10% striding: 14797 patches."
      ]
    },
    {
      "cell_type": "code",
      "execution_count": null,
      "metadata": {
        "id": "1u9WlMvwKXMC"
      },
      "outputs": [],
      "source": [
        "np.save('/content/drive/My Drive/Patches_64_20m/patches_test_2_2020_v2.npy', patches_test_2020_array)\n",
        "np.save('/content/drive/My Drive/Patches_64_20m/patches_train_no_2_2020_v2.npy', patches_train_2020_array)"
      ]
    },
    {
      "cell_type": "markdown",
      "metadata": {
        "id": "wdtgOHfxKXMC"
      },
      "source": [
        "## Patches 2021"
      ]
    },
    {
      "cell_type": "code",
      "execution_count": null,
      "metadata": {
        "colab": {
          "base_uri": "https://localhost:8080/"
        },
        "outputId": "6fdf6bfc-2e48-4d1f-8f32-b657ee63194e",
        "id": "mDa2RRebKXMD"
      },
      "outputs": [
        {
          "output_type": "stream",
          "name": "stdout",
          "text": [
            "2021-01-07\n",
            "shape:  5773538\n",
            "\n",
            " image 2:\n",
            "Number of patches for training: 5980\n",
            "Patch shape: (64, 64, 13)\n",
            "(1666, 64, 64, 13)\n",
            "(1666, 64, 64, 13)\n",
            "Number of patches for testing: 1472\n",
            "Patch shape: (64, 64, 13)\n",
            "(402, 64, 64, 13)\n",
            "(402, 64, 64, 13)\n",
            "2021-01-12\n",
            "shape:  5772530\n",
            "\n",
            " image 2:\n",
            "Number of patches for training: 5980\n",
            "Patch shape: (64, 64, 13)\n",
            "(1755, 64, 64, 13)\n",
            "(1755, 64, 64, 13)\n",
            "Number of patches for testing: 1472\n",
            "Patch shape: (64, 64, 13)\n",
            "(399, 64, 64, 13)\n",
            "(399, 64, 64, 13)\n",
            "2021-01-17\n",
            "shape:  5641571\n",
            "\n",
            " image 2:\n",
            "Number of patches for training: 5980\n",
            "Patch shape: (64, 64, 13)\n",
            "(1774, 64, 64, 13)\n",
            "(1774, 64, 64, 13)\n",
            "Number of patches for testing: 1472\n",
            "Patch shape: (64, 64, 13)\n",
            "(391, 64, 64, 13)\n",
            "(391, 64, 64, 13)\n",
            "2021-01-22\n",
            "shape:  5776372\n",
            "\n",
            " image 2:\n",
            "Number of patches for training: 5980\n",
            "Patch shape: (64, 64, 13)\n",
            "(1756, 64, 64, 13)\n",
            "(1756, 64, 64, 13)\n",
            "Number of patches for testing: 1472\n",
            "Patch shape: (64, 64, 13)\n",
            "(399, 64, 64, 13)\n",
            "(399, 64, 64, 13)\n",
            "2021-01-27\n",
            "shape:  5777107\n",
            "\n",
            " image 2:\n",
            "Number of patches for training: 5980\n",
            "Patch shape: (64, 64, 13)\n",
            "(1667, 64, 64, 13)\n",
            "(1667, 64, 64, 13)\n",
            "Number of patches for testing: 1472\n",
            "Patch shape: (64, 64, 13)\n",
            "(397, 64, 64, 13)\n",
            "(397, 64, 64, 13)\n",
            "2021-02-11\n",
            "shape:  5696674\n",
            "\n",
            " image 2:\n",
            "Number of patches for training: 5980\n",
            "Patch shape: (64, 64, 13)\n",
            "(1668, 64, 64, 13)\n",
            "(1668, 64, 64, 13)\n",
            "Number of patches for testing: 1472\n",
            "Patch shape: (64, 64, 13)\n",
            "(399, 64, 64, 13)\n",
            "(399, 64, 64, 13)\n",
            "2021-02-21\n",
            "shape:  5580740\n",
            "\n",
            " image 2:\n",
            "Number of patches for training: 5980\n",
            "Patch shape: (64, 64, 13)\n",
            "(1759, 64, 64, 13)\n",
            "(1759, 64, 64, 13)\n",
            "Number of patches for testing: 1472\n",
            "Patch shape: (64, 64, 13)\n",
            "(391, 64, 64, 13)\n",
            "(391, 64, 64, 13)\n",
            "2021-03-13\n",
            "shape:  5721398\n",
            "\n",
            " image 2:\n",
            "Number of patches for training: 5980\n",
            "Patch shape: (64, 64, 13)\n",
            "(1669, 64, 64, 13)\n",
            "(1669, 64, 64, 13)\n",
            "Number of patches for testing: 1472\n",
            "Patch shape: (64, 64, 13)\n",
            "(392, 64, 64, 13)\n",
            "(392, 64, 64, 13)\n",
            "2021-10-19\n",
            "shape:  5665406\n",
            "\n",
            " image 2:\n",
            "Number of patches for training: 5980\n",
            "Patch shape: (64, 64, 13)\n",
            "(1661, 64, 64, 13)\n",
            "(1661, 64, 64, 13)\n",
            "Number of patches for testing: 1472\n",
            "Patch shape: (64, 64, 13)\n",
            "(391, 64, 64, 13)\n",
            "(391, 64, 64, 13)\n",
            "2021-10-24\n",
            "shape:  5771396\n",
            "\n",
            " image 2:\n",
            "Number of patches for training: 5980\n",
            "Patch shape: (64, 64, 13)\n",
            "(1669, 64, 64, 13)\n",
            "(1669, 64, 64, 13)\n",
            "Number of patches for testing: 1472\n",
            "Patch shape: (64, 64, 13)\n",
            "(399, 64, 64, 13)\n",
            "(399, 64, 64, 13)\n",
            "2021-11-23\n",
            "shape:  5652481\n",
            "\n",
            " image 2:\n",
            "Number of patches for training: 5980\n",
            "Patch shape: (64, 64, 13)\n",
            "(1655, 64, 64, 13)\n",
            "(1655, 64, 64, 13)\n",
            "Number of patches for testing: 1472\n",
            "Patch shape: (64, 64, 13)\n",
            "(398, 64, 64, 13)\n",
            "(398, 64, 64, 13)\n",
            "2021-12-03\n",
            "shape:  5658050\n",
            "\n",
            " image 2:\n",
            "Number of patches for training: 5980\n",
            "Patch shape: (64, 64, 13)\n",
            "(1744, 64, 64, 13)\n",
            "(1744, 64, 64, 13)\n",
            "Number of patches for testing: 1472\n",
            "Patch shape: (64, 64, 13)\n",
            "(395, 64, 64, 13)\n",
            "(395, 64, 64, 13)\n",
            "2021-12-08\n",
            "shape:  5775219\n",
            "\n",
            " image 2:\n",
            "Number of patches for training: 5980\n",
            "Patch shape: (64, 64, 13)\n",
            "(1748, 64, 64, 13)\n",
            "(1748, 64, 64, 13)\n",
            "Number of patches for testing: 1472\n",
            "Patch shape: (64, 64, 13)\n",
            "(402, 64, 64, 13)\n",
            "(402, 64, 64, 13)\n",
            "2021-12-28\n",
            "shape:  5765810\n",
            "\n",
            " image 2:\n",
            "Number of patches for training: 5980\n",
            "Patch shape: (64, 64, 13)\n",
            "(1751, 64, 64, 13)\n",
            "(1751, 64, 64, 13)\n",
            "Number of patches for testing: 1472\n",
            "Patch shape: (64, 64, 13)\n",
            "(402, 64, 64, 13)\n",
            "(402, 64, 64, 13)\n"
          ]
        }
      ],
      "source": [
        "from pathlib import Path # for reincursive folders\n",
        "import gc\n",
        "import matplotlib.colors as mcolors\n",
        "\n",
        "from google.colab import files\n",
        "\n",
        "patches_test_2021 = []\n",
        "patches_train_2021 = []\n",
        "\n",
        "\n",
        "root_dir = '/content/drive/MyDrive/GEE_good_2021/'\n",
        "\n",
        "for filename in Path(root_dir).rglob('*.tif'):\n",
        "  try:\n",
        "      filename = str(filename)\n",
        "      date = filename[37:47] # select date of image\n",
        "      with rasterio.open(filename) as src:\n",
        "          image = src.read()\n",
        "      del src\n",
        "      gc.collect()\n",
        "      print(date)\n",
        "      image = stack_layers(image,ref,reference) # Remove NaN values and stack reference data\n",
        "      image = remove_nan(image) # Remove NaN values and stack reference data\n",
        "      image_reference = image[12,:,:]\n",
        "      image = np.transpose(image, (1, 2, 0))\n",
        "      image = clean_image(image)\n",
        "      image = normalize_image(image)\n",
        "\n",
        "      ### IMAGE 2\n",
        "      print('\\n image 2:')\n",
        "      image_no_2 = np.copy(image)\n",
        "      image_no_2[1035:2000,:,:] = np.nan\n",
        "      image_2 = image[1035:2000,:,:]\n",
        "      # Extract patches\n",
        "      patch_size = (16, 16, 13)\n",
        "      stride = 58\n",
        "      zeroed_patches_train, zeroed_patches_test, removed_indices = extract_zeroed_patches(image_no_2, image_2, patch_size=(64, 64, 13), nan_threshold=0.9)\n",
        "\n",
        "      # append patches\n",
        "      patches_test_2021.append(zeroed_patches_test)\n",
        "      patches_train_2021.append(zeroed_patches_train)\n",
        "\n",
        "  except Exception as e:\n",
        "    # code to handle the exception\n",
        "    print(e)\n",
        "    pass"
      ]
    },
    {
      "cell_type": "code",
      "execution_count": null,
      "metadata": {
        "colab": {
          "base_uri": "https://localhost:8080/"
        },
        "outputId": "1e277c5d-1101-4ea0-87ad-32982943b947",
        "id": "gh-QCHayKXMD"
      },
      "outputs": [
        {
          "output_type": "execute_result",
          "data": {
            "text/plain": [
              "(5557, 64, 64, 13)"
            ]
          },
          "metadata": {},
          "execution_count": 21
        }
      ],
      "source": [
        "patches_test_2021_array = np.concatenate(patches_test_2021, axis=0)\n",
        "patches_test_2021_array.shape\n",
        "# With no random starting point and no 10% striding: 18837 patches."
      ]
    },
    {
      "cell_type": "code",
      "execution_count": null,
      "metadata": {
        "colab": {
          "base_uri": "https://localhost:8080/"
        },
        "outputId": "92c0e891-d47f-4bf4-b80f-f74b38917dc3",
        "id": "ydrNL9JtKXMD"
      },
      "outputs": [
        {
          "output_type": "execute_result",
          "data": {
            "text/plain": [
              "(23942, 64, 64, 13)"
            ]
          },
          "metadata": {},
          "execution_count": 22
        }
      ],
      "source": [
        "patches_train_2021_array = np.concatenate(patches_train_2021, axis=0)\n",
        "patches_train_2021_array.shape\n",
        "# With no random starting point and no 10% striding: 18837 patches.\n",
        "# With random patching, no norm: 23056 patches."
      ]
    },
    {
      "cell_type": "code",
      "execution_count": null,
      "metadata": {
        "id": "ld78c4LmKXME"
      },
      "outputs": [],
      "source": [
        "np.save('/content/drive/My Drive/Patches_64_20m/patches_test_2_2021_v2.npy', patches_test_2021_array)\n",
        "np.save('/content/drive/My Drive/Patches_64_20m/patches_train_no_2_2021_v2.npy', patches_train_2021_array)"
      ]
    },
    {
      "cell_type": "markdown",
      "metadata": {
        "id": "2cSXkzzdKXME"
      },
      "source": [
        "## Patches 2022"
      ]
    },
    {
      "cell_type": "code",
      "execution_count": null,
      "metadata": {
        "colab": {
          "base_uri": "https://localhost:8080/"
        },
        "outputId": "3d380826-e19e-4e11-88a1-02c07e66c50a",
        "id": "wiEGfRjWKXME"
      },
      "outputs": [
        {
          "output_type": "stream",
          "name": "stdout",
          "text": [
            "2022-01-12\n",
            "shape:  5776609\n",
            "\n",
            " image 2:\n",
            "Number of patches for training: 5980\n",
            "Patch shape: (64, 64, 13)\n",
            "(1752, 64, 64, 13)\n",
            "(1752, 64, 64, 13)\n",
            "Number of patches for testing: 1472\n",
            "Patch shape: (64, 64, 13)\n",
            "(396, 64, 64, 13)\n",
            "(396, 64, 64, 13)\n",
            "2022-01-22\n",
            "shape:  5657143\n",
            "\n",
            " image 2:\n",
            "Number of patches for training: 5980\n",
            "Patch shape: (64, 64, 13)\n",
            "(1753, 64, 64, 13)\n",
            "(1753, 64, 64, 13)\n",
            "Number of patches for testing: 1472\n",
            "Patch shape: (64, 64, 13)\n",
            "(396, 64, 64, 13)\n",
            "(396, 64, 64, 13)\n",
            "2022-02-21\n",
            "shape:  3293632\n",
            "\n",
            " image 2:\n",
            "Number of patches for training: 5980\n",
            "Patch shape: (64, 64, 13)\n",
            "(1409, 64, 64, 13)\n",
            "(1409, 64, 64, 13)\n",
            "Number of patches for testing: 1472\n",
            "Patch shape: (64, 64, 13)\n",
            "(309, 64, 64, 13)\n",
            "(309, 64, 64, 13)\n",
            "2022-03-03\n",
            "shape:  1391391\n",
            "\n",
            " image 2:\n",
            "Number of patches for training: 5980\n",
            "Patch shape: (64, 64, 13)\n",
            "(659, 64, 64, 13)\n",
            "(659, 64, 64, 13)\n",
            "Number of patches for testing: 1472\n",
            "Patch shape: (64, 64, 13)\n",
            "(122, 64, 64, 13)\n",
            "(122, 64, 64, 13)\n",
            "2022-11-03\n",
            "shape:  3021039\n",
            "\n",
            " image 2:\n",
            "Number of patches for training: 5980\n",
            "Patch shape: (64, 64, 13)\n",
            "(1348, 64, 64, 13)\n",
            "(1348, 64, 64, 13)\n",
            "Number of patches for testing: 1472\n",
            "Patch shape: (64, 64, 13)\n",
            "(196, 64, 64, 13)\n",
            "(196, 64, 64, 13)\n",
            "2022-11-18\n",
            "shape:  4931037\n",
            "\n",
            " image 2:\n",
            "Number of patches for training: 5980\n",
            "Patch shape: (64, 64, 13)\n",
            "(1732, 64, 64, 13)\n",
            "(1732, 64, 64, 13)\n",
            "Number of patches for testing: 1472\n",
            "Patch shape: (64, 64, 13)\n",
            "(378, 64, 64, 13)\n",
            "(378, 64, 64, 13)\n",
            "2022-11-28\n",
            "shape:  3599800\n",
            "\n",
            " image 2:\n",
            "Number of patches for training: 5980\n",
            "Patch shape: (64, 64, 13)\n",
            "(1538, 64, 64, 13)\n",
            "(1538, 64, 64, 13)\n",
            "Number of patches for testing: 1472\n",
            "Patch shape: (64, 64, 13)\n",
            "(304, 64, 64, 13)\n",
            "(304, 64, 64, 13)\n",
            "2022-12-23\n",
            "shape:  3185110\n",
            "\n",
            " image 2:\n",
            "Number of patches for training: 5980\n",
            "Patch shape: (64, 64, 13)\n",
            "(1471, 64, 64, 13)\n",
            "(1471, 64, 64, 13)\n",
            "Number of patches for testing: 1472\n",
            "Patch shape: (64, 64, 13)\n",
            "(341, 64, 64, 13)\n",
            "(341, 64, 64, 13)\n",
            "2023-01-12\n",
            "shape:  195163\n",
            "\n",
            " image 2:\n",
            "Number of patches for training: 5980\n",
            "Patch shape: (64, 64, 13)\n",
            "(233, 64, 64, 13)\n",
            "(233, 64, 64, 13)\n",
            "Number of patches for testing: 1472\n",
            "Patch shape: (64, 64, 13)\n",
            "(42, 64, 64, 13)\n",
            "(42, 64, 64, 13)\n",
            "2023-01-22\n",
            "shape:  4296615\n",
            "\n",
            " image 2:\n",
            "Number of patches for training: 5980\n",
            "Patch shape: (64, 64, 13)\n",
            "(1512, 64, 64, 13)\n",
            "(1512, 64, 64, 13)\n",
            "Number of patches for testing: 1472\n",
            "Patch shape: (64, 64, 13)\n",
            "(355, 64, 64, 13)\n",
            "(355, 64, 64, 13)\n"
          ]
        }
      ],
      "source": [
        "from pathlib import Path # for reincursive folders\n",
        "import gc\n",
        "import matplotlib.colors as mcolors\n",
        "\n",
        "from google.colab import files\n",
        "\n",
        "patches_test_2022 = []\n",
        "patches_train_2022 = []\n",
        "\n",
        "\n",
        "root_dir = '/content/drive/MyDrive/GEE_good_2022/'\n",
        "\n",
        "for filename in Path(root_dir).rglob('*.tif'):\n",
        "  try:\n",
        "      filename = str(filename)\n",
        "      date = filename[37:47] # select date of image\n",
        "      with rasterio.open(filename) as src:\n",
        "          image = src.read()\n",
        "      del src\n",
        "      gc.collect()\n",
        "      print(date)\n",
        "      image = stack_layers(image,ref,reference) # Remove NaN values and stack reference data\n",
        "      image = remove_nan(image) # Remove NaN values and stack reference data\n",
        "      image_reference = image[12,:,:]\n",
        "      image = np.transpose(image, (1, 2, 0))\n",
        "      image = clean_image(image)\n",
        "      image = normalize_image(image)\n",
        "\n",
        "      ### IMAGE 2\n",
        "      print('\\n image 2:')\n",
        "      image_no_2 = np.copy(image)\n",
        "      image_no_2[1035:2000,:,:] = np.nan\n",
        "      image_2 = image[1035:2000,:,:]\n",
        "      # Extract patches\n",
        "      patch_size = (16, 16, 13)\n",
        "      stride = 58\n",
        "      zeroed_patches_train, zeroed_patches_test, removed_indices = extract_zeroed_patches(image_no_2, image_2, patch_size=(64, 64, 13), nan_threshold=0.9)\n",
        "\n",
        "      # append patches\n",
        "      patches_test_2022.append(zeroed_patches_test)\n",
        "      patches_train_2022.append(zeroed_patches_train)\n",
        "\n",
        "  except Exception as e:\n",
        "    # code to handle the exception\n",
        "    print(e)\n",
        "    pass"
      ]
    },
    {
      "cell_type": "code",
      "execution_count": null,
      "metadata": {
        "colab": {
          "base_uri": "https://localhost:8080/"
        },
        "outputId": "f82c7b8f-48d6-4937-aa9b-44b60393df54",
        "id": "qDtequYNKXMF"
      },
      "outputs": [
        {
          "output_type": "execute_result",
          "data": {
            "text/plain": [
              "(2839, 64, 64, 13)"
            ]
          },
          "metadata": {},
          "execution_count": 21
        }
      ],
      "source": [
        "patches_test_2022_array = np.concatenate(patches_test_2022, axis=0)\n",
        "patches_test_2022_array.shape\n",
        "# With no random starting point and no 10% striding: 2729 patches."
      ]
    },
    {
      "cell_type": "code",
      "execution_count": null,
      "metadata": {
        "colab": {
          "base_uri": "https://localhost:8080/"
        },
        "outputId": "758752a9-2d5e-40c7-f2f1-67935ae5e5f2",
        "id": "UO5ABCDFKXMF"
      },
      "outputs": [
        {
          "output_type": "execute_result",
          "data": {
            "text/plain": [
              "(13407, 64, 64, 13)"
            ]
          },
          "metadata": {},
          "execution_count": 22
        }
      ],
      "source": [
        "patches_train_2022_array = np.concatenate(patches_train_2022, axis=0)\n",
        "patches_train_2022_array.shape\n",
        "# With no random starting point and no 10% striding: 10335 patches."
      ]
    },
    {
      "cell_type": "code",
      "execution_count": null,
      "metadata": {
        "colab": {
          "base_uri": "https://localhost:8080/"
        },
        "outputId": "7fd67711-b0b2-4fab-9d00-9f3650f2e6a2",
        "id": "u5hhzHF0KXMG"
      },
      "outputs": [
        {
          "output_type": "display_data",
          "data": {
            "text/plain": [
              "<Figure size 432x288 with 2 Axes>"
            ],
            "image/png": "[encoded data removed]"
          },
          "metadata": {
            "needs_background": "light"
          }
        }
      ],
      "source": [
        "plt.imshow(patches_train_2022_array[213,:,:,1])\n",
        "plt.colorbar()\n",
        "plt.show()\n"
      ]
    },
    {
      "cell_type": "code",
      "execution_count": null,
      "metadata": {
        "id": "OWTqh5h3KXMG"
      },
      "outputs": [],
      "source": [
        "np.save('/content/drive/My Drive/Patches_64_20m/patches_test_2_2022_v2.npy', patches_test_2022_array)\n",
        "np.save('/content/drive/My Drive/Patches_64_20m/patches_train_no_2_2022_v2.npy', patches_train_2022_array)"
      ]
    },
    {
      "cell_type": "markdown",
      "metadata": {
        "id": "788Bq7ytUW-B"
      },
      "source": [
        "# Patches 64x64 with max depth 20m. Area 3"
      ]
    },
    {
      "cell_type": "markdown",
      "metadata": {
        "id": "VrdtooWKUW-C"
      },
      "source": [
        "## Patches 2019"
      ]
    },
    {
      "cell_type": "code",
      "execution_count": null,
      "metadata": {
        "colab": {
          "base_uri": "https://localhost:8080/"
        },
        "outputId": "6f2c0015-14c0-4188-a76c-05881c7de802",
        "id": "ikD50Wm0UW-C"
      },
      "outputs": [
        {
          "output_type": "stream",
          "name": "stdout",
          "text": [
            "2018-12-19\n",
            "shape:  5507532\n",
            "\n",
            " image 3:\n",
            "Number of patches for training: 5980\n",
            "Patch shape: (64, 64, 13)\n",
            "(1500, 64, 64, 13)\n",
            "(1500, 64, 64, 13)\n",
            "Number of patches for testing: 1440\n",
            "Patch shape: (64, 64, 13)\n",
            "(627, 64, 64, 13)\n",
            "(627, 64, 64, 13)\n",
            "2019-01-03\n",
            "shape:  5757403\n",
            "\n",
            " image 3:\n",
            "Number of patches for training: 5980\n",
            "Patch shape: (64, 64, 13)\n",
            "(1517, 64, 64, 13)\n",
            "(1517, 64, 64, 13)\n",
            "Number of patches for testing: 1440\n",
            "Patch shape: (64, 64, 13)\n",
            "(616, 64, 64, 13)\n",
            "(616, 64, 64, 13)\n",
            "2019-01-08\n",
            "shape:  5776356\n",
            "\n",
            " image 3:\n",
            "Number of patches for training: 5980\n",
            "Patch shape: (64, 64, 13)\n",
            "(1559, 64, 64, 13)\n",
            "(1559, 64, 64, 13)\n",
            "Number of patches for testing: 1440\n",
            "Patch shape: (64, 64, 13)\n",
            "(644, 64, 64, 13)\n",
            "(644, 64, 64, 13)\n",
            "2019-01-13\n",
            "shape:  5688645\n",
            "\n",
            " image 3:\n",
            "Number of patches for training: 5980\n",
            "Patch shape: (64, 64, 13)\n",
            "(1467, 64, 64, 13)\n",
            "(1467, 64, 64, 13)\n",
            "Number of patches for testing: 1440\n",
            "Patch shape: (64, 64, 13)\n",
            "(631, 64, 64, 13)\n",
            "(631, 64, 64, 13)\n",
            "2019-02-02\n",
            "shape:  5723961\n",
            "\n",
            " image 3:\n",
            "Number of patches for training: 5980\n",
            "Patch shape: (64, 64, 13)\n",
            "(1542, 64, 64, 13)\n",
            "(1542, 64, 64, 13)\n",
            "Number of patches for testing: 1440\n",
            "Patch shape: (64, 64, 13)\n",
            "(616, 64, 64, 13)\n",
            "(616, 64, 64, 13)\n",
            "2019-02-12\n",
            "shape:  5742786\n",
            "\n",
            " image 3:\n",
            "Number of patches for training: 5980\n",
            "Patch shape: (64, 64, 13)\n",
            "(1542, 64, 64, 13)\n",
            "(1542, 64, 64, 13)\n",
            "Number of patches for testing: 1440\n",
            "Patch shape: (64, 64, 13)\n",
            "(631, 64, 64, 13)\n",
            "(631, 64, 64, 13)\n",
            "2019-03-14\n",
            "shape:  5571262\n",
            "\n",
            " image 3:\n",
            "Number of patches for training: 5980\n",
            "Patch shape: (64, 64, 13)\n",
            "(1459, 64, 64, 13)\n",
            "(1459, 64, 64, 13)\n",
            "Number of patches for testing: 1440\n",
            "Patch shape: (64, 64, 13)\n",
            "(620, 64, 64, 13)\n",
            "(620, 64, 64, 13)\n",
            "2019-10-10\n",
            "shape:  5549807\n",
            "\n",
            " image 3:\n",
            "Number of patches for training: 5980\n",
            "Patch shape: (64, 64, 13)\n",
            "(1522, 64, 64, 13)\n",
            "(1522, 64, 64, 13)\n",
            "Number of patches for testing: 1440\n",
            "Patch shape: (64, 64, 13)\n",
            "(632, 64, 64, 13)\n",
            "(632, 64, 64, 13)\n",
            "2019-10-15\n",
            "shape:  5391333\n",
            "\n",
            " image 3:\n",
            "Number of patches for training: 5980\n",
            "Patch shape: (64, 64, 13)\n",
            "(1508, 64, 64, 13)\n",
            "(1508, 64, 64, 13)\n",
            "Number of patches for testing: 1440\n",
            "Patch shape: (64, 64, 13)\n",
            "(635, 64, 64, 13)\n",
            "(635, 64, 64, 13)\n",
            "2019-11-04\n",
            "shape:  5768149\n",
            "\n",
            " image 3:\n",
            "Number of patches for training: 5980\n",
            "Patch shape: (64, 64, 13)\n",
            "(1556, 64, 64, 13)\n",
            "(1556, 64, 64, 13)\n",
            "Number of patches for testing: 1440\n",
            "Patch shape: (64, 64, 13)\n",
            "(630, 64, 64, 13)\n",
            "(630, 64, 64, 13)\n",
            "2019-11-14\n",
            "shape:  5767421\n",
            "\n",
            " image 3:\n",
            "Number of patches for training: 5980\n",
            "Patch shape: (64, 64, 13)\n",
            "(1554, 64, 64, 13)\n",
            "(1554, 64, 64, 13)\n",
            "Number of patches for testing: 1440\n",
            "Patch shape: (64, 64, 13)\n",
            "(650, 64, 64, 13)\n",
            "(650, 64, 64, 13)\n",
            "2019-11-19\n",
            "shape:  5657783\n",
            "\n",
            " image 3:\n",
            "Number of patches for training: 5980\n",
            "Patch shape: (64, 64, 13)\n",
            "(1459, 64, 64, 13)\n",
            "(1459, 64, 64, 13)\n",
            "Number of patches for testing: 1440\n",
            "Patch shape: (64, 64, 13)\n",
            "(631, 64, 64, 13)\n",
            "(631, 64, 64, 13)\n",
            "2019-11-24\n",
            "shape:  5775358\n",
            "\n",
            " image 3:\n",
            "Number of patches for training: 5980\n",
            "Patch shape: (64, 64, 13)\n",
            "(1525, 64, 64, 13)\n",
            "(1525, 64, 64, 13)\n",
            "Number of patches for testing: 1440\n",
            "Patch shape: (64, 64, 13)\n",
            "(633, 64, 64, 13)\n",
            "(633, 64, 64, 13)\n",
            "2019-12-09\n",
            "shape:  5675967\n",
            "\n",
            " image 3:\n",
            "Number of patches for training: 5980\n",
            "Patch shape: (64, 64, 13)\n",
            "(1468, 64, 64, 13)\n",
            "(1468, 64, 64, 13)\n",
            "Number of patches for testing: 1440\n",
            "Patch shape: (64, 64, 13)\n",
            "(621, 64, 64, 13)\n",
            "(621, 64, 64, 13)\n",
            "2019-12-29\n",
            "shape:  5743432\n",
            "\n",
            " image 3:\n",
            "Number of patches for training: 5980\n",
            "Patch shape: (64, 64, 13)\n",
            "(1550, 64, 64, 13)\n",
            "(1550, 64, 64, 13)\n",
            "Number of patches for testing: 1440\n",
            "Patch shape: (64, 64, 13)\n",
            "(627, 64, 64, 13)\n",
            "(627, 64, 64, 13)\n"
          ]
        }
      ],
      "source": [
        "from pathlib import Path # for reincursive folders\n",
        "import gc\n",
        "import matplotlib.colors as mcolors\n",
        "\n",
        "from google.colab import files\n",
        "\n",
        "patches_test_2019 = []\n",
        "patches_train_2019 = []\n",
        "\n",
        "\n",
        "root_dir = '/content/drive/MyDrive/GEE_good_2019/'\n",
        "\n",
        "for filename in Path(root_dir).rglob('*.tif'):\n",
        "  try:\n",
        "      filename = str(filename)\n",
        "      date = filename[37:47] # select date of image\n",
        "      with rasterio.open(filename) as src:\n",
        "          image = src.read()\n",
        "      del src\n",
        "      gc.collect()\n",
        "      print(date)\n",
        "      image = stack_layers(image,ref,reference) # Remove NaN values and stack reference data\n",
        "      image = remove_nan(image) # Remove NaN values and stack reference data\n",
        "      image_reference = image[12,:,:]\n",
        "      image = np.transpose(image, (1, 2, 0))\n",
        "      image = clean_image(image)\n",
        "      image = normalize_image(image)\n",
        "\n",
        "      ### IMAGE 3\n",
        "      print('\\n image 3:')\n",
        "      image_no_3 = np.copy(image)\n",
        "      image_no_3[2000:,:2800,:] = np.nan\n",
        "      image_3 = image[2000:,:2800,:]\n",
        "\n",
        "      # Extract patches\n",
        "      patch_size = (64, 64, 13)\n",
        "      stride = 58\n",
        "      zeroed_patches_train, zeroed_patches_test, removed_indices = extract_zeroed_patches(image_no_3, image_3, patch_size=(64, 64, 13), nan_threshold=0.9)\n",
        "\n",
        "      # append patches\n",
        "      patches_test_2019.append(zeroed_patches_test)\n",
        "      patches_train_2019.append(zeroed_patches_train)\n",
        "\n",
        "  except Exception as e:\n",
        "    # code to handle the exception\n",
        "    print(e)\n",
        "    pass"
      ]
    },
    {
      "cell_type": "code",
      "execution_count": null,
      "metadata": {
        "colab": {
          "base_uri": "https://localhost:8080/"
        },
        "id": "5aF-t54UUW-D",
        "outputId": "a1259965-5d70-499d-ca3b-5db7aab81a4f"
      },
      "outputs": [
        {
          "output_type": "execute_result",
          "data": {
            "text/plain": [
              "(9444, 64, 64, 13)"
            ]
          },
          "metadata": {},
          "execution_count": 21
        }
      ],
      "source": [
        "patches_test_2019_array = np.concatenate(patches_test_2019, axis=0)\n",
        "patches_test_2019_array.shape\n",
        "# With no random starting point and no 10% striding: 5100 patches."
      ]
    },
    {
      "cell_type": "code",
      "execution_count": null,
      "metadata": {
        "colab": {
          "base_uri": "https://localhost:8080/"
        },
        "id": "trdTfWtdUW-D",
        "outputId": "2e38a10a-66b5-4325-9b62-887eb2496e45"
      },
      "outputs": [
        {
          "output_type": "execute_result",
          "data": {
            "text/plain": [
              "(22728, 64, 64, 13)"
            ]
          },
          "metadata": {},
          "execution_count": 22
        }
      ],
      "source": [
        "patches_train_2019_array = np.concatenate(patches_train_2019, axis=0)\n",
        "patches_train_2019_array.shape\n",
        "# With no random starting point and no 10% striding: 20081 patches."
      ]
    },
    {
      "cell_type": "code",
      "execution_count": null,
      "metadata": {
        "id": "yNPt9FhsUW-D"
      },
      "outputs": [],
      "source": [
        "np.save('/content/drive/My Drive/Patches_64_20m/patches_test_3_2019_v2.npy', patches_test_2019_array)\n",
        "np.save('/content/drive/My Drive/Patches_64_20m/patches_train_no_3_2019_v2.npy', patches_train_2019_array)"
      ]
    },
    {
      "cell_type": "markdown",
      "metadata": {
        "id": "Iv9T8EzRUW-D"
      },
      "source": [
        "## Patches 2020"
      ]
    },
    {
      "cell_type": "code",
      "execution_count": null,
      "metadata": {
        "colab": {
          "base_uri": "https://localhost:8080/"
        },
        "id": "NojeOF0ZUW-D",
        "outputId": "6aa5027e-e6db-4d5c-d17e-3ef59786ab88"
      },
      "outputs": [
        {
          "output_type": "stream",
          "name": "stdout",
          "text": [
            "2020-02-02\n",
            "shape:  5769434\n",
            "\n",
            " image 3:\n",
            "Number of patches for training: 5980\n",
            "Patch shape: (64, 64, 13)\n",
            "(1556, 64, 64, 13)\n",
            "(1556, 64, 64, 13)\n",
            "Number of patches for testing: 1440\n",
            "Patch shape: (64, 64, 13)\n",
            "(646, 64, 64, 13)\n",
            "(646, 64, 64, 13)\n",
            "2020-02-12\n",
            "shape:  5496404\n",
            "\n",
            " image 3:\n",
            "Number of patches for training: 5980\n",
            "Patch shape: (64, 64, 13)\n",
            "(1540, 64, 64, 13)\n",
            "(1540, 64, 64, 13)\n",
            "Number of patches for testing: 1440\n",
            "Patch shape: (64, 64, 13)\n",
            "(618, 64, 64, 13)\n",
            "(618, 64, 64, 13)\n",
            "2020-02-17\n",
            "shape:  5762866\n",
            "\n",
            " image 3:\n",
            "Number of patches for training: 5980\n",
            "Patch shape: (64, 64, 13)\n",
            "(1518, 64, 64, 13)\n",
            "(1518, 64, 64, 13)\n",
            "Number of patches for testing: 1440\n",
            "Patch shape: (64, 64, 13)\n",
            "(624, 64, 64, 13)\n",
            "(624, 64, 64, 13)\n",
            "2020-03-13\n",
            "shape:  5607266\n",
            "\n",
            " image 3:\n",
            "Number of patches for training: 5980\n",
            "Patch shape: (64, 64, 13)\n",
            "(1497, 64, 64, 13)\n",
            "(1497, 64, 64, 13)\n",
            "Number of patches for testing: 1440\n",
            "Patch shape: (64, 64, 13)\n",
            "(618, 64, 64, 13)\n",
            "(618, 64, 64, 13)\n",
            "2020-10-09\n",
            "shape:  5690770\n",
            "\n",
            " image 3:\n",
            "Number of patches for training: 5980\n",
            "Patch shape: (64, 64, 13)\n",
            "(1549, 64, 64, 13)\n",
            "(1549, 64, 64, 13)\n",
            "Number of patches for testing: 1440\n",
            "Patch shape: (64, 64, 13)\n",
            "(630, 64, 64, 13)\n",
            "(630, 64, 64, 13)\n",
            "2020-10-19\n",
            "shape:  5771022\n",
            "\n",
            " image 3:\n",
            "Number of patches for training: 5980\n",
            "Patch shape: (64, 64, 13)\n",
            "(1533, 64, 64, 13)\n",
            "(1533, 64, 64, 13)\n",
            "Number of patches for testing: 1440\n",
            "Patch shape: (64, 64, 13)\n",
            "(612, 64, 64, 13)\n",
            "(612, 64, 64, 13)\n",
            "2020-11-13\n",
            "shape:  5709693\n",
            "\n",
            " image 3:\n",
            "Number of patches for training: 5980\n",
            "Patch shape: (64, 64, 13)\n",
            "(1530, 64, 64, 13)\n",
            "(1530, 64, 64, 13)\n",
            "Number of patches for testing: 1440\n",
            "Patch shape: (64, 64, 13)\n",
            "(630, 64, 64, 13)\n",
            "(630, 64, 64, 13)\n",
            "2020-12-13\n",
            "shape:  5736026\n",
            "\n",
            " image 3:\n",
            "Number of patches for training: 5980\n",
            "Patch shape: (64, 64, 13)\n",
            "(1537, 64, 64, 13)\n",
            "(1537, 64, 64, 13)\n",
            "Number of patches for testing: 1440\n",
            "Patch shape: (64, 64, 13)\n",
            "(630, 64, 64, 13)\n",
            "(630, 64, 64, 13)\n",
            "2020-12-18\n",
            "shape:  5759902\n",
            "\n",
            " image 3:\n",
            "Number of patches for training: 5980\n",
            "Patch shape: (64, 64, 13)\n",
            "(1456, 64, 64, 13)\n",
            "(1456, 64, 64, 13)\n",
            "Number of patches for testing: 1440\n",
            "Patch shape: (64, 64, 13)\n",
            "(634, 64, 64, 13)\n",
            "(634, 64, 64, 13)\n",
            "2020-12-23\n",
            "shape:  5721383\n",
            "\n",
            " image 3:\n",
            "Number of patches for training: 5980\n",
            "Patch shape: (64, 64, 13)\n",
            "(1546, 64, 64, 13)\n",
            "(1546, 64, 64, 13)\n",
            "Number of patches for testing: 1440\n",
            "Patch shape: (64, 64, 13)\n",
            "(637, 64, 64, 13)\n",
            "(637, 64, 64, 13)\n",
            "2020-12-28\n",
            "shape:  5776544\n",
            "\n",
            " image 3:\n",
            "Number of patches for training: 5980\n",
            "Patch shape: (64, 64, 13)\n",
            "(1464, 64, 64, 13)\n",
            "(1464, 64, 64, 13)\n",
            "Number of patches for testing: 1440\n",
            "Patch shape: (64, 64, 13)\n",
            "(634, 64, 64, 13)\n",
            "(634, 64, 64, 13)\n"
          ]
        }
      ],
      "source": [
        "from pathlib import Path # for reincursive folders\n",
        "import gc\n",
        "import matplotlib.colors as mcolors\n",
        "\n",
        "from google.colab import files\n",
        "\n",
        "patches_test_2020 = []\n",
        "patches_train_2020 = []\n",
        "\n",
        "\n",
        "root_dir = '/content/drive/MyDrive/GEE_good_2020/'\n",
        "\n",
        "for filename in Path(root_dir).rglob('*.tif'):\n",
        "  try:\n",
        "      filename = str(filename)\n",
        "      date = filename[37:47] # select date of image\n",
        "      with rasterio.open(filename) as src:\n",
        "          image = src.read()\n",
        "      del src\n",
        "      gc.collect()\n",
        "      print(date)\n",
        "      image = stack_layers(image,ref,reference) # Remove NaN values and stack reference data\n",
        "      image = remove_nan(image) # Remove NaN values and stack reference data\n",
        "      image_reference = image[12,:,:]\n",
        "      image = np.transpose(image, (1, 2, 0))\n",
        "      image = clean_image(image)\n",
        "      image = normalize_image(image)\n",
        "\n",
        "      ### IMAGE 3\n",
        "      print('\\n image 3:')\n",
        "      image_no_3 = np.copy(image)\n",
        "      image_no_3[2000:,:2800,:] = np.nan\n",
        "      image_3 = image[2000:,:2800,:]\n",
        "\n",
        "      patch_size = (64, 64, 13)\n",
        "      stride = 58\n",
        "      zeroed_patches_train, zeroed_patches_test, removed_indices = extract_zeroed_patches(image_no_3, image_3, patch_size=(64, 64, 13), nan_threshold=0.9)\n",
        "\n",
        "      # append patches\n",
        "      patches_test_2020.append(zeroed_patches_test)\n",
        "      patches_train_2020.append(zeroed_patches_train)\n",
        "\n",
        "  except Exception as e:\n",
        "    # code to handle the exception\n",
        "    print(e)\n",
        "    pass"
      ]
    },
    {
      "cell_type": "code",
      "execution_count": null,
      "metadata": {
        "colab": {
          "base_uri": "https://localhost:8080/"
        },
        "id": "a0x5gRNoUW-D",
        "outputId": "e9f9f282-eca6-4278-93a9-3b393e07de24"
      },
      "outputs": [
        {
          "output_type": "execute_result",
          "data": {
            "text/plain": [
              "(6913, 64, 64, 13)"
            ]
          },
          "metadata": {},
          "execution_count": 23
        }
      ],
      "source": [
        "patches_test_2020_array = np.concatenate(patches_test_2020, axis=0)\n",
        "patches_test_2020_array.shape"
      ]
    },
    {
      "cell_type": "code",
      "execution_count": null,
      "metadata": {
        "colab": {
          "base_uri": "https://localhost:8080/"
        },
        "id": "aHlfvE5FUW-E",
        "outputId": "51be03c7-35ac-48e1-9929-cca16a73d340"
      },
      "outputs": [
        {
          "output_type": "execute_result",
          "data": {
            "text/plain": [
              "(16726, 64, 64, 13)"
            ]
          },
          "metadata": {},
          "execution_count": 24
        }
      ],
      "source": [
        "patches_train_2020_array = np.concatenate(patches_train_2020, axis=0)\n",
        "patches_train_2020_array.shape\n",
        "# With no random starting point and no 10% striding: 14797 patches."
      ]
    },
    {
      "cell_type": "code",
      "execution_count": null,
      "metadata": {
        "id": "Vt9y5KEgUW-E"
      },
      "outputs": [],
      "source": [
        "np.save('/content/drive/My Drive/Patches_64_20m/patches_test_3_2020_v2.npy', patches_test_2020_array)\n",
        "np.save('/content/drive/My Drive/Patches_64_20m/patches_train_no_3_2020_v2.npy', patches_train_2020_array)"
      ]
    },
    {
      "cell_type": "markdown",
      "metadata": {
        "id": "bJPnFItSUW-E"
      },
      "source": [
        "## Patches 2021"
      ]
    },
    {
      "cell_type": "code",
      "execution_count": null,
      "metadata": {
        "colab": {
          "base_uri": "https://localhost:8080/"
        },
        "id": "1BxFxZxVUW-F",
        "outputId": "19b7d82d-91b0-44b3-c32c-8810b7938772"
      },
      "outputs": [
        {
          "output_type": "stream",
          "name": "stdout",
          "text": [
            "2021-01-07\n",
            "shape:  5773538\n",
            "\n",
            " image 3:\n",
            "Number of patches for training: 5980\n",
            "Patch shape: (64, 64, 13)\n",
            "(1547, 64, 64, 13)\n",
            "(1547, 64, 64, 13)\n",
            "Number of patches for testing: 1440\n",
            "Patch shape: (64, 64, 13)\n",
            "(611, 64, 64, 13)\n",
            "(611, 64, 64, 13)\n",
            "2021-01-12\n",
            "shape:  5772530\n",
            "\n",
            " image 3:\n",
            "Number of patches for training: 5980\n",
            "Patch shape: (64, 64, 13)\n",
            "(1559, 64, 64, 13)\n",
            "(1559, 64, 64, 13)\n",
            "Number of patches for testing: 1440\n",
            "Patch shape: (64, 64, 13)\n",
            "(639, 64, 64, 13)\n",
            "(639, 64, 64, 13)\n",
            "2021-01-17\n",
            "shape:  5641571\n",
            "\n",
            " image 3:\n",
            "Number of patches for training: 5980\n",
            "Patch shape: (64, 64, 13)\n",
            "(1459, 64, 64, 13)\n",
            "(1459, 64, 64, 13)\n",
            "Number of patches for testing: 1440\n",
            "Patch shape: (64, 64, 13)\n",
            "(634, 64, 64, 13)\n",
            "(634, 64, 64, 13)\n",
            "2021-01-22\n",
            "shape:  5776372\n",
            "\n",
            " image 3:\n",
            "Number of patches for training: 5980\n",
            "Patch shape: (64, 64, 13)\n",
            "(1526, 64, 64, 13)\n",
            "(1526, 64, 64, 13)\n",
            "Number of patches for testing: 1440\n",
            "Patch shape: (64, 64, 13)\n",
            "(619, 64, 64, 13)\n",
            "(619, 64, 64, 13)\n",
            "2021-01-27\n",
            "shape:  5777107\n",
            "\n",
            " image 3:\n",
            "Number of patches for training: 5980\n",
            "Patch shape: (64, 64, 13)\n",
            "(1559, 64, 64, 13)\n",
            "(1559, 64, 64, 13)\n",
            "Number of patches for testing: 1440\n",
            "Patch shape: (64, 64, 13)\n",
            "(636, 64, 64, 13)\n",
            "(636, 64, 64, 13)\n",
            "2021-02-11\n",
            "shape:  5696674\n",
            "\n",
            " image 3:\n",
            "Number of patches for training: 5980\n",
            "Patch shape: (64, 64, 13)\n",
            "(1553, 64, 64, 13)\n",
            "(1553, 64, 64, 13)\n",
            "Number of patches for testing: 1440\n",
            "Patch shape: (64, 64, 13)\n",
            "(624, 64, 64, 13)\n",
            "(624, 64, 64, 13)\n",
            "2021-02-21\n",
            "shape:  5580740\n",
            "\n",
            " image 3:\n",
            "Number of patches for training: 5980\n",
            "Patch shape: (64, 64, 13)\n",
            "(1540, 64, 64, 13)\n",
            "(1540, 64, 64, 13)\n",
            "Number of patches for testing: 1440\n",
            "Patch shape: (64, 64, 13)\n",
            "(611, 64, 64, 13)\n",
            "(611, 64, 64, 13)\n",
            "2021-03-13\n",
            "shape:  5721398\n",
            "\n",
            " image 3:\n",
            "Number of patches for training: 5980\n",
            "Patch shape: (64, 64, 13)\n",
            "(1516, 64, 64, 13)\n",
            "(1516, 64, 64, 13)\n",
            "Number of patches for testing: 1440\n",
            "Patch shape: (64, 64, 13)\n",
            "(634, 64, 64, 13)\n",
            "(634, 64, 64, 13)\n",
            "2021-10-19\n",
            "shape:  5665406\n",
            "\n",
            " image 3:\n",
            "Number of patches for training: 5980\n",
            "Patch shape: (64, 64, 13)\n",
            "(1525, 64, 64, 13)\n",
            "(1525, 64, 64, 13)\n",
            "Number of patches for testing: 1440\n",
            "Patch shape: (64, 64, 13)\n",
            "(643, 64, 64, 13)\n",
            "(643, 64, 64, 13)\n",
            "2021-10-24\n",
            "shape:  5771396\n",
            "\n",
            " image 3:\n",
            "Number of patches for training: 5980\n",
            "Patch shape: (64, 64, 13)\n",
            "(1517, 64, 64, 13)\n",
            "(1517, 64, 64, 13)\n",
            "Number of patches for testing: 1440\n",
            "Patch shape: (64, 64, 13)\n",
            "(617, 64, 64, 13)\n",
            "(617, 64, 64, 13)\n",
            "2021-11-23\n",
            "shape:  5652481\n",
            "\n",
            " image 3:\n",
            "Number of patches for training: 5980\n",
            "Patch shape: (64, 64, 13)\n",
            "(1545, 64, 64, 13)\n",
            "(1545, 64, 64, 13)\n",
            "Number of patches for testing: 1440\n",
            "Patch shape: (64, 64, 13)\n",
            "(645, 64, 64, 13)\n",
            "(645, 64, 64, 13)\n",
            "2021-12-03\n",
            "shape:  5658050\n",
            "\n",
            " image 3:\n",
            "Number of patches for training: 5980\n",
            "Patch shape: (64, 64, 13)\n",
            "(1461, 64, 64, 13)\n",
            "(1461, 64, 64, 13)\n",
            "Number of patches for testing: 1440\n",
            "Patch shape: (64, 64, 13)\n",
            "(622, 64, 64, 13)\n",
            "(622, 64, 64, 13)\n",
            "2021-12-08\n",
            "shape:  5775219\n",
            "\n",
            " image 3:\n",
            "Number of patches for training: 5980\n",
            "Patch shape: (64, 64, 13)\n",
            "(1472, 64, 64, 13)\n",
            "(1472, 64, 64, 13)\n",
            "Number of patches for testing: 1440\n",
            "Patch shape: (64, 64, 13)\n",
            "(632, 64, 64, 13)\n",
            "(632, 64, 64, 13)\n",
            "2021-12-28\n",
            "shape:  5765810\n",
            "\n",
            " image 3:\n",
            "Number of patches for training: 5980\n",
            "Patch shape: (64, 64, 13)\n",
            "(1557, 64, 64, 13)\n",
            "(1557, 64, 64, 13)\n",
            "Number of patches for testing: 1440\n",
            "Patch shape: (64, 64, 13)\n",
            "(636, 64, 64, 13)\n",
            "(636, 64, 64, 13)\n"
          ]
        }
      ],
      "source": [
        "from pathlib import Path # for reincursive folders\n",
        "import gc\n",
        "import matplotlib.colors as mcolors\n",
        "\n",
        "from google.colab import files\n",
        "\n",
        "patches_test_2021 = []\n",
        "patches_train_2021 = []\n",
        "\n",
        "\n",
        "root_dir = '/content/drive/MyDrive/GEE_good_2021/'\n",
        "\n",
        "for filename in Path(root_dir).rglob('*.tif'):\n",
        "  try:\n",
        "      filename = str(filename)\n",
        "      date = filename[37:47] # select date of image\n",
        "      with rasterio.open(filename) as src:\n",
        "          image = src.read()\n",
        "      del src\n",
        "      gc.collect()\n",
        "      print(date)\n",
        "      image = stack_layers(image,ref,reference) # Remove NaN values and stack reference data\n",
        "      image = remove_nan(image) # Remove NaN values and stack reference data\n",
        "      image_reference = image[12,:,:]\n",
        "      image = np.transpose(image, (1, 2, 0))\n",
        "      image = clean_image(image)\n",
        "      image = normalize_image(image)\n",
        "\n",
        "      ### IMAGE 3\n",
        "      print('\\n image 3:')\n",
        "      image_no_3 = np.copy(image)\n",
        "      image_no_3[2000:,:2800,:] = np.nan\n",
        "      image_3 = image[2000:,:2800,:]\n",
        "\n",
        "      # Extract patches\n",
        "      stride = 58\n",
        "      zeroed_patches_train, zeroed_patches_test, removed_indices = extract_zeroed_patches(image_no_3, image_3, patch_size=(64, 64, 13), nan_threshold=0.9)\n",
        "\n",
        "      # append patches\n",
        "      patches_test_2021.append(zeroed_patches_test)\n",
        "      patches_train_2021.append(zeroed_patches_train)\n",
        "\n",
        "  except Exception as e:\n",
        "    # code to handle the exception\n",
        "    print(e)\n",
        "    pass"
      ]
    },
    {
      "cell_type": "code",
      "execution_count": null,
      "metadata": {
        "colab": {
          "base_uri": "https://localhost:8080/"
        },
        "id": "KSa7aDRIUW-F",
        "outputId": "4fd6296e-0f55-48cf-a330-07b2ea471b7d"
      },
      "outputs": [
        {
          "output_type": "execute_result",
          "data": {
            "text/plain": [
              "(8803, 64, 64, 13)"
            ]
          },
          "metadata": {},
          "execution_count": 21
        }
      ],
      "source": [
        "patches_test_2021_array = np.concatenate(patches_test_2021, axis=0)\n",
        "patches_test_2021_array.shape\n",
        "# With no random starting point and no 10% striding: 18837 patches."
      ]
    },
    {
      "cell_type": "code",
      "execution_count": null,
      "metadata": {
        "colab": {
          "base_uri": "https://localhost:8080/"
        },
        "id": "jyl0IqCLUW-F",
        "outputId": "b2f9ebc3-705c-4ca8-a57e-eddd34a467db"
      },
      "outputs": [
        {
          "output_type": "execute_result",
          "data": {
            "text/plain": [
              "(21336, 64, 64, 13)"
            ]
          },
          "metadata": {},
          "execution_count": 22
        }
      ],
      "source": [
        "patches_train_2021_array = np.concatenate(patches_train_2021, axis=0)\n",
        "patches_train_2021_array.shape\n",
        "# With no random starting point and no 10% striding: 18837 patches.\n",
        "# With random patching, no norm: 23056 patches."
      ]
    },
    {
      "cell_type": "code",
      "execution_count": null,
      "metadata": {
        "id": "ZTIRyVU1UW-F"
      },
      "outputs": [],
      "source": [
        "np.save('/content/drive/My Drive/Patches_64_20m/patches_test_3_2021_v2.npy', patches_test_2021_array)\n",
        "np.save('/content/drive/My Drive/Patches_64_20m/patches_train_no_3_2021_v2.npy', patches_train_2021_array)"
      ]
    },
    {
      "cell_type": "markdown",
      "metadata": {
        "id": "pImxljcOUW-G"
      },
      "source": [
        "## Patches 2022"
      ]
    },
    {
      "cell_type": "code",
      "execution_count": null,
      "metadata": {
        "colab": {
          "base_uri": "https://localhost:8080/"
        },
        "id": "hWc7ALdSUW-G",
        "outputId": "c8fca0d0-26f2-46be-8034-826a970c7b42"
      },
      "outputs": [
        {
          "output_type": "stream",
          "name": "stdout",
          "text": [
            "2022-01-12\n",
            "shape:  5776609\n",
            "\n",
            " image 3:\n",
            "Number of patches for training: 5980\n",
            "Patch shape: (64, 64, 13)\n",
            "(1531, 64, 64, 13)\n",
            "(1531, 64, 64, 13)\n",
            "Number of patches for testing: 1440\n",
            "Patch shape: (64, 64, 13)\n",
            "(632, 64, 64, 13)\n",
            "(632, 64, 64, 13)\n",
            "2022-01-22\n",
            "shape:  5657143\n",
            "\n",
            " image 3:\n",
            "Number of patches for training: 5980\n",
            "Patch shape: (64, 64, 13)\n",
            "(1526, 64, 64, 13)\n",
            "(1526, 64, 64, 13)\n",
            "Number of patches for testing: 1440\n",
            "Patch shape: (64, 64, 13)\n",
            "(640, 64, 64, 13)\n",
            "(640, 64, 64, 13)\n",
            "2022-02-21\n",
            "shape:  3293632\n",
            "\n",
            " image 3:\n",
            "Number of patches for training: 5980\n",
            "Patch shape: (64, 64, 13)\n",
            "(1333, 64, 64, 13)\n",
            "(1333, 64, 64, 13)\n",
            "Number of patches for testing: 1440\n",
            "Patch shape: (64, 64, 13)\n",
            "(483, 64, 64, 13)\n",
            "(483, 64, 64, 13)\n",
            "2022-03-03\n",
            "shape:  1391391\n",
            "\n",
            " image 3:\n",
            "Number of patches for training: 5980\n",
            "Patch shape: (64, 64, 13)\n",
            "(728, 64, 64, 13)\n",
            "(728, 64, 64, 13)\n",
            "Number of patches for testing: 1440\n",
            "Patch shape: (64, 64, 13)\n",
            "(64, 64, 64, 13)\n",
            "(64, 64, 64, 13)\n",
            "2022-11-03\n",
            "shape:  3021039\n",
            "\n",
            " image 3:\n",
            "Number of patches for training: 5980\n",
            "Patch shape: (64, 64, 13)\n",
            "(1024, 64, 64, 13)\n",
            "(1024, 64, 64, 13)\n",
            "Number of patches for testing: 1440\n",
            "Patch shape: (64, 64, 13)\n",
            "(538, 64, 64, 13)\n",
            "(538, 64, 64, 13)\n",
            "2022-11-18\n",
            "shape:  4931037\n",
            "\n",
            " image 3:\n",
            "Number of patches for training: 5980\n",
            "Patch shape: (64, 64, 13)\n",
            "(1405, 64, 64, 13)\n",
            "(1405, 64, 64, 13)\n",
            "Number of patches for testing: 1440\n",
            "Patch shape: (64, 64, 13)\n",
            "(633, 64, 64, 13)\n",
            "(633, 64, 64, 13)\n",
            "2022-11-28\n",
            "shape:  3599800\n",
            "\n",
            " image 3:\n",
            "Number of patches for training: 5980\n",
            "Patch shape: (64, 64, 13)\n",
            "(1332, 64, 64, 13)\n",
            "(1332, 64, 64, 13)\n",
            "Number of patches for testing: 1440\n",
            "Patch shape: (64, 64, 13)\n",
            "(625, 64, 64, 13)\n",
            "(625, 64, 64, 13)\n",
            "2022-12-23\n",
            "shape:  3185110\n",
            "\n",
            " image 3:\n",
            "Number of patches for training: 5980\n",
            "Patch shape: (64, 64, 13)\n",
            "(1121, 64, 64, 13)\n",
            "(1121, 64, 64, 13)\n",
            "Number of patches for testing: 1440\n",
            "Patch shape: (64, 64, 13)\n",
            "(621, 64, 64, 13)\n",
            "(621, 64, 64, 13)\n",
            "2023-01-12\n",
            "shape:  195163\n",
            "\n",
            " image 3:\n",
            "Number of patches for training: 5980\n",
            "Patch shape: (64, 64, 13)\n",
            "(204, 64, 64, 13)\n",
            "(204, 64, 64, 13)\n",
            "Number of patches for testing: 1440\n",
            "Patch shape: (64, 64, 13)\n",
            "(103, 64, 64, 13)\n",
            "(103, 64, 64, 13)\n",
            "2023-01-22\n",
            "shape:  4296615\n",
            "\n",
            " image 3:\n",
            "Number of patches for training: 5980\n",
            "Patch shape: (64, 64, 13)\n",
            "(1102, 64, 64, 13)\n",
            "(1102, 64, 64, 13)\n",
            "Number of patches for testing: 1440\n",
            "Patch shape: (64, 64, 13)\n",
            "(614, 64, 64, 13)\n",
            "(614, 64, 64, 13)\n"
          ]
        }
      ],
      "source": [
        "from pathlib import Path # for reincursive folders\n",
        "import gc\n",
        "import matplotlib.colors as mcolors\n",
        "\n",
        "from google.colab import files\n",
        "\n",
        "patches_test_2022 = []\n",
        "patches_train_2022 = []\n",
        "\n",
        "\n",
        "root_dir = '/content/drive/MyDrive/GEE_good_2022/'\n",
        "\n",
        "for filename in Path(root_dir).rglob('*.tif'):\n",
        "  try:\n",
        "      filename = str(filename)\n",
        "      date = filename[37:47] # select date of image\n",
        "      with rasterio.open(filename) as src:\n",
        "          image = src.read()\n",
        "      del src\n",
        "      gc.collect()\n",
        "      print(date)\n",
        "      image = stack_layers(image,ref,reference) # Remove NaN values and stack reference data\n",
        "      image = remove_nan(image) # Remove NaN values and stack reference data\n",
        "      image_reference = image[12,:,:]\n",
        "      image = np.transpose(image, (1, 2, 0))\n",
        "      image = clean_image(image)\n",
        "      image = normalize_image(image)\n",
        "\n",
        "      ### IMAGE 3\n",
        "      print('\\n image 3:')\n",
        "      image_no_3 = np.copy(image)\n",
        "      image_no_3[2000:,:2800,:] = np.nan\n",
        "      image_3 = image[2000:,:2800,:]\n",
        "\n",
        "      # Extract patches\n",
        "      patch_size = (16, 16, 13)\n",
        "      stride = 58\n",
        "      zeroed_patches_train, zeroed_patches_test, removed_indices = extract_zeroed_patches(image_no_3, image_3, patch_size=(64, 64, 13), nan_threshold=0.9)\n",
        "\n",
        "      # append patches\n",
        "      patches_test_2022.append(zeroed_patches_test)\n",
        "      patches_train_2022.append(zeroed_patches_train)\n",
        "\n",
        "  except Exception as e:\n",
        "    # code to handle the exception\n",
        "    print(e)\n",
        "    pass"
      ]
    },
    {
      "cell_type": "code",
      "execution_count": null,
      "metadata": {
        "colab": {
          "base_uri": "https://localhost:8080/"
        },
        "id": "FFqtgYEYUW-G",
        "outputId": "2d4ae526-16d3-4529-f420-2aaf1695d65d"
      },
      "outputs": [
        {
          "output_type": "execute_result",
          "data": {
            "text/plain": [
              "(4953, 64, 64, 13)"
            ]
          },
          "metadata": {},
          "execution_count": 21
        }
      ],
      "source": [
        "patches_test_2022_array = np.concatenate(patches_test_2022, axis=0)\n",
        "patches_test_2022_array.shape\n",
        "# With no random starting point and no 10% striding: 2729 patches."
      ]
    },
    {
      "cell_type": "code",
      "execution_count": null,
      "metadata": {
        "colab": {
          "base_uri": "https://localhost:8080/"
        },
        "id": "06SfbltnUW-G",
        "outputId": "fd22f230-095b-400d-ae94-1e46de0720c2"
      },
      "outputs": [
        {
          "output_type": "execute_result",
          "data": {
            "text/plain": [
              "(11306, 64, 64, 13)"
            ]
          },
          "metadata": {},
          "execution_count": 22
        }
      ],
      "source": [
        "patches_train_2022_array = np.concatenate(patches_train_2022, axis=0)\n",
        "patches_train_2022_array.shape\n",
        "# With no random starting point and no 10% striding: 10335 patches."
      ]
    },
    {
      "cell_type": "code",
      "execution_count": null,
      "metadata": {
        "colab": {
          "base_uri": "https://localhost:8080/"
        },
        "id": "KgR6HwCgUW-G",
        "outputId": "ce9a47be-8df5-4722-a383-758d69eca6cc"
      },
      "outputs": [
        {
          "output_type": "display_data",
          "data": {
            "text/plain": [
              "<Figure size 432x288 with 2 Axes>"
            ],
            "image/png": "[encoded data removed]"
          },
          "metadata": {
            "needs_background": "light"
          }
        }
      ],
      "source": [
        "plt.imshow(patches_train_2022_array[213,:,:,1])\n",
        "plt.colorbar()\n",
        "plt.show()\n"
      ]
    },
    {
      "cell_type": "code",
      "execution_count": null,
      "metadata": {
        "id": "u8oLuDz2UW-G"
      },
      "outputs": [],
      "source": [
        "np.save('/content/drive/My Drive/Patches_64_20m/patches_test_3_2022_v2.npy', patches_test_2022_array)\n",
        "np.save('/content/drive/My Drive/Patches_64_20m/patches_train_no_3_2022_v2.npy', patches_train_2022_array)"
      ]
    },
    {
      "cell_type": "markdown",
      "metadata": {
        "id": "0SMUhPl0egqC"
      },
      "source": [
        "# Patches 64x64 with max depth 20m. Area 4"
      ]
    },
    {
      "cell_type": "markdown",
      "metadata": {
        "id": "1rN-hPGQegqC"
      },
      "source": [
        "## Patches 2019"
      ]
    },
    {
      "cell_type": "code",
      "execution_count": null,
      "metadata": {
        "colab": {
          "base_uri": "https://localhost:8080/"
        },
        "outputId": "fd5f6361-737e-466f-964a-2d960bc5c733",
        "id": "dz_RtDZDegqD"
      },
      "outputs": [
        {
          "output_type": "stream",
          "name": "stdout",
          "text": [
            "2018-12-19\n",
            "shape:  5507532\n",
            "\n",
            " image 4:\n",
            "Number of patches for training: 5980\n",
            "Patch shape: (64, 64, 13)\n",
            "(1524, 64, 64, 13)\n",
            "(1524, 64, 64, 13)\n",
            "Number of patches for testing: 1320\n",
            "Patch shape: (64, 64, 13)\n",
            "(589, 64, 64, 13)\n",
            "(589, 64, 64, 13)\n",
            "2019-01-03\n",
            "shape:  5757403\n",
            "\n",
            " image 4:\n",
            "Number of patches for training: 5980\n",
            "Patch shape: (64, 64, 13)\n",
            "(1493, 64, 64, 13)\n",
            "(1493, 64, 64, 13)\n",
            "Number of patches for testing: 1320\n",
            "Patch shape: (64, 64, 13)\n",
            "(589, 64, 64, 13)\n",
            "(589, 64, 64, 13)\n",
            "2019-01-08\n",
            "shape:  5776356\n",
            "\n",
            " image 4:\n",
            "Number of patches for training: 5980\n",
            "Patch shape: (64, 64, 13)\n",
            "(1575, 64, 64, 13)\n",
            "(1575, 64, 64, 13)\n",
            "Number of patches for testing: 1320\n",
            "Patch shape: (64, 64, 13)\n",
            "(585, 64, 64, 13)\n",
            "(585, 64, 64, 13)\n",
            "2019-01-13\n",
            "shape:  5688645\n",
            "\n",
            " image 4:\n",
            "Number of patches for training: 5980\n",
            "Patch shape: (64, 64, 13)\n",
            "(1570, 64, 64, 13)\n",
            "(1570, 64, 64, 13)\n",
            "Number of patches for testing: 1320\n",
            "Patch shape: (64, 64, 13)\n",
            "(584, 64, 64, 13)\n",
            "(584, 64, 64, 13)\n",
            "2019-02-02\n",
            "shape:  5723961\n",
            "\n",
            " image 4:\n",
            "Number of patches for training: 5980\n",
            "Patch shape: (64, 64, 13)\n",
            "(1576, 64, 64, 13)\n",
            "(1576, 64, 64, 13)\n",
            "Number of patches for testing: 1320\n",
            "Patch shape: (64, 64, 13)\n",
            "(577, 64, 64, 13)\n",
            "(577, 64, 64, 13)\n",
            "2019-02-12\n",
            "shape:  5742786\n",
            "\n",
            " image 4:\n",
            "Number of patches for training: 5980\n",
            "Patch shape: (64, 64, 13)\n",
            "(1500, 64, 64, 13)\n",
            "(1500, 64, 64, 13)\n",
            "Number of patches for testing: 1320\n",
            "Patch shape: (64, 64, 13)\n",
            "(589, 64, 64, 13)\n",
            "(589, 64, 64, 13)\n",
            "2019-03-14\n",
            "shape:  5571262\n",
            "\n",
            " image 4:\n",
            "Number of patches for training: 5980\n",
            "Patch shape: (64, 64, 13)\n",
            "(1475, 64, 64, 13)\n",
            "(1475, 64, 64, 13)\n",
            "Number of patches for testing: 1320\n",
            "Patch shape: (64, 64, 13)\n",
            "(586, 64, 64, 13)\n",
            "(586, 64, 64, 13)\n",
            "2019-10-10\n",
            "shape:  5549807\n",
            "\n",
            " image 4:\n",
            "Number of patches for training: 5980\n",
            "Patch shape: (64, 64, 13)\n",
            "(1527, 64, 64, 13)\n",
            "(1527, 64, 64, 13)\n",
            "Number of patches for testing: 1320\n",
            "Patch shape: (64, 64, 13)\n",
            "(568, 64, 64, 13)\n",
            "(568, 64, 64, 13)\n",
            "2019-10-15\n",
            "shape:  5391333\n",
            "\n",
            " image 4:\n",
            "Number of patches for training: 5980\n",
            "Patch shape: (64, 64, 13)\n",
            "(1441, 64, 64, 13)\n",
            "(1441, 64, 64, 13)\n",
            "Number of patches for testing: 1320\n",
            "Patch shape: (64, 64, 13)\n",
            "(583, 64, 64, 13)\n",
            "(583, 64, 64, 13)\n",
            "2019-11-04\n",
            "shape:  5768149\n",
            "\n",
            " image 4:\n",
            "Number of patches for training: 5980\n",
            "Patch shape: (64, 64, 13)\n",
            "(1579, 64, 64, 13)\n",
            "(1579, 64, 64, 13)\n",
            "Number of patches for testing: 1320\n",
            "Patch shape: (64, 64, 13)\n",
            "(585, 64, 64, 13)\n",
            "(585, 64, 64, 13)\n",
            "2019-11-14\n",
            "shape:  5767421\n",
            "\n",
            " image 4:\n",
            "Number of patches for training: 5980\n",
            "Patch shape: (64, 64, 13)\n",
            "(1576, 64, 64, 13)\n",
            "(1576, 64, 64, 13)\n",
            "Number of patches for testing: 1320\n",
            "Patch shape: (64, 64, 13)\n",
            "(615, 64, 64, 13)\n",
            "(615, 64, 64, 13)\n",
            "2019-11-19\n",
            "shape:  5657783\n",
            "\n",
            " image 4:\n",
            "Number of patches for training: 5980\n",
            "Patch shape: (64, 64, 13)\n",
            "(1563, 64, 64, 13)\n",
            "(1563, 64, 64, 13)\n",
            "Number of patches for testing: 1320\n",
            "Patch shape: (64, 64, 13)\n",
            "(579, 64, 64, 13)\n",
            "(579, 64, 64, 13)\n",
            "2019-11-24\n",
            "shape:  5775358\n",
            "\n",
            " image 4:\n",
            "Number of patches for training: 5980\n",
            "Patch shape: (64, 64, 13)\n",
            "(1487, 64, 64, 13)\n",
            "(1487, 64, 64, 13)\n",
            "Number of patches for testing: 1320\n",
            "Patch shape: (64, 64, 13)\n",
            "(587, 64, 64, 13)\n",
            "(587, 64, 64, 13)\n",
            "2019-12-09\n",
            "shape:  5675967\n",
            "\n",
            " image 4:\n",
            "Number of patches for training: 5980\n",
            "Patch shape: (64, 64, 13)\n",
            "(1573, 64, 64, 13)\n",
            "(1573, 64, 64, 13)\n",
            "Number of patches for testing: 1320\n",
            "Patch shape: (64, 64, 13)\n",
            "(588, 64, 64, 13)\n",
            "(588, 64, 64, 13)\n",
            "2019-12-29\n",
            "shape:  5743432\n",
            "\n",
            " image 4:\n",
            "Number of patches for training: 5980\n",
            "Patch shape: (64, 64, 13)\n",
            "(1575, 64, 64, 13)\n",
            "(1575, 64, 64, 13)\n",
            "Number of patches for testing: 1320\n",
            "Patch shape: (64, 64, 13)\n",
            "(590, 64, 64, 13)\n",
            "(590, 64, 64, 13)\n"
          ]
        }
      ],
      "source": [
        "from pathlib import Path # for reincursive folders\n",
        "import gc\n",
        "import matplotlib.colors as mcolors\n",
        "\n",
        "from google.colab import files\n",
        "\n",
        "patches_test_2019 = []\n",
        "patches_train_2019 = []\n",
        "\n",
        "\n",
        "root_dir = '/content/drive/MyDrive/GEE_good_2019/'\n",
        "\n",
        "for filename in Path(root_dir).rglob('*.tif'):\n",
        "  try:\n",
        "      filename = str(filename)\n",
        "      date = filename[37:47] # select date of image\n",
        "      with rasterio.open(filename) as src:\n",
        "          image = src.read()\n",
        "      del src\n",
        "      gc.collect()\n",
        "      print(date)\n",
        "      image = stack_layers(image,ref,reference) # Remove NaN values and stack reference data\n",
        "      image = remove_nan(image) # Remove NaN values and stack reference data\n",
        "      image_reference = image[12,:,:]\n",
        "      image = np.transpose(image, (1, 2, 0))\n",
        "      image = clean_image(image)\n",
        "      image = normalize_image(image)\n",
        "\n",
        "      ### IMAGE 4\n",
        "      print('\\n image 4:')\n",
        "      image_no_4 = np.copy(image)\n",
        "      image_no_4[2000:,2800:,:] = np.nan\n",
        "      image_4 = image[2000:,2800:,:]\n",
        "\n",
        "      # Extract patches\n",
        "      patch_size = (64, 64, 13)\n",
        "      stride = 58\n",
        "      zeroed_patches_train, zeroed_patches_test, removed_indices = extract_zeroed_patches(image_no_4, image_4, patch_size=(64, 64, 13), nan_threshold=0.9)\n",
        "\n",
        "      # append patches\n",
        "      patches_test_2019.append(zeroed_patches_test)\n",
        "      patches_train_2019.append(zeroed_patches_train)\n",
        "\n",
        "  except Exception as e:\n",
        "    # code to handle the exception\n",
        "    print(e)\n",
        "    pass"
      ]
    },
    {
      "cell_type": "code",
      "execution_count": null,
      "metadata": {
        "colab": {
          "base_uri": "https://localhost:8080/"
        },
        "outputId": "e1cf6384-f096-4718-fb84-daf9e5b3de89",
        "id": "FIPB-n2-egqD"
      },
      "outputs": [
        {
          "output_type": "execute_result",
          "data": {
            "text/plain": [
              "(8794, 64, 64, 13)"
            ]
          },
          "metadata": {},
          "execution_count": 21
        }
      ],
      "source": [
        "patches_test_2019_array = np.concatenate(patches_test_2019, axis=0)\n",
        "patches_test_2019_array.shape\n",
        "# With no random starting point and no 10% striding: 5100 patches."
      ]
    },
    {
      "cell_type": "code",
      "execution_count": null,
      "metadata": {
        "colab": {
          "base_uri": "https://localhost:8080/"
        },
        "outputId": "f8cae39f-8d6a-44c6-8449-b990dabc1c2e",
        "id": "Q3zSc_3UegqD"
      },
      "outputs": [
        {
          "output_type": "execute_result",
          "data": {
            "text/plain": [
              "(23034, 64, 64, 13)"
            ]
          },
          "metadata": {},
          "execution_count": 22
        }
      ],
      "source": [
        "patches_train_2019_array = np.concatenate(patches_train_2019, axis=0)\n",
        "patches_train_2019_array.shape\n",
        "# With no random starting point and no 10% striding: 20081 patches."
      ]
    },
    {
      "cell_type": "code",
      "execution_count": null,
      "metadata": {
        "id": "zkdVYZwuegqD"
      },
      "outputs": [],
      "source": [
        "np.save('/content/drive/My Drive/Patches_64_20m/patches_test_4_2019_v2.npy', patches_test_2019_array)\n",
        "np.save('/content/drive/My Drive/Patches_64_20m/patches_train_no_4_2019_v2.npy', patches_train_2019_array)"
      ]
    },
    {
      "cell_type": "markdown",
      "metadata": {
        "id": "ljPvux9TegqD"
      },
      "source": [
        "## Patches 2020"
      ]
    },
    {
      "cell_type": "code",
      "execution_count": null,
      "metadata": {
        "colab": {
          "base_uri": "https://localhost:8080/"
        },
        "outputId": "c969f1e9-2c72-4fef-c272-0de32d3de1fc",
        "id": "_6kGhnOEegqD"
      },
      "outputs": [
        {
          "output_type": "stream",
          "name": "stdout",
          "text": [
            "2020-02-02\n",
            "shape:  5769434\n",
            "\n",
            " image 4:\n",
            "Number of patches for training: 5980\n",
            "Patch shape: (64, 64, 13)\n",
            "(1581, 64, 64, 13)\n",
            "(1581, 64, 64, 13)\n",
            "Number of patches for testing: 1320\n",
            "Patch shape: (64, 64, 13)\n",
            "(588, 64, 64, 13)\n",
            "(588, 64, 64, 13)\n",
            "2020-02-12\n",
            "shape:  5496404\n",
            "\n",
            " image 4:\n",
            "Number of patches for training: 5980\n",
            "Patch shape: (64, 64, 13)\n",
            "(1542, 64, 64, 13)\n",
            "(1542, 64, 64, 13)\n",
            "Number of patches for testing: 1320\n",
            "Patch shape: (64, 64, 13)\n",
            "(617, 64, 64, 13)\n",
            "(617, 64, 64, 13)\n",
            "2020-02-17\n",
            "shape:  5762866\n",
            "\n",
            " image 4:\n",
            "Number of patches for training: 5980\n",
            "Patch shape: (64, 64, 13)\n",
            "(1483, 64, 64, 13)\n",
            "(1483, 64, 64, 13)\n",
            "Number of patches for testing: 1320\n",
            "Patch shape: (64, 64, 13)\n",
            "(587, 64, 64, 13)\n",
            "(587, 64, 64, 13)\n",
            "2020-03-13\n",
            "shape:  5607266\n",
            "\n",
            " image 4:\n",
            "Number of patches for training: 5980\n",
            "Patch shape: (64, 64, 13)\n",
            "(1545, 64, 64, 13)\n",
            "(1545, 64, 64, 13)\n",
            "Number of patches for testing: 1320\n",
            "Patch shape: (64, 64, 13)\n",
            "(590, 64, 64, 13)\n",
            "(590, 64, 64, 13)\n",
            "2020-10-09\n",
            "shape:  5690770\n",
            "\n",
            " image 4:\n",
            "Number of patches for training: 5980\n",
            "Patch shape: (64, 64, 13)\n",
            "(1474, 64, 64, 13)\n",
            "(1474, 64, 64, 13)\n",
            "Number of patches for testing: 1320\n",
            "Patch shape: (64, 64, 13)\n",
            "(585, 64, 64, 13)\n",
            "(585, 64, 64, 13)\n",
            "2020-10-19\n",
            "shape:  5771022\n",
            "\n",
            " image 4:\n",
            "Number of patches for training: 5980\n",
            "Patch shape: (64, 64, 13)\n",
            "(1578, 64, 64, 13)\n",
            "(1578, 64, 64, 13)\n",
            "Number of patches for testing: 1320\n",
            "Patch shape: (64, 64, 13)\n",
            "(584, 64, 64, 13)\n",
            "(584, 64, 64, 13)\n",
            "2020-11-13\n",
            "shape:  5709693\n",
            "\n",
            " image 4:\n",
            "Number of patches for training: 5980\n",
            "Patch shape: (64, 64, 13)\n",
            "(1487, 64, 64, 13)\n",
            "(1487, 64, 64, 13)\n",
            "Number of patches for testing: 1320\n",
            "Patch shape: (64, 64, 13)\n",
            "(583, 64, 64, 13)\n",
            "(583, 64, 64, 13)\n",
            "2020-12-13\n",
            "shape:  5736026\n",
            "\n",
            " image 4:\n",
            "Number of patches for training: 5980\n",
            "Patch shape: (64, 64, 13)\n",
            "(1497, 64, 64, 13)\n",
            "(1497, 64, 64, 13)\n",
            "Number of patches for testing: 1320\n",
            "Patch shape: (64, 64, 13)\n",
            "(587, 64, 64, 13)\n",
            "(587, 64, 64, 13)\n",
            "2020-12-18\n",
            "shape:  5759902\n",
            "\n",
            " image 4:\n",
            "Number of patches for training: 5980\n",
            "Patch shape: (64, 64, 13)\n",
            "(1588, 64, 64, 13)\n",
            "(1588, 64, 64, 13)\n",
            "Number of patches for testing: 1320\n",
            "Patch shape: (64, 64, 13)\n",
            "(617, 64, 64, 13)\n",
            "(617, 64, 64, 13)\n",
            "2020-12-23\n",
            "shape:  5721383\n",
            "\n",
            " image 4:\n",
            "Number of patches for training: 5980\n",
            "Patch shape: (64, 64, 13)\n",
            "(1492, 64, 64, 13)\n",
            "(1492, 64, 64, 13)\n",
            "Number of patches for testing: 1320\n",
            "Patch shape: (64, 64, 13)\n",
            "(580, 64, 64, 13)\n",
            "(580, 64, 64, 13)\n",
            "2020-12-28\n",
            "shape:  5776544\n",
            "\n",
            " image 4:\n",
            "Number of patches for training: 5980\n",
            "Patch shape: (64, 64, 13)\n",
            "(1575, 64, 64, 13)\n",
            "(1575, 64, 64, 13)\n",
            "Number of patches for testing: 1320\n",
            "Patch shape: (64, 64, 13)\n",
            "(587, 64, 64, 13)\n",
            "(587, 64, 64, 13)\n"
          ]
        }
      ],
      "source": [
        "from pathlib import Path # for reincursive folders\n",
        "import gc\n",
        "import matplotlib.colors as mcolors\n",
        "\n",
        "from google.colab import files\n",
        "\n",
        "patches_test_2020 = []\n",
        "patches_train_2020 = []\n",
        "\n",
        "\n",
        "root_dir = '/content/drive/MyDrive/GEE_good_2020/'\n",
        "\n",
        "for filename in Path(root_dir).rglob('*.tif'):\n",
        "  try:\n",
        "      filename = str(filename)\n",
        "      date = filename[37:47] # select date of image\n",
        "      with rasterio.open(filename) as src:\n",
        "          image = src.read()\n",
        "      del src\n",
        "      gc.collect()\n",
        "      print(date)\n",
        "      image = stack_layers(image,ref,reference) # Remove NaN values and stack reference data\n",
        "      image = remove_nan(image) # Remove NaN values and stack reference data\n",
        "      image_reference = image[12,:,:]\n",
        "      image = np.transpose(image, (1, 2, 0))\n",
        "      image = clean_image(image)\n",
        "      image = normalize_image(image)\n",
        "\n",
        "      ### IMAGE 4\n",
        "      print('\\n image 4:')\n",
        "      image_no_4 = np.copy(image)\n",
        "      image_no_4[2000:,2800:,:] = np.nan\n",
        "      image_4 = image[2000:,2800:,:]\n",
        "\n",
        "      # Extract patches\n",
        "      patch_size = (64, 64, 13)\n",
        "      stride = 58\n",
        "      zeroed_patches_train, zeroed_patches_test, removed_indices = extract_zeroed_patches(image_no_4, image_4, patch_size=(64, 64, 13), nan_threshold=0.9)\n",
        "\n",
        "      # append patches\n",
        "      patches_test_2020.append(zeroed_patches_test)\n",
        "      patches_train_2020.append(zeroed_patches_train)\n",
        "\n",
        "  except Exception as e:\n",
        "    # code to handle the exception\n",
        "    print(e)\n",
        "    pass"
      ]
    },
    {
      "cell_type": "code",
      "execution_count": null,
      "metadata": {
        "colab": {
          "base_uri": "https://localhost:8080/"
        },
        "outputId": "0a746aa6-0ef1-4bb7-8f94-3e87024f5ba4",
        "id": "gppzFrxBegqE"
      },
      "outputs": [
        {
          "output_type": "execute_result",
          "data": {
            "text/plain": [
              "(6505, 64, 64, 13)"
            ]
          },
          "metadata": {},
          "execution_count": 21
        }
      ],
      "source": [
        "patches_test_2020_array = np.concatenate(patches_test_2020, axis=0)\n",
        "patches_test_2020_array.shape"
      ]
    },
    {
      "cell_type": "code",
      "execution_count": null,
      "metadata": {
        "colab": {
          "base_uri": "https://localhost:8080/"
        },
        "outputId": "31d84332-be3a-4789-83b5-516daf8c478f",
        "id": "9Hh5haBSegqE"
      },
      "outputs": [
        {
          "output_type": "execute_result",
          "data": {
            "text/plain": [
              "(16842, 64, 64, 13)"
            ]
          },
          "metadata": {},
          "execution_count": 22
        }
      ],
      "source": [
        "patches_train_2020_array = np.concatenate(patches_train_2020, axis=0)\n",
        "patches_train_2020_array.shape\n",
        "# With no random starting point and no 10% striding: 14797 patches."
      ]
    },
    {
      "cell_type": "code",
      "execution_count": null,
      "metadata": {
        "id": "-ClfWtCGegqE"
      },
      "outputs": [],
      "source": [
        "np.save('/content/drive/My Drive/Patches_64_20m/patches_test_4_2020_v2.npy', patches_test_2020_array)\n",
        "np.save('/content/drive/My Drive/Patches_64_20m/patches_train_no_4_2020_v2.npy', patches_train_2020_array)"
      ]
    },
    {
      "cell_type": "markdown",
      "metadata": {
        "id": "mkvr9fmIegqE"
      },
      "source": [
        "## Patches 2021"
      ]
    },
    {
      "cell_type": "code",
      "execution_count": null,
      "metadata": {
        "colab": {
          "base_uri": "https://localhost:8080/"
        },
        "outputId": "4c207565-c3d6-497e-caec-b2173f406652",
        "id": "S8hpy3UNegqE"
      },
      "outputs": [
        {
          "output_type": "stream",
          "name": "stdout",
          "text": [
            "2021-01-07\n",
            "shape:  5773538\n",
            "\n",
            " image 4:\n",
            "Number of patches for training: 5980\n",
            "Patch shape: (64, 64, 13)\n",
            "(1496, 64, 64, 13)\n",
            "(1496, 64, 64, 13)\n",
            "Number of patches for testing: 1320\n",
            "Patch shape: (64, 64, 13)\n",
            "(589, 64, 64, 13)\n",
            "(589, 64, 64, 13)\n",
            "2021-01-12\n",
            "shape:  5772530\n",
            "\n",
            " image 4:\n",
            "Number of patches for training: 5980\n",
            "Patch shape: (64, 64, 13)\n",
            "(1575, 64, 64, 13)\n",
            "(1575, 64, 64, 13)\n",
            "Number of patches for testing: 1320\n",
            "Patch shape: (64, 64, 13)\n",
            "(588, 64, 64, 13)\n",
            "(588, 64, 64, 13)\n",
            "2021-01-17\n",
            "shape:  5641571\n",
            "\n",
            " image 4:\n",
            "Number of patches for training: 5980\n",
            "Patch shape: (64, 64, 13)\n",
            "(1581, 64, 64, 13)\n",
            "(1581, 64, 64, 13)\n",
            "Number of patches for testing: 1320\n",
            "Patch shape: (64, 64, 13)\n",
            "(585, 64, 64, 13)\n",
            "(585, 64, 64, 13)\n",
            "2021-01-22\n",
            "shape:  5776372\n",
            "\n",
            " image 4:\n",
            "Number of patches for training: 5980\n",
            "Patch shape: (64, 64, 13)\n",
            "(1576, 64, 64, 13)\n",
            "(1576, 64, 64, 13)\n",
            "Number of patches for testing: 1320\n",
            "Patch shape: (64, 64, 13)\n",
            "(584, 64, 64, 13)\n",
            "(584, 64, 64, 13)\n",
            "2021-01-27\n",
            "shape:  5777107\n",
            "\n",
            " image 4:\n",
            "Number of patches for training: 5980\n",
            "Patch shape: (64, 64, 13)\n",
            "(1587, 64, 64, 13)\n",
            "(1587, 64, 64, 13)\n",
            "Number of patches for testing: 1320\n",
            "Patch shape: (64, 64, 13)\n",
            "(587, 64, 64, 13)\n",
            "(587, 64, 64, 13)\n",
            "2021-02-11\n",
            "shape:  5696674\n",
            "\n",
            " image 4:\n",
            "Number of patches for training: 5980\n",
            "Patch shape: (64, 64, 13)\n",
            "(1479, 64, 64, 13)\n",
            "(1479, 64, 64, 13)\n",
            "Number of patches for testing: 1320\n",
            "Patch shape: (64, 64, 13)\n",
            "(581, 64, 64, 13)\n",
            "(581, 64, 64, 13)\n",
            "2021-02-21\n",
            "shape:  5580740\n",
            "\n",
            " image 4:\n",
            "Number of patches for training: 5980\n",
            "Patch shape: (64, 64, 13)\n",
            "(1562, 64, 64, 13)\n",
            "(1562, 64, 64, 13)\n",
            "Number of patches for testing: 1320\n",
            "Patch shape: (64, 64, 13)\n",
            "(583, 64, 64, 13)\n",
            "(583, 64, 64, 13)\n",
            "2021-03-13\n",
            "shape:  5721398\n",
            "\n",
            " image 4:\n",
            "Number of patches for training: 5980\n",
            "Patch shape: (64, 64, 13)\n",
            "(1574, 64, 64, 13)\n",
            "(1574, 64, 64, 13)\n",
            "Number of patches for testing: 1320\n",
            "Patch shape: (64, 64, 13)\n",
            "(590, 64, 64, 13)\n",
            "(590, 64, 64, 13)\n",
            "2021-10-19\n",
            "shape:  5665406\n",
            "\n",
            " image 4:\n",
            "Number of patches for training: 5980\n",
            "Patch shape: (64, 64, 13)\n",
            "(1557, 64, 64, 13)\n",
            "(1557, 64, 64, 13)\n",
            "Number of patches for testing: 1320\n",
            "Patch shape: (64, 64, 13)\n",
            "(591, 64, 64, 13)\n",
            "(591, 64, 64, 13)\n",
            "2021-10-24\n",
            "shape:  5771396\n",
            "\n",
            " image 4:\n",
            "Number of patches for training: 5980\n",
            "Patch shape: (64, 64, 13)\n",
            "(1568, 64, 64, 13)\n",
            "(1568, 64, 64, 13)\n",
            "Number of patches for testing: 1320\n",
            "Patch shape: (64, 64, 13)\n",
            "(584, 64, 64, 13)\n",
            "(584, 64, 64, 13)\n",
            "2021-11-23\n",
            "shape:  5652481\n",
            "\n",
            " image 4:\n",
            "Number of patches for training: 5980\n",
            "Patch shape: (64, 64, 13)\n",
            "(1573, 64, 64, 13)\n",
            "(1573, 64, 64, 13)\n",
            "Number of patches for testing: 1320\n",
            "Patch shape: (64, 64, 13)\n",
            "(588, 64, 64, 13)\n",
            "(588, 64, 64, 13)\n",
            "2021-12-03\n",
            "shape:  5658050\n",
            "\n",
            " image 4:\n",
            "Number of patches for training: 5980\n",
            "Patch shape: (64, 64, 13)\n",
            "(1541, 64, 64, 13)\n",
            "(1541, 64, 64, 13)\n",
            "Number of patches for testing: 1320\n",
            "Patch shape: (64, 64, 13)\n",
            "(584, 64, 64, 13)\n",
            "(584, 64, 64, 13)\n",
            "2021-12-08\n",
            "shape:  5775219\n",
            "\n",
            " image 4:\n",
            "Number of patches for training: 5980\n",
            "Patch shape: (64, 64, 13)\n",
            "(1572, 64, 64, 13)\n",
            "(1572, 64, 64, 13)\n",
            "Number of patches for testing: 1320\n",
            "Patch shape: (64, 64, 13)\n",
            "(586, 64, 64, 13)\n",
            "(586, 64, 64, 13)\n",
            "2021-12-28\n",
            "shape:  5765810\n",
            "\n",
            " image 4:\n",
            "Number of patches for training: 5980\n",
            "Patch shape: (64, 64, 13)\n",
            "(1579, 64, 64, 13)\n",
            "(1579, 64, 64, 13)\n",
            "Number of patches for testing: 1320\n",
            "Patch shape: (64, 64, 13)\n",
            "(586, 64, 64, 13)\n",
            "(586, 64, 64, 13)\n"
          ]
        }
      ],
      "source": [
        "from pathlib import Path # for reincursive folders\n",
        "import gc\n",
        "import matplotlib.colors as mcolors\n",
        "\n",
        "from google.colab import files\n",
        "\n",
        "patches_test_2021 = []\n",
        "patches_train_2021 = []\n",
        "\n",
        "\n",
        "root_dir = '/content/drive/MyDrive/GEE_good_2021/'\n",
        "\n",
        "for filename in Path(root_dir).rglob('*.tif'):\n",
        "  try:\n",
        "      filename = str(filename)\n",
        "      date = filename[37:47] # select date of image\n",
        "      with rasterio.open(filename) as src:\n",
        "          image = src.read()\n",
        "      del src\n",
        "      gc.collect()\n",
        "      print(date)\n",
        "      image = stack_layers(image,ref,reference) # Remove NaN values and stack reference data\n",
        "      image = remove_nan(image) # Remove NaN values and stack reference data\n",
        "      image_reference = image[12,:,:]\n",
        "      image = np.transpose(image, (1, 2, 0))\n",
        "      image = clean_image(image)\n",
        "      image = normalize_image(image)\n",
        "\n",
        "      ### IMAGE 4\n",
        "      print('\\n image 4:')\n",
        "      image_no_4 = np.copy(image)\n",
        "      image_no_4[2000:,2800:,:] = np.nan\n",
        "      image_4 = image[2000:,2800:,:]\n",
        "\n",
        "      # Extract patches\n",
        "      stride = 58\n",
        "      zeroed_patches_train, zeroed_patches_test, removed_indices = extract_zeroed_patches(image_no_4, image_4, patch_size=(64, 64, 13), nan_threshold=0.9)\n",
        "\n",
        "      # append patches\n",
        "      patches_test_2021.append(zeroed_patches_test)\n",
        "      patches_train_2021.append(zeroed_patches_train)\n",
        "\n",
        "  except Exception as e:\n",
        "    # code to handle the exception\n",
        "    print(e)\n",
        "    pass"
      ]
    },
    {
      "cell_type": "code",
      "execution_count": null,
      "metadata": {
        "colab": {
          "base_uri": "https://localhost:8080/"
        },
        "outputId": "50b9898b-baf9-47ff-a783-8723c5940e7d",
        "id": "HCwiAlS1egqE"
      },
      "outputs": [
        {
          "output_type": "execute_result",
          "data": {
            "text/plain": [
              "(8206, 64, 64, 13)"
            ]
          },
          "metadata": {},
          "execution_count": 21
        }
      ],
      "source": [
        "patches_test_2021_array = np.concatenate(patches_test_2021, axis=0)\n",
        "patches_test_2021_array.shape\n",
        "# With no random starting point and no 10% striding: 18837 patches."
      ]
    },
    {
      "cell_type": "code",
      "execution_count": null,
      "metadata": {
        "colab": {
          "base_uri": "https://localhost:8080/"
        },
        "outputId": "c4ac7ff3-0ca6-455c-b930-3920e4ac56cd",
        "id": "8ohjGrrCegqE"
      },
      "outputs": [
        {
          "output_type": "execute_result",
          "data": {
            "text/plain": [
              "(21820, 64, 64, 13)"
            ]
          },
          "metadata": {},
          "execution_count": 22
        }
      ],
      "source": [
        "patches_train_2021_array = np.concatenate(patches_train_2021, axis=0)\n",
        "patches_train_2021_array.shape\n",
        "# With no random starting point and no 10% striding: 18837 patches.\n",
        "# With random patching, no norm: 23056 patches."
      ]
    },
    {
      "cell_type": "code",
      "execution_count": null,
      "metadata": {
        "id": "Xalwbz4DegqE"
      },
      "outputs": [],
      "source": [
        "np.save('/content/drive/My Drive/Patches_64_20m/patches_test_4_2021_v2.npy', patches_test_2021_array)\n",
        "np.save('/content/drive/My Drive/Patches_64_20m/patches_train_no_4_2021_v2.npy', patches_train_2021_array)"
      ]
    },
    {
      "cell_type": "markdown",
      "metadata": {
        "id": "X64IskDxegqF"
      },
      "source": [
        "## Patches 2022"
      ]
    },
    {
      "cell_type": "code",
      "execution_count": null,
      "metadata": {
        "colab": {
          "base_uri": "https://localhost:8080/"
        },
        "outputId": "582c267f-045a-4d8d-9492-8a949e87fade",
        "id": "vEoUtkv7egqF"
      },
      "outputs": [
        {
          "output_type": "stream",
          "name": "stdout",
          "text": [
            "2022-01-12\n",
            "shape:  5776609\n",
            "\n",
            " image 4:\n",
            "Number of patches for training: 5980\n",
            "Patch shape: (64, 64, 13)\n",
            "(1582, 64, 64, 13)\n",
            "(1582, 64, 64, 13)\n",
            "Number of patches for testing: 1320\n",
            "Patch shape: (64, 64, 13)\n",
            "(588, 64, 64, 13)\n",
            "(588, 64, 64, 13)\n",
            "2022-01-22\n",
            "shape:  5657143\n",
            "\n",
            " image 4:\n",
            "Number of patches for training: 5980\n",
            "Patch shape: (64, 64, 13)\n",
            "(1577, 64, 64, 13)\n",
            "(1577, 64, 64, 13)\n",
            "Number of patches for testing: 1320\n",
            "Patch shape: (64, 64, 13)\n",
            "(558, 64, 64, 13)\n",
            "(558, 64, 64, 13)\n",
            "2022-02-21\n",
            "shape:  3293632\n",
            "\n",
            " image 4:\n",
            "Number of patches for training: 5980\n",
            "Patch shape: (64, 64, 13)\n",
            "(1243, 64, 64, 13)\n",
            "(1243, 64, 64, 13)\n",
            "Number of patches for testing: 1320\n",
            "Patch shape: (64, 64, 13)\n",
            "(580, 64, 64, 13)\n",
            "(580, 64, 64, 13)\n",
            "2022-03-03\n",
            "shape:  1391391\n",
            "\n",
            " image 4:\n",
            "Number of patches for training: 5980\n",
            "Patch shape: (64, 64, 13)\n",
            "(687, 64, 64, 13)\n",
            "(687, 64, 64, 13)\n",
            "Number of patches for testing: 1320\n",
            "Patch shape: (64, 64, 13)\n",
            "(94, 64, 64, 13)\n",
            "(94, 64, 64, 13)\n",
            "2022-11-03\n",
            "shape:  3021039\n",
            "\n",
            " image 4:\n",
            "Number of patches for training: 5980\n",
            "Patch shape: (64, 64, 13)\n",
            "(883, 64, 64, 13)\n",
            "(883, 64, 64, 13)\n",
            "Number of patches for testing: 1320\n",
            "Patch shape: (64, 64, 13)\n",
            "(572, 64, 64, 13)\n",
            "(572, 64, 64, 13)\n",
            "2022-11-18\n",
            "shape:  4931037\n",
            "\n",
            " image 4:\n",
            "Number of patches for training: 5980\n",
            "Patch shape: (64, 64, 13)\n",
            "(1444, 64, 64, 13)\n",
            "(1444, 64, 64, 13)\n",
            "Number of patches for testing: 1320\n",
            "Patch shape: (64, 64, 13)\n",
            "(576, 64, 64, 13)\n",
            "(576, 64, 64, 13)\n",
            "2022-11-28\n",
            "shape:  3599800\n",
            "\n",
            " image 4:\n",
            "Number of patches for training: 5980\n",
            "Patch shape: (64, 64, 13)\n",
            "(1368, 64, 64, 13)\n",
            "(1368, 64, 64, 13)\n",
            "Number of patches for testing: 1320\n",
            "Patch shape: (64, 64, 13)\n",
            "(575, 64, 64, 13)\n",
            "(575, 64, 64, 13)\n",
            "2022-12-23\n",
            "shape:  3185110\n",
            "\n",
            " image 4:\n",
            "Number of patches for training: 5980\n",
            "Patch shape: (64, 64, 13)\n",
            "(1194, 64, 64, 13)\n",
            "(1194, 64, 64, 13)\n",
            "Number of patches for testing: 1320\n",
            "Patch shape: (64, 64, 13)\n",
            "(514, 64, 64, 13)\n",
            "(514, 64, 64, 13)\n",
            "2023-01-12\n",
            "shape:  195163\n",
            "\n",
            " image 4:\n",
            "Number of patches for training: 5980\n",
            "Patch shape: (64, 64, 13)\n",
            "(212, 64, 64, 13)\n",
            "(212, 64, 64, 13)\n",
            "Number of patches for testing: 1320\n",
            "Patch shape: (64, 64, 13)\n",
            "(57, 64, 64, 13)\n",
            "(57, 64, 64, 13)\n",
            "2023-01-22\n",
            "shape:  4296615\n",
            "\n",
            " image 4:\n",
            "Number of patches for training: 5980\n",
            "Patch shape: (64, 64, 13)\n",
            "(1213, 64, 64, 13)\n",
            "(1213, 64, 64, 13)\n",
            "Number of patches for testing: 1320\n",
            "Patch shape: (64, 64, 13)\n",
            "(581, 64, 64, 13)\n",
            "(581, 64, 64, 13)\n"
          ]
        }
      ],
      "source": [
        "from pathlib import Path # for reincursive folders\n",
        "import gc\n",
        "import matplotlib.colors as mcolors\n",
        "\n",
        "from google.colab import files\n",
        "\n",
        "patches_test_2022 = []\n",
        "patches_train_2022 = []\n",
        "\n",
        "\n",
        "root_dir = '/content/drive/MyDrive/GEE_good_2022/'\n",
        "\n",
        "for filename in Path(root_dir).rglob('*.tif'):\n",
        "  try:\n",
        "      filename = str(filename)\n",
        "      date = filename[37:47] # select date of image\n",
        "      with rasterio.open(filename) as src:\n",
        "          image = src.read()\n",
        "      del src\n",
        "      gc.collect()\n",
        "      print(date)\n",
        "      image = stack_layers(image,ref,reference) # Remove NaN values and stack reference data\n",
        "      image = remove_nan(image) # Remove NaN values and stack reference data\n",
        "      image_reference = image[12,:,:]\n",
        "      image = np.transpose(image, (1, 2, 0))\n",
        "      image = clean_image(image)\n",
        "      image = normalize_image(image)\n",
        "\n",
        "      ### IMAGE 4\n",
        "      print('\\n image 4:')\n",
        "      image_no_4 = np.copy(image)\n",
        "      image_no_4[2000:,2800:,:] = np.nan\n",
        "      image_4 = image[2000:,2800:,:]\n",
        "      # Extract patches\n",
        "      stride = 58\n",
        "      zeroed_patches_train, zeroed_patches_test, removed_indices = extract_zeroed_patches(image_no_4, image_4, patch_size=(64, 64, 13), nan_threshold=0.9)\n",
        "\n",
        "      # append patches\n",
        "      patches_test_2022.append(zeroed_patches_test)\n",
        "      patches_train_2022.append(zeroed_patches_train)\n",
        "\n",
        "  except Exception as e:\n",
        "    # code to handle the exception\n",
        "    print(e)\n",
        "    pass"
      ]
    },
    {
      "cell_type": "code",
      "execution_count": null,
      "metadata": {
        "colab": {
          "base_uri": "https://localhost:8080/"
        },
        "outputId": "8a903641-a806-4f0a-88f7-bb1e3680f176",
        "id": "XNlArmxOegqF"
      },
      "outputs": [
        {
          "output_type": "execute_result",
          "data": {
            "text/plain": [
              "(4695, 64, 64, 13)"
            ]
          },
          "metadata": {},
          "execution_count": 21
        }
      ],
      "source": [
        "patches_test_2022_array = np.concatenate(patches_test_2022, axis=0)\n",
        "patches_test_2022_array.shape\n",
        "# With no random starting point and no 10% striding: 2729 patches."
      ]
    },
    {
      "cell_type": "code",
      "execution_count": null,
      "metadata": {
        "colab": {
          "base_uri": "https://localhost:8080/"
        },
        "outputId": "f8d91bca-7587-46f0-a2ea-e8e3ab7b858b",
        "id": "d3A4XVN-egqF"
      },
      "outputs": [
        {
          "output_type": "execute_result",
          "data": {
            "text/plain": [
              "(11403, 64, 64, 13)"
            ]
          },
          "metadata": {},
          "execution_count": 22
        }
      ],
      "source": [
        "patches_train_2022_array = np.concatenate(patches_train_2022, axis=0)\n",
        "patches_train_2022_array.shape\n",
        "# With no random starting point and no 10% striding: 10335 patches."
      ]
    },
    {
      "cell_type": "code",
      "execution_count": null,
      "metadata": {
        "colab": {
          "base_uri": "https://localhost:8080/"
        },
        "outputId": "342c6911-95de-4904-da59-3f6e8263593e",
        "id": "cG2Ow3g1egqF"
      },
      "outputs": [
        {
          "output_type": "display_data",
          "data": {
            "text/plain": [
              "<Figure size 432x288 with 2 Axes>"
            ],
            "image/png": "[encoded data removed]"
          },
          "metadata": {
            "needs_background": "light"
          }
        }
      ],
      "source": [
        "plt.imshow(patches_train_2022_array[213,:,:,1])\n",
        "plt.colorbar()\n",
        "plt.show()\n"
      ]
    },
    {
      "cell_type": "code",
      "execution_count": null,
      "metadata": {
        "id": "KuyGQgUhegqF"
      },
      "outputs": [],
      "source": [
        "np.save('/content/drive/My Drive/Patches_64_20m/patches_test_4_2022_v2.npy', patches_test_2022_array)\n",
        "np.save('/content/drive/My Drive/Patches_64_20m/patches_train_no_4_2022_v2.npy', patches_train_2022_array)"
      ]
    },
    {
      "cell_type": "markdown",
      "metadata": {
        "id": "6IOxyKnI4tDc"
      },
      "source": [
        "# Patches 64x64 no max depth. Area 1"
      ]
    },
    {
      "cell_type": "markdown",
      "metadata": {
        "id": "0AL755mZ4tDe"
      },
      "source": [
        "## Patches 2019"
      ]
    },
    {
      "cell_type": "code",
      "execution_count": null,
      "metadata": {
        "colab": {
          "base_uri": "https://localhost:8080/"
        },
        "outputId": "0d8c09d9-05ff-4f37-d87c-f97c240ff1c0",
        "id": "gFi0bALW4tDe"
      },
      "outputs": [
        {
          "output_type": "stream",
          "name": "stdout",
          "text": [
            "2018-12-19\n",
            "shape:  8470650\n",
            "Number of patches for training: 5980\n",
            "Patch shape: (64, 64, 13)\n",
            "(2142, 64, 64, 13)\n",
            "(2142, 64, 64, 13)\n",
            "Number of patches for testing: 1472\n",
            "Patch shape: (64, 64, 13)\n",
            "(673, 64, 64, 13)\n",
            "(673, 64, 64, 13)\n",
            "2019-01-03\n",
            "shape:  8733907\n",
            "Number of patches for training: 5980\n",
            "Patch shape: (64, 64, 13)\n",
            "(2172, 64, 64, 13)\n",
            "(2172, 64, 64, 13)\n",
            "Number of patches for testing: 1472\n",
            "Patch shape: (64, 64, 13)\n",
            "(668, 64, 64, 13)\n",
            "(668, 64, 64, 13)\n",
            "2019-01-08\n",
            "shape:  8755489\n",
            "Number of patches for training: 5980\n",
            "Patch shape: (64, 64, 13)\n",
            "(2180, 64, 64, 13)\n",
            "(2180, 64, 64, 13)\n",
            "Number of patches for testing: 1472\n",
            "Patch shape: (64, 64, 13)\n",
            "(670, 64, 64, 13)\n",
            "(670, 64, 64, 13)\n",
            "2019-01-13\n",
            "shape:  8666044\n",
            "Number of patches for training: 5980\n",
            "Patch shape: (64, 64, 13)\n",
            "(2184, 64, 64, 13)\n",
            "(2184, 64, 64, 13)\n",
            "Number of patches for testing: 1472\n",
            "Patch shape: (64, 64, 13)\n",
            "(674, 64, 64, 13)\n",
            "(674, 64, 64, 13)\n",
            "2019-02-02\n",
            "shape:  8563505\n",
            "Number of patches for training: 5980\n",
            "Patch shape: (64, 64, 13)\n",
            "(2078, 64, 64, 13)\n",
            "(2078, 64, 64, 13)\n",
            "Number of patches for testing: 1472\n",
            "Patch shape: (64, 64, 13)\n",
            "(684, 64, 64, 13)\n",
            "(684, 64, 64, 13)\n",
            "2019-02-12\n",
            "shape:  8715483\n",
            "Number of patches for training: 5980\n",
            "Patch shape: (64, 64, 13)\n",
            "(2089, 64, 64, 13)\n",
            "(2089, 64, 64, 13)\n",
            "Number of patches for testing: 1472\n",
            "Patch shape: (64, 64, 13)\n",
            "(684, 64, 64, 13)\n",
            "(684, 64, 64, 13)\n",
            "2019-03-14\n",
            "shape:  8550141\n",
            "Number of patches for training: 5980\n",
            "Patch shape: (64, 64, 13)\n",
            "(2068, 64, 64, 13)\n",
            "(2068, 64, 64, 13)\n",
            "Number of patches for testing: 1472\n",
            "Patch shape: (64, 64, 13)\n",
            "(669, 64, 64, 13)\n",
            "(669, 64, 64, 13)\n",
            "2019-10-10\n",
            "shape:  8525662\n",
            "Number of patches for training: 5980\n",
            "Patch shape: (64, 64, 13)\n",
            "(2128, 64, 64, 13)\n",
            "(2128, 64, 64, 13)\n",
            "Number of patches for testing: 1472\n",
            "Patch shape: (64, 64, 13)\n",
            "(673, 64, 64, 13)\n",
            "(673, 64, 64, 13)\n",
            "2019-10-15\n",
            "shape:  8335493\n",
            "Number of patches for training: 5980\n",
            "Patch shape: (64, 64, 13)\n",
            "(2139, 64, 64, 13)\n",
            "(2139, 64, 64, 13)\n",
            "Number of patches for testing: 1472\n",
            "Patch shape: (64, 64, 13)\n",
            "(674, 64, 64, 13)\n",
            "(674, 64, 64, 13)\n",
            "2019-11-04\n",
            "shape:  8745361\n",
            "Number of patches for training: 5980\n",
            "Patch shape: (64, 64, 13)\n",
            "(2090, 64, 64, 13)\n",
            "(2090, 64, 64, 13)\n",
            "Number of patches for testing: 1472\n",
            "Patch shape: (64, 64, 13)\n",
            "(679, 64, 64, 13)\n",
            "(679, 64, 64, 13)\n",
            "2019-11-14\n",
            "shape:  8746573\n",
            "Number of patches for training: 5980\n",
            "Patch shape: (64, 64, 13)\n",
            "(2173, 64, 64, 13)\n",
            "(2173, 64, 64, 13)\n",
            "Number of patches for testing: 1472\n",
            "Patch shape: (64, 64, 13)\n",
            "(671, 64, 64, 13)\n",
            "(671, 64, 64, 13)\n",
            "2019-11-19\n",
            "shape:  8636369\n",
            "Number of patches for training: 5980\n",
            "Patch shape: (64, 64, 13)\n",
            "(2166, 64, 64, 13)\n",
            "(2166, 64, 64, 13)\n",
            "Number of patches for testing: 1472\n",
            "Patch shape: (64, 64, 13)\n",
            "(665, 64, 64, 13)\n",
            "(665, 64, 64, 13)\n",
            "2019-11-24\n",
            "shape:  8754473\n",
            "Number of patches for training: 5980\n",
            "Patch shape: (64, 64, 13)\n",
            "(2091, 64, 64, 13)\n",
            "(2091, 64, 64, 13)\n",
            "Number of patches for testing: 1472\n",
            "Patch shape: (64, 64, 13)\n",
            "(674, 64, 64, 13)\n",
            "(674, 64, 64, 13)\n",
            "2019-12-09\n",
            "shape:  8654774\n",
            "Number of patches for training: 5980\n",
            "Patch shape: (64, 64, 13)\n",
            "(2166, 64, 64, 13)\n",
            "(2166, 64, 64, 13)\n",
            "Number of patches for testing: 1472\n",
            "Patch shape: (64, 64, 13)\n",
            "(736, 64, 64, 13)\n",
            "(736, 64, 64, 13)\n",
            "2019-12-29\n",
            "shape:  8722451\n",
            "Number of patches for training: 5980\n",
            "Patch shape: (64, 64, 13)\n",
            "(2183, 64, 64, 13)\n",
            "(2183, 64, 64, 13)\n",
            "Number of patches for testing: 1472\n",
            "Patch shape: (64, 64, 13)\n",
            "(682, 64, 64, 13)\n",
            "(682, 64, 64, 13)\n"
          ]
        }
      ],
      "source": [
        "from pathlib import Path # for reincursive folders\n",
        "import gc\n",
        "import matplotlib.colors as mcolors\n",
        "\n",
        "from google.colab import files\n",
        "\n",
        "patches_test_2019 = []\n",
        "patches_train_2019 = []\n",
        "\n",
        "\n",
        "root_dir = '/content/drive/MyDrive/GEE_good_2019/'\n",
        "\n",
        "for filename in Path(root_dir).rglob('*.tif'):\n",
        "  try:\n",
        "      filename = str(filename)\n",
        "      date = filename[37:47] # select date of image\n",
        "      with rasterio.open(filename) as src:\n",
        "          image = src.read()\n",
        "      del src\n",
        "      gc.collect()\n",
        "      print(date)\n",
        "      image = stack_layers(image,ref,reference) # Remove NaN values and stack reference data\n",
        "      image = remove_nan(image) # Remove NaN values and stack reference data\n",
        "      image_reference = image[12,:,:]\n",
        "      image = np.transpose(image, (1, 2, 0))\n",
        "      image = normalize_image(image)\n",
        "\n",
        "      ### IMAGE 1\n",
        "      # Select training area:\n",
        "      image_no_1 = np.copy(image)\n",
        "      # Set pixels in specified slice to NaN\n",
        "      image_no_1[70:1035,:, :] = np.nan\n",
        "      # Train set\n",
        "      image_1 = image[70:1035,:, :]\n",
        "      # Extract patches\n",
        "      patch_size = (64, 64, 13)\n",
        "      stride = 58\n",
        "      zeroed_patches_train, zeroed_patches_test, removed_indices = extract_zeroed_patches(image_no_1, image_1, patch_size=(64, 64, 13), nan_threshold=0.9)\n",
        "\n",
        "      # append patches\n",
        "      patches_test_2019.append(zeroed_patches_test)\n",
        "      patches_train_2019.append(zeroed_patches_train)\n",
        "\n",
        "  except Exception as e:\n",
        "    # code to handle the exception\n",
        "    print(e)\n",
        "    pass"
      ]
    },
    {
      "cell_type": "code",
      "execution_count": null,
      "metadata": {
        "colab": {
          "base_uri": "https://localhost:8080/"
        },
        "outputId": "8270b286-3645-4888-c0f7-dd1413d8803e",
        "id": "LsimPsHo4tDf"
      },
      "outputs": [
        {
          "output_type": "execute_result",
          "data": {
            "text/plain": [
              "(10176, 64, 64, 13)"
            ]
          },
          "metadata": {},
          "execution_count": 21
        }
      ],
      "source": [
        "patches_test_2019_array = np.concatenate(patches_test_2019, axis=0)\n",
        "patches_test_2019_array.shape\n",
        "# With no random starting point and no 10% striding: 5100 patches."
      ]
    },
    {
      "cell_type": "code",
      "execution_count": null,
      "metadata": {
        "colab": {
          "base_uri": "https://localhost:8080/"
        },
        "outputId": "de126651-c607-4eec-bd0f-f91241721831",
        "id": "ytiiqIsO4tDf"
      },
      "outputs": [
        {
          "output_type": "execute_result",
          "data": {
            "text/plain": [
              "(32049, 64, 64, 13)"
            ]
          },
          "metadata": {},
          "execution_count": 22
        }
      ],
      "source": [
        "patches_train_2019_array = np.concatenate(patches_train_2019, axis=0)\n",
        "patches_train_2019_array.shape\n",
        "# With no random starting point and no 10% striding: 20081 patches."
      ]
    },
    {
      "cell_type": "code",
      "execution_count": null,
      "metadata": {
        "id": "YkZqg5yG4tDg"
      },
      "outputs": [],
      "source": [
        "np.save('/content/drive/My Drive/Patches_64_20m/patches_test_1_2019_no_max_v2.npy', patches_test_2019_array)\n",
        "np.save('/content/drive/My Drive/Patches_64_20m/patches_train_no_1_2019_no_max_v2.npy', patches_train_2019_array)"
      ]
    },
    {
      "cell_type": "markdown",
      "metadata": {
        "id": "wbYXwOWx4tDg"
      },
      "source": [
        "## Patches 2020"
      ]
    },
    {
      "cell_type": "code",
      "execution_count": null,
      "metadata": {
        "colab": {
          "base_uri": "https://localhost:8080/"
        },
        "outputId": "bf8aae73-069a-4d89-e045-71492dc1bc5e",
        "id": "EU340W034tDh"
      },
      "outputs": [
        {
          "output_type": "stream",
          "name": "stdout",
          "text": [
            "2020-02-02\n",
            "shape:  8735227\n",
            "Number of patches for training: 5980\n",
            "Patch shape: (64, 64, 13)\n",
            "(2174, 64, 64, 13)\n",
            "(2174, 64, 64, 13)\n",
            "Number of patches for testing: 1472\n",
            "Patch shape: (64, 64, 13)\n",
            "(691, 64, 64, 13)\n",
            "(691, 64, 64, 13)\n",
            "2020-02-12\n",
            "shape:  8468763\n",
            "Number of patches for training: 5980\n",
            "Patch shape: (64, 64, 13)\n",
            "(2078, 64, 64, 13)\n",
            "(2078, 64, 64, 13)\n",
            "Number of patches for testing: 1472\n",
            "Patch shape: (64, 64, 13)\n",
            "(656, 64, 64, 13)\n",
            "(656, 64, 64, 13)\n",
            "2020-02-17\n",
            "shape:  8741922\n",
            "Number of patches for training: 5980\n",
            "Patch shape: (64, 64, 13)\n",
            "(2181, 64, 64, 13)\n",
            "(2181, 64, 64, 13)\n",
            "Number of patches for testing: 1472\n",
            "Patch shape: (64, 64, 13)\n",
            "(683, 64, 64, 13)\n",
            "(683, 64, 64, 13)\n",
            "2020-03-13\n",
            "shape:  8585116\n",
            "Number of patches for training: 5980\n",
            "Patch shape: (64, 64, 13)\n",
            "(2152, 64, 64, 13)\n",
            "(2152, 64, 64, 13)\n",
            "Number of patches for testing: 1472\n",
            "Patch shape: (64, 64, 13)\n",
            "(672, 64, 64, 13)\n",
            "(672, 64, 64, 13)\n",
            "2020-10-09\n",
            "shape:  8669689\n",
            "Number of patches for training: 5980\n",
            "Patch shape: (64, 64, 13)\n",
            "(2178, 64, 64, 13)\n",
            "(2178, 64, 64, 13)\n",
            "Number of patches for testing: 1472\n",
            "Patch shape: (64, 64, 13)\n",
            "(677, 64, 64, 13)\n",
            "(677, 64, 64, 13)\n",
            "2020-10-19\n",
            "shape:  8727759\n",
            "Number of patches for training: 5980\n",
            "Patch shape: (64, 64, 13)\n",
            "(2179, 64, 64, 13)\n",
            "(2179, 64, 64, 13)\n",
            "Number of patches for testing: 1472\n",
            "Patch shape: (64, 64, 13)\n",
            "(681, 64, 64, 13)\n",
            "(681, 64, 64, 13)\n",
            "2020-11-13\n",
            "shape:  8676205\n",
            "Number of patches for training: 5980\n",
            "Patch shape: (64, 64, 13)\n",
            "(2181, 64, 64, 13)\n",
            "(2181, 64, 64, 13)\n",
            "Number of patches for testing: 1472\n",
            "Patch shape: (64, 64, 13)\n",
            "(682, 64, 64, 13)\n",
            "(682, 64, 64, 13)\n",
            "2020-12-13\n",
            "shape:  8644406\n",
            "Number of patches for training: 5980\n",
            "Patch shape: (64, 64, 13)\n",
            "(2180, 64, 64, 13)\n",
            "(2180, 64, 64, 13)\n",
            "Number of patches for testing: 1472\n",
            "Patch shape: (64, 64, 13)\n",
            "(675, 64, 64, 13)\n",
            "(675, 64, 64, 13)\n",
            "2020-12-18\n",
            "shape:  8737277\n",
            "Number of patches for training: 5980\n",
            "Patch shape: (64, 64, 13)\n",
            "(2177, 64, 64, 13)\n",
            "(2177, 64, 64, 13)\n",
            "Number of patches for testing: 1472\n",
            "Patch shape: (64, 64, 13)\n",
            "(687, 64, 64, 13)\n",
            "(687, 64, 64, 13)\n",
            "2020-12-23\n",
            "shape:  8700415\n",
            "Number of patches for training: 5980\n",
            "Patch shape: (64, 64, 13)\n",
            "(2175, 64, 64, 13)\n",
            "(2175, 64, 64, 13)\n",
            "Number of patches for testing: 1472\n",
            "Patch shape: (64, 64, 13)\n",
            "(690, 64, 64, 13)\n",
            "(690, 64, 64, 13)\n",
            "2020-12-28\n",
            "shape:  8755668\n",
            "Number of patches for training: 5980\n",
            "Patch shape: (64, 64, 13)\n",
            "(2178, 64, 64, 13)\n",
            "(2178, 64, 64, 13)\n",
            "Number of patches for testing: 1472\n",
            "Patch shape: (64, 64, 13)\n",
            "(694, 64, 64, 13)\n",
            "(694, 64, 64, 13)\n"
          ]
        }
      ],
      "source": [
        "from pathlib import Path # for reincursive folders\n",
        "import gc\n",
        "import matplotlib.colors as mcolors\n",
        "\n",
        "from google.colab import files\n",
        "\n",
        "patches_test_2020 = []\n",
        "patches_train_2020 = []\n",
        "\n",
        "\n",
        "root_dir = '/content/drive/MyDrive/GEE_good_2020/'\n",
        "\n",
        "for filename in Path(root_dir).rglob('*.tif'):\n",
        "  try:\n",
        "      filename = str(filename)\n",
        "      date = filename[37:47] # select date of image\n",
        "      with rasterio.open(filename) as src:\n",
        "          image = src.read()\n",
        "      del src\n",
        "      gc.collect()\n",
        "      print(date)\n",
        "      image = stack_layers(image,ref,reference) # Remove NaN values and stack reference data\n",
        "      image = remove_nan(image) # Remove NaN values and stack reference data\n",
        "      image_reference = image[12,:,:]\n",
        "      image = np.transpose(image, (1, 2, 0))\n",
        "      image = normalize_image(image)\n",
        "\n",
        "      ### IMAGE 1\n",
        "      # Select training area:\n",
        "      image_no_1 = np.copy(image)\n",
        "      # Set pixels in specified slice to NaN\n",
        "      image_no_1[70:1035,:, :] = np.nan\n",
        "      # Train set\n",
        "      image_1 = image[70:1035,:, :]\n",
        "      # Extract patches\n",
        "      patch_size = (64, 64, 13)\n",
        "      stride = 58\n",
        "      zeroed_patches_train, zeroed_patches_test, removed_indices = extract_zeroed_patches(image_no_1, image_1, patch_size=(64, 64, 13), nan_threshold=0.9)\n",
        "\n",
        "      # append patches\n",
        "      patches_test_2020.append(zeroed_patches_test)\n",
        "      patches_train_2020.append(zeroed_patches_train)\n",
        "\n",
        "  except Exception as e:\n",
        "    # code to handle the exception\n",
        "    print(e)\n",
        "    pass"
      ]
    },
    {
      "cell_type": "code",
      "execution_count": null,
      "metadata": {
        "colab": {
          "base_uri": "https://localhost:8080/"
        },
        "outputId": "546cb4d8-2185-4454-c65d-6623b8ae5a41",
        "id": "fM9-XaQK4tDl"
      },
      "outputs": [
        {
          "output_type": "execute_result",
          "data": {
            "text/plain": [
              "(7488, 64, 64, 13)"
            ]
          },
          "metadata": {},
          "execution_count": 21
        }
      ],
      "source": [
        "patches_test_2020_array = np.concatenate(patches_test_2020, axis=0)\n",
        "patches_test_2020_array.shape"
      ]
    },
    {
      "cell_type": "code",
      "execution_count": null,
      "metadata": {
        "colab": {
          "base_uri": "https://localhost:8080/"
        },
        "outputId": "188fdb63-f331-4697-9d79-bd281602cfdc",
        "id": "cLIXnFDx4tDm"
      },
      "outputs": [
        {
          "output_type": "execute_result",
          "data": {
            "text/plain": [
              "(23833, 64, 64, 13)"
            ]
          },
          "metadata": {},
          "execution_count": 22
        }
      ],
      "source": [
        "patches_train_2020_array = np.concatenate(patches_train_2020, axis=0)\n",
        "patches_train_2020_array.shape\n",
        "# With no random starting point and no 10% striding: 14797 patches."
      ]
    },
    {
      "cell_type": "code",
      "execution_count": null,
      "metadata": {
        "id": "7rAG35yw4tDm"
      },
      "outputs": [],
      "source": [
        "np.save('/content/drive/My Drive/Patches_64_20m/patches_test_1_2020_no_max_v2.npy', patches_test_2020_array)\n",
        "np.save('/content/drive/My Drive/Patches_64_20m/patches_train_no_1_2020_no_max_v2.npy', patches_train_2020_array)"
      ]
    },
    {
      "cell_type": "markdown",
      "metadata": {
        "id": "6n7xTv0g4tDn"
      },
      "source": [
        "## Patches 2021"
      ]
    },
    {
      "cell_type": "code",
      "execution_count": null,
      "metadata": {
        "colab": {
          "base_uri": "https://localhost:8080/"
        },
        "outputId": "7bc2db76-acb8-4ae1-a855-725b3f9d5dee",
        "id": "Qf-5Hm4S4tDn"
      },
      "outputs": [
        {
          "output_type": "stream",
          "name": "stdout",
          "text": [
            "2021-01-07\n",
            "shape:  8752528\n",
            "Number of patches for training: 5980\n",
            "Patch shape: (64, 64, 13)\n",
            "(2186, 64, 64, 13)\n",
            "(2186, 64, 64, 13)\n",
            "Number of patches for testing: 1472\n",
            "Patch shape: (64, 64, 13)\n",
            "(684, 64, 64, 13)\n",
            "(684, 64, 64, 13)\n",
            "2021-01-12\n",
            "shape:  8751697\n",
            "Number of patches for training: 5980\n",
            "Patch shape: (64, 64, 13)\n",
            "(2176, 64, 64, 13)\n",
            "(2176, 64, 64, 13)\n",
            "Number of patches for testing: 1472\n",
            "Patch shape: (64, 64, 13)\n",
            "(685, 64, 64, 13)\n",
            "(685, 64, 64, 13)\n",
            "2021-01-17\n",
            "shape:  8591704\n",
            "Number of patches for training: 5980\n",
            "Patch shape: (64, 64, 13)\n",
            "(2170, 64, 64, 13)\n",
            "(2170, 64, 64, 13)\n",
            "Number of patches for testing: 1472\n",
            "Patch shape: (64, 64, 13)\n",
            "(678, 64, 64, 13)\n",
            "(678, 64, 64, 13)\n",
            "2021-01-22\n",
            "shape:  8755515\n",
            "Number of patches for training: 5980\n",
            "Patch shape: (64, 64, 13)\n",
            "(2177, 64, 64, 13)\n",
            "(2177, 64, 64, 13)\n",
            "Number of patches for testing: 1472\n",
            "Patch shape: (64, 64, 13)\n",
            "(683, 64, 64, 13)\n",
            "(683, 64, 64, 13)\n",
            "2021-01-27\n",
            "shape:  8756195\n",
            "Number of patches for training: 5980\n",
            "Patch shape: (64, 64, 13)\n",
            "(2092, 64, 64, 13)\n",
            "(2092, 64, 64, 13)\n",
            "Number of patches for testing: 1472\n",
            "Patch shape: (64, 64, 13)\n",
            "(681, 64, 64, 13)\n",
            "(681, 64, 64, 13)\n",
            "2021-02-11\n",
            "shape:  8669494\n",
            "Number of patches for training: 5980\n",
            "Patch shape: (64, 64, 13)\n",
            "(2183, 64, 64, 13)\n",
            "(2183, 64, 64, 13)\n",
            "Number of patches for testing: 1472\n",
            "Patch shape: (64, 64, 13)\n",
            "(690, 64, 64, 13)\n",
            "(690, 64, 64, 13)\n",
            "2021-02-21\n",
            "shape:  8518843\n",
            "Number of patches for training: 5980\n",
            "Patch shape: (64, 64, 13)\n",
            "(2082, 64, 64, 13)\n",
            "(2082, 64, 64, 13)\n",
            "Number of patches for testing: 1472\n",
            "Patch shape: (64, 64, 13)\n",
            "(683, 64, 64, 13)\n",
            "(683, 64, 64, 13)\n",
            "2021-03-13\n",
            "shape:  8700384\n",
            "Number of patches for training: 5980\n",
            "Patch shape: (64, 64, 13)\n",
            "(2080, 64, 64, 13)\n",
            "(2080, 64, 64, 13)\n",
            "Number of patches for testing: 1472\n",
            "Patch shape: (64, 64, 13)\n",
            "(741, 64, 64, 13)\n",
            "(741, 64, 64, 13)\n",
            "2021-10-19\n",
            "shape:  8639922\n",
            "Number of patches for training: 5980\n",
            "Patch shape: (64, 64, 13)\n",
            "(2163, 64, 64, 13)\n",
            "(2163, 64, 64, 13)\n",
            "Number of patches for testing: 1472\n",
            "Patch shape: (64, 64, 13)\n",
            "(690, 64, 64, 13)\n",
            "(690, 64, 64, 13)\n",
            "2021-10-24\n",
            "shape:  8737240\n",
            "Number of patches for training: 5980\n",
            "Patch shape: (64, 64, 13)\n",
            "(2180, 64, 64, 13)\n",
            "(2180, 64, 64, 13)\n",
            "Number of patches for testing: 1472\n",
            "Patch shape: (64, 64, 13)\n",
            "(669, 64, 64, 13)\n",
            "(669, 64, 64, 13)\n",
            "2021-11-23\n",
            "shape:  8625011\n",
            "Number of patches for training: 5980\n",
            "Patch shape: (64, 64, 13)\n",
            "(2089, 64, 64, 13)\n",
            "(2089, 64, 64, 13)\n",
            "Number of patches for testing: 1472\n",
            "Patch shape: (64, 64, 13)\n",
            "(680, 64, 64, 13)\n",
            "(680, 64, 64, 13)\n",
            "2021-12-03\n",
            "shape:  8637136\n",
            "Number of patches for training: 5980\n",
            "Patch shape: (64, 64, 13)\n",
            "(2164, 64, 64, 13)\n",
            "(2164, 64, 64, 13)\n",
            "Number of patches for testing: 1472\n",
            "Patch shape: (64, 64, 13)\n",
            "(669, 64, 64, 13)\n",
            "(669, 64, 64, 13)\n",
            "2021-12-08\n",
            "shape:  8754362\n",
            "Number of patches for training: 5980\n",
            "Patch shape: (64, 64, 13)\n",
            "(2174, 64, 64, 13)\n",
            "(2174, 64, 64, 13)\n",
            "Number of patches for testing: 1472\n",
            "Patch shape: (64, 64, 13)\n",
            "(675, 64, 64, 13)\n",
            "(675, 64, 64, 13)\n",
            "2021-12-28\n",
            "shape:  8744949\n",
            "Number of patches for training: 5980\n",
            "Patch shape: (64, 64, 13)\n",
            "(2174, 64, 64, 13)\n",
            "(2174, 64, 64, 13)\n",
            "Number of patches for testing: 1472\n",
            "Patch shape: (64, 64, 13)\n",
            "(671, 64, 64, 13)\n",
            "(671, 64, 64, 13)\n"
          ]
        }
      ],
      "source": [
        "from pathlib import Path # for reincursive folders\n",
        "import gc\n",
        "import matplotlib.colors as mcolors\n",
        "\n",
        "from google.colab import files\n",
        "\n",
        "patches_test_2021 = []\n",
        "patches_train_2021 = []\n",
        "\n",
        "\n",
        "root_dir = '/content/drive/MyDrive/GEE_good_2021/'\n",
        "\n",
        "for filename in Path(root_dir).rglob('*.tif'):\n",
        "  try:\n",
        "      filename = str(filename)\n",
        "      date = filename[37:47] # select date of image\n",
        "      with rasterio.open(filename) as src:\n",
        "          image = src.read()\n",
        "      del src\n",
        "      gc.collect()\n",
        "      print(date)\n",
        "      image = stack_layers(image,ref,reference) # Remove NaN values and stack reference data\n",
        "      image = remove_nan(image) # Remove NaN values and stack reference data\n",
        "      image_reference = image[12,:,:]\n",
        "      image = np.transpose(image, (1, 2, 0))\n",
        "      image = normalize_image(image)\n",
        "\n",
        "      ### IMAGE 1\n",
        "      # Select training area:\n",
        "      image_no_1 = np.copy(image)\n",
        "      # Set pixels in specified slice to NaN\n",
        "      image_no_1[70:1035,:, :] = np.nan\n",
        "      # Train set\n",
        "      image_1 = image[70:1035,:, :]\n",
        "      # Extract patches\n",
        "      patch_size = (16, 16, 13)\n",
        "      stride = 58\n",
        "      zeroed_patches_train, zeroed_patches_test, removed_indices = extract_zeroed_patches(image_no_1, image_1, patch_size=(64, 64, 13), nan_threshold=0.9)\n",
        "\n",
        "      # append patches\n",
        "      patches_test_2021.append(zeroed_patches_test)\n",
        "      patches_train_2021.append(zeroed_patches_train)\n",
        "\n",
        "  except Exception as e:\n",
        "    # code to handle the exception\n",
        "    print(e)\n",
        "    pass"
      ]
    },
    {
      "cell_type": "code",
      "execution_count": null,
      "metadata": {
        "colab": {
          "base_uri": "https://localhost:8080/"
        },
        "outputId": "c96750f1-6eb8-4198-d92c-2af6868f3806",
        "id": "UI5_Nq374tDo"
      },
      "outputs": [
        {
          "output_type": "execute_result",
          "data": {
            "text/plain": [
              "(9579, 64, 64, 13)"
            ]
          },
          "metadata": {},
          "execution_count": 21
        }
      ],
      "source": [
        "patches_test_2021_array = np.concatenate(patches_test_2021, axis=0)\n",
        "patches_test_2021_array.shape\n",
        "# With no random starting point and no 10% striding: 18837 patches."
      ]
    },
    {
      "cell_type": "code",
      "execution_count": null,
      "metadata": {
        "colab": {
          "base_uri": "https://localhost:8080/"
        },
        "outputId": "2f09a096-8091-4b55-888f-baa46f4f49cf",
        "id": "h08DVKXP4tDp"
      },
      "outputs": [
        {
          "output_type": "execute_result",
          "data": {
            "text/plain": [
              "(30090, 64, 64, 13)"
            ]
          },
          "metadata": {},
          "execution_count": 22
        }
      ],
      "source": [
        "patches_train_2021_array = np.concatenate(patches_train_2021, axis=0)\n",
        "patches_train_2021_array.shape\n",
        "# With no random starting point and no 10% striding: 18837 patches.\n",
        "# With random patching, no norm: 23056 patches."
      ]
    },
    {
      "cell_type": "code",
      "execution_count": null,
      "metadata": {
        "id": "izaHiziE4tDq"
      },
      "outputs": [],
      "source": [
        "np.save('/content/drive/My Drive/Patches_64_20m/patches_test_1_2021_no_max_v2.npy', patches_test_2021_array)\n",
        "np.save('/content/drive/My Drive/Patches_64_20m/patches_train_no_1_2021_no_max_v2.npy', patches_train_2021_array)"
      ]
    },
    {
      "cell_type": "markdown",
      "metadata": {
        "id": "NybkoFHp4tDq"
      },
      "source": [
        "## Patches 2022"
      ]
    },
    {
      "cell_type": "code",
      "execution_count": null,
      "metadata": {
        "colab": {
          "base_uri": "https://localhost:8080/"
        },
        "outputId": "36c71f70-4302-47ac-8ec0-5971d0a00925",
        "id": "rQiMtAPh4tDq"
      },
      "outputs": [
        {
          "output_type": "stream",
          "name": "stdout",
          "text": [
            "2022-01-12\n",
            "shape:  8755689\n",
            "Number of patches for training: 5980\n",
            "Patch shape: (64, 64, 13)\n",
            "(2187, 64, 64, 13)\n",
            "(2187, 64, 64, 13)\n",
            "Number of patches for testing: 1472\n",
            "Patch shape: (64, 64, 13)\n",
            "(669, 64, 64, 13)\n",
            "(669, 64, 64, 13)\n",
            "2022-01-22\n",
            "shape:  8608291\n",
            "Number of patches for training: 5980\n",
            "Patch shape: (64, 64, 13)\n",
            "(2151, 64, 64, 13)\n",
            "(2151, 64, 64, 13)\n",
            "Number of patches for testing: 1472\n",
            "Patch shape: (64, 64, 13)\n",
            "(683, 64, 64, 13)\n",
            "(683, 64, 64, 13)\n",
            "2022-02-21\n",
            "shape:  4885104\n",
            "Number of patches for training: 5980\n",
            "Patch shape: (64, 64, 13)\n",
            "(1797, 64, 64, 13)\n",
            "(1797, 64, 64, 13)\n",
            "Number of patches for testing: 1472\n",
            "Patch shape: (64, 64, 13)\n",
            "(599, 64, 64, 13)\n",
            "(599, 64, 64, 13)\n",
            "2022-03-03\n",
            "shape:  2602686\n",
            "Number of patches for training: 5980\n",
            "Patch shape: (64, 64, 13)\n",
            "(533, 64, 64, 13)\n",
            "(533, 64, 64, 13)\n",
            "Number of patches for testing: 1472\n",
            "Patch shape: (64, 64, 13)\n",
            "(660, 64, 64, 13)\n",
            "(660, 64, 64, 13)\n",
            "2022-11-03\n",
            "shape:  3826058\n",
            "Number of patches for training: 5980\n",
            "Patch shape: (64, 64, 13)\n",
            "(1647, 64, 64, 13)\n",
            "(1647, 64, 64, 13)\n",
            "Number of patches for testing: 1472\n",
            "Patch shape: (64, 64, 13)\n",
            "(222, 64, 64, 13)\n",
            "(222, 64, 64, 13)\n",
            "2022-11-18\n",
            "shape:  7315405\n",
            "Number of patches for training: 5980\n",
            "Patch shape: (64, 64, 13)\n",
            "(2170, 64, 64, 13)\n",
            "(2170, 64, 64, 13)\n",
            "Number of patches for testing: 1472\n",
            "Patch shape: (64, 64, 13)\n",
            "(677, 64, 64, 13)\n",
            "(677, 64, 64, 13)\n",
            "2022-11-28\n",
            "shape:  5010348\n",
            "Number of patches for training: 5980\n",
            "Patch shape: (64, 64, 13)\n",
            "(2042, 64, 64, 13)\n",
            "(2042, 64, 64, 13)\n",
            "Number of patches for testing: 1472\n",
            "Patch shape: (64, 64, 13)\n",
            "(571, 64, 64, 13)\n",
            "(571, 64, 64, 13)\n",
            "2022-12-23\n",
            "shape:  5228160\n",
            "Number of patches for training: 5980\n",
            "Patch shape: (64, 64, 13)\n",
            "(2059, 64, 64, 13)\n",
            "(2059, 64, 64, 13)\n",
            "Number of patches for testing: 1472\n",
            "Patch shape: (64, 64, 13)\n",
            "(465, 64, 64, 13)\n",
            "(465, 64, 64, 13)\n",
            "2023-01-12\n",
            "shape:  198577\n",
            "Number of patches for training: 5980\n",
            "Patch shape: (64, 64, 13)\n",
            "(259, 64, 64, 13)\n",
            "(259, 64, 64, 13)\n",
            "Number of patches for testing: 1472\n",
            "Patch shape: (64, 64, 13)\n",
            "(11, 64, 64, 13)\n",
            "(11, 64, 64, 13)\n",
            "2023-01-22\n",
            "shape:  5464189\n",
            "Number of patches for training: 5980\n",
            "Patch shape: (64, 64, 13)\n",
            "(1942, 64, 64, 13)\n",
            "(1942, 64, 64, 13)\n",
            "Number of patches for testing: 1472\n",
            "Patch shape: (64, 64, 13)\n",
            "(188, 64, 64, 13)\n",
            "(188, 64, 64, 13)\n"
          ]
        }
      ],
      "source": [
        "from pathlib import Path # for reincursive folders\n",
        "import gc\n",
        "import matplotlib.colors as mcolors\n",
        "\n",
        "from google.colab import files\n",
        "\n",
        "patches_test_2022 = []\n",
        "patches_train_2022 = []\n",
        "\n",
        "\n",
        "root_dir = '/content/drive/MyDrive/GEE_good_2022/'\n",
        "\n",
        "for filename in Path(root_dir).rglob('*.tif'):\n",
        "  try:\n",
        "      filename = str(filename)\n",
        "      date = filename[37:47] # select date of image\n",
        "      with rasterio.open(filename) as src:\n",
        "          image = src.read()\n",
        "      del src\n",
        "      gc.collect()\n",
        "      print(date)\n",
        "      image = stack_layers(image,ref,reference) # Remove NaN values and stack reference data\n",
        "      image = remove_nan(image) # Remove NaN values and stack reference data\n",
        "      image_reference = image[12,:,:]\n",
        "      image = np.transpose(image, (1, 2, 0))\n",
        "      image = normalize_image(image)\n",
        "\n",
        "      ### IMAGE 1\n",
        "      # Select training area:\n",
        "      image_no_1 = np.copy(image)\n",
        "      # Set pixels in specified slice to NaN\n",
        "      image_no_1[70:1035,:, :] = np.nan\n",
        "      # Train set\n",
        "      image_1 = image[70:1035,:, :]\n",
        "      # Extract patches\n",
        "      patch_size = (16, 16, 13)\n",
        "      stride = 58\n",
        "      zeroed_patches_train, zeroed_patches_test, removed_indices = extract_zeroed_patches(image_no_1, image_1, patch_size=(64, 64, 13), nan_threshold=0.9)\n",
        "\n",
        "      # append patches\n",
        "      patches_test_2022.append(zeroed_patches_test)\n",
        "      patches_train_2022.append(zeroed_patches_train)\n",
        "\n",
        "  except Exception as e:\n",
        "    # code to handle the exception\n",
        "    print(e)\n",
        "    pass"
      ]
    },
    {
      "cell_type": "code",
      "execution_count": null,
      "metadata": {
        "colab": {
          "base_uri": "https://localhost:8080/"
        },
        "outputId": "4e12eb51-f10f-4299-ff16-c6d2e493b231",
        "id": "DTbi6DsV4tDq"
      },
      "outputs": [
        {
          "output_type": "execute_result",
          "data": {
            "text/plain": [
              "(4745, 64, 64, 13)"
            ]
          },
          "metadata": {},
          "execution_count": 21
        }
      ],
      "source": [
        "patches_test_2022_array = np.concatenate(patches_test_2022, axis=0)\n",
        "patches_test_2022_array.shape\n",
        "# With no random starting point and no 10% striding: 2729 patches."
      ]
    },
    {
      "cell_type": "code",
      "execution_count": null,
      "metadata": {
        "colab": {
          "base_uri": "https://localhost:8080/"
        },
        "outputId": "4c7fc75f-3b02-455d-d801-723c85efe387",
        "id": "bsCxPUhS4tDr"
      },
      "outputs": [
        {
          "output_type": "execute_result",
          "data": {
            "text/plain": [
              "(16787, 64, 64, 13)"
            ]
          },
          "metadata": {},
          "execution_count": 22
        }
      ],
      "source": [
        "patches_train_2022_array = np.concatenate(patches_train_2022, axis=0)\n",
        "patches_train_2022_array.shape\n",
        "# With no random starting point and no 10% striding: 10335 patches."
      ]
    },
    {
      "cell_type": "code",
      "execution_count": null,
      "metadata": {
        "colab": {
          "base_uri": "https://localhost:8080/",
          "height": 268
        },
        "outputId": "dc7577dc-1074-414e-e92c-a0ebe0b76b15",
        "id": "l0BkA-Wb4tDr"
      },
      "outputs": [
        {
          "output_type": "display_data",
          "data": {
            "text/plain": [
              "<Figure size 432x288 with 2 Axes>"
            ],
            "image/png": "[encoded data removed]"
          },
          "metadata": {
            "needs_background": "light"
          }
        }
      ],
      "source": [
        "plt.imshow(patches_train_2022_array[213,:,:,1])\n",
        "plt.colorbar()\n",
        "plt.show()\n"
      ]
    },
    {
      "cell_type": "code",
      "execution_count": null,
      "metadata": {
        "id": "vYyrc3qr4tDr"
      },
      "outputs": [],
      "source": [
        "np.save('/content/drive/My Drive/Patches_64_20m/patches_test_1_2022_no_max_v2.npy', patches_test_2022_array)\n",
        "np.save('/content/drive/My Drive/Patches_64_20m/patches_train_no_1_2022_no_max_v2.npy', patches_train_2022_array)"
      ]
    },
    {
      "cell_type": "markdown",
      "metadata": {
        "id": "bshA-EmsBhjB"
      },
      "source": [
        "# Patches 64x64 no max depth. Area 2"
      ]
    },
    {
      "cell_type": "markdown",
      "metadata": {
        "id": "oO_yzm-lBhjC"
      },
      "source": [
        "## Patches 2019"
      ]
    },
    {
      "cell_type": "code",
      "execution_count": null,
      "metadata": {
        "colab": {
          "base_uri": "https://localhost:8080/"
        },
        "outputId": "c1348829-d042-4cb6-8c9d-1655add03e2b",
        "id": "l3aLA0iIBhjC"
      },
      "outputs": [
        {
          "output_type": "stream",
          "name": "stdout",
          "text": [
            "2018-12-19\n",
            "shape:  8470650\n",
            "\n",
            " image 2:\n",
            "Number of patches for training: 5980\n",
            "Patch shape: (64, 64, 13)\n",
            "(2080, 64, 64, 13)\n",
            "(2080, 64, 64, 13)\n",
            "Number of patches for testing: 1472\n",
            "Patch shape: (64, 64, 13)\n",
            "(635, 64, 64, 13)\n",
            "(635, 64, 64, 13)\n",
            "2019-01-03\n",
            "shape:  8733907\n",
            "\n",
            " image 2:\n",
            "Number of patches for training: 5980\n",
            "Patch shape: (64, 64, 13)\n",
            "(2231, 64, 64, 13)\n",
            "(2231, 64, 64, 13)\n",
            "Number of patches for testing: 1472\n",
            "Patch shape: (64, 64, 13)\n",
            "(666, 64, 64, 13)\n",
            "(666, 64, 64, 13)\n",
            "2019-01-08\n",
            "shape:  8755489\n",
            "\n",
            " image 2:\n",
            "Number of patches for training: 5980\n",
            "Patch shape: (64, 64, 13)\n",
            "(2185, 64, 64, 13)\n",
            "(2185, 64, 64, 13)\n",
            "Number of patches for testing: 1472\n",
            "Patch shape: (64, 64, 13)\n",
            "(660, 64, 64, 13)\n",
            "(660, 64, 64, 13)\n",
            "2019-01-13\n",
            "shape:  8666044\n",
            "\n",
            " image 2:\n",
            "Number of patches for training: 5980\n",
            "Patch shape: (64, 64, 13)\n",
            "(2090, 64, 64, 13)\n",
            "(2090, 64, 64, 13)\n",
            "Number of patches for testing: 1472\n",
            "Patch shape: (64, 64, 13)\n",
            "(661, 64, 64, 13)\n",
            "(661, 64, 64, 13)\n",
            "2019-02-02\n",
            "shape:  8563505\n",
            "\n",
            " image 2:\n",
            "Number of patches for training: 5980\n",
            "Patch shape: (64, 64, 13)\n",
            "(2212, 64, 64, 13)\n",
            "(2212, 64, 64, 13)\n",
            "Number of patches for testing: 1472\n",
            "Patch shape: (64, 64, 13)\n",
            "(660, 64, 64, 13)\n",
            "(660, 64, 64, 13)\n",
            "2019-02-12\n",
            "shape:  8715483\n",
            "\n",
            " image 2:\n",
            "Number of patches for training: 5980\n",
            "Patch shape: (64, 64, 13)\n",
            "(2194, 64, 64, 13)\n",
            "(2194, 64, 64, 13)\n",
            "Number of patches for testing: 1472\n",
            "Patch shape: (64, 64, 13)\n",
            "(664, 64, 64, 13)\n",
            "(664, 64, 64, 13)\n",
            "2019-03-14\n",
            "shape:  8550141\n",
            "\n",
            " image 2:\n",
            "Number of patches for training: 5980\n",
            "Patch shape: (64, 64, 13)\n",
            "(2078, 64, 64, 13)\n",
            "(2078, 64, 64, 13)\n",
            "Number of patches for testing: 1472\n",
            "Patch shape: (64, 64, 13)\n",
            "(654, 64, 64, 13)\n",
            "(654, 64, 64, 13)\n",
            "2019-10-10\n",
            "shape:  8525662\n",
            "\n",
            " image 2:\n",
            "Number of patches for training: 5980\n",
            "Patch shape: (64, 64, 13)\n",
            "(2161, 64, 64, 13)\n",
            "(2161, 64, 64, 13)\n",
            "Number of patches for testing: 1472\n",
            "Patch shape: (64, 64, 13)\n",
            "(647, 64, 64, 13)\n",
            "(647, 64, 64, 13)\n",
            "2019-10-15\n",
            "shape:  8335493\n",
            "\n",
            " image 2:\n",
            "Number of patches for training: 5980\n",
            "Patch shape: (64, 64, 13)\n",
            "(2170, 64, 64, 13)\n",
            "(2170, 64, 64, 13)\n",
            "Number of patches for testing: 1472\n",
            "Patch shape: (64, 64, 13)\n",
            "(633, 64, 64, 13)\n",
            "(633, 64, 64, 13)\n",
            "2019-11-04\n",
            "shape:  8745361\n",
            "\n",
            " image 2:\n",
            "Number of patches for training: 5980\n",
            "Patch shape: (64, 64, 13)\n",
            "(2181, 64, 64, 13)\n",
            "(2181, 64, 64, 13)\n",
            "Number of patches for testing: 1472\n",
            "Patch shape: (64, 64, 13)\n",
            "(661, 64, 64, 13)\n",
            "(661, 64, 64, 13)\n",
            "2019-11-14\n",
            "shape:  8746573\n",
            "\n",
            " image 2:\n",
            "Number of patches for training: 5980\n",
            "Patch shape: (64, 64, 13)\n",
            "(2091, 64, 64, 13)\n",
            "(2091, 64, 64, 13)\n",
            "Number of patches for testing: 1472\n",
            "Patch shape: (64, 64, 13)\n",
            "(662, 64, 64, 13)\n",
            "(662, 64, 64, 13)\n",
            "2019-11-19\n",
            "shape:  8636369\n",
            "\n",
            " image 2:\n",
            "Number of patches for training: 5980\n",
            "Patch shape: (64, 64, 13)\n",
            "(2084, 64, 64, 13)\n",
            "(2084, 64, 64, 13)\n",
            "Number of patches for testing: 1472\n",
            "Patch shape: (64, 64, 13)\n",
            "(653, 64, 64, 13)\n",
            "(653, 64, 64, 13)\n",
            "2019-11-24\n",
            "shape:  8754473\n",
            "\n",
            " image 2:\n",
            "Number of patches for training: 5980\n",
            "Patch shape: (64, 64, 13)\n",
            "(2190, 64, 64, 13)\n",
            "(2190, 64, 64, 13)\n",
            "Number of patches for testing: 1472\n",
            "Patch shape: (64, 64, 13)\n",
            "(664, 64, 64, 13)\n",
            "(664, 64, 64, 13)\n",
            "2019-12-09\n",
            "shape:  8654774\n",
            "\n",
            " image 2:\n",
            "Number of patches for training: 5980\n",
            "Patch shape: (64, 64, 13)\n",
            "(2178, 64, 64, 13)\n",
            "(2178, 64, 64, 13)\n",
            "Number of patches for testing: 1472\n",
            "Patch shape: (64, 64, 13)\n",
            "(663, 64, 64, 13)\n",
            "(663, 64, 64, 13)\n",
            "2019-12-29\n",
            "shape:  8722451\n",
            "\n",
            " image 2:\n",
            "Number of patches for training: 5980\n",
            "Patch shape: (64, 64, 13)\n",
            "(2186, 64, 64, 13)\n",
            "(2186, 64, 64, 13)\n",
            "Number of patches for testing: 1472\n",
            "Patch shape: (64, 64, 13)\n",
            "(661, 64, 64, 13)\n",
            "(661, 64, 64, 13)\n"
          ]
        }
      ],
      "source": [
        "from pathlib import Path # for reincursive folders\n",
        "import gc\n",
        "import matplotlib.colors as mcolors\n",
        "\n",
        "from google.colab import files\n",
        "\n",
        "patches_test_2019 = []\n",
        "patches_train_2019 = []\n",
        "\n",
        "\n",
        "root_dir = '/content/drive/MyDrive/GEE_good_2019/'\n",
        "\n",
        "for filename in Path(root_dir).rglob('*.tif'):\n",
        "  try:\n",
        "      filename = str(filename)\n",
        "      date = filename[37:47] # select date of image\n",
        "      with rasterio.open(filename) as src:\n",
        "          image = src.read()\n",
        "      del src\n",
        "      gc.collect()\n",
        "      print(date)\n",
        "      image = stack_layers(image,ref,reference) # Remove NaN values and stack reference data\n",
        "      image = remove_nan(image) # Remove NaN values and stack reference data\n",
        "      image_reference = image[12,:,:]\n",
        "      image = np.transpose(image, (1, 2, 0))\n",
        "      image = normalize_image(image)\n",
        "\n",
        "      ### IMAGE 2\n",
        "      print('\\n image 2:')\n",
        "      image_no_2 = np.copy(image)\n",
        "      image_no_2[1035:2000,:,:] = np.nan\n",
        "      image_2 = image[1035:2000,:,:]\n",
        "\n",
        "      # Extract patches\n",
        "      patch_size = (64, 64, 13)\n",
        "      stride = 58\n",
        "      zeroed_patches_train, zeroed_patches_test, removed_indices = extract_zeroed_patches(image_no_2, image_2, patch_size=(64, 64, 13), nan_threshold=0.9)\n",
        "\n",
        "      # append patches\n",
        "      patches_test_2019.append(zeroed_patches_test)\n",
        "      patches_train_2019.append(zeroed_patches_train)\n",
        "\n",
        "  except Exception as e:\n",
        "    # code to handle the exception\n",
        "    print(e)\n",
        "    pass"
      ]
    },
    {
      "cell_type": "code",
      "execution_count": null,
      "metadata": {
        "colab": {
          "base_uri": "https://localhost:8080/"
        },
        "outputId": "5efe16b5-ffa1-43da-dd50-149e80e8981b",
        "id": "nDwUjjc0BhjC"
      },
      "outputs": [
        {
          "output_type": "execute_result",
          "data": {
            "text/plain": [
              "(9844, 64, 64, 13)"
            ]
          },
          "metadata": {},
          "execution_count": 21
        }
      ],
      "source": [
        "patches_test_2019_array = np.concatenate(patches_test_2019, axis=0)\n",
        "patches_test_2019_array.shape\n",
        "# With no random starting point and no 10% striding: 5100 patches."
      ]
    },
    {
      "cell_type": "code",
      "execution_count": null,
      "metadata": {
        "colab": {
          "base_uri": "https://localhost:8080/"
        },
        "outputId": "3b5a10f1-a92f-40f4-dc8e-ccc506cce317",
        "id": "W4Yk0fvJBhjD"
      },
      "outputs": [
        {
          "output_type": "execute_result",
          "data": {
            "text/plain": [
              "(32311, 64, 64, 13)"
            ]
          },
          "metadata": {},
          "execution_count": 22
        }
      ],
      "source": [
        "patches_train_2019_array = np.concatenate(patches_train_2019, axis=0)\n",
        "patches_train_2019_array.shape\n",
        "# With no random starting point and no 10% striding: 20081 patches."
      ]
    },
    {
      "cell_type": "code",
      "execution_count": null,
      "metadata": {
        "id": "11E_DE7wBhjD"
      },
      "outputs": [],
      "source": [
        "np.save('/content/drive/My Drive/Patches_64_20m/patches_test_2_2019_no_max_v2.npy', patches_test_2019_array)\n",
        "np.save('/content/drive/My Drive/Patches_64_20m/patches_train_no_2_2019_no_max_v2.npy', patches_train_2019_array)"
      ]
    },
    {
      "cell_type": "markdown",
      "metadata": {
        "id": "3vKO0EtUBhjD"
      },
      "source": [
        "## Patches 2020"
      ]
    },
    {
      "cell_type": "code",
      "execution_count": null,
      "metadata": {
        "colab": {
          "base_uri": "https://localhost:8080/"
        },
        "outputId": "4a76989b-954c-4dff-d334-e25515495db2",
        "id": "78jygcpbBhjD"
      },
      "outputs": [
        {
          "output_type": "stream",
          "name": "stdout",
          "text": [
            "2020-02-02\n",
            "shape:  8735227\n",
            "\n",
            " image 2:\n",
            "Number of patches for training: 5980\n",
            "Patch shape: (64, 64, 13)\n",
            "(2189, 64, 64, 13)\n",
            "(2189, 64, 64, 13)\n",
            "Number of patches for testing: 1472\n",
            "Patch shape: (64, 64, 13)\n",
            "(661, 64, 64, 13)\n",
            "(661, 64, 64, 13)\n",
            "2020-02-12\n",
            "shape:  8468763\n",
            "\n",
            " image 2:\n",
            "Number of patches for training: 5980\n",
            "Patch shape: (64, 64, 13)\n",
            "(2051, 64, 64, 13)\n",
            "(2051, 64, 64, 13)\n",
            "Number of patches for testing: 1472\n",
            "Patch shape: (64, 64, 13)\n",
            "(713, 64, 64, 13)\n",
            "(713, 64, 64, 13)\n",
            "2020-02-17\n",
            "shape:  8741922\n",
            "\n",
            " image 2:\n",
            "Number of patches for training: 5980\n",
            "Patch shape: (64, 64, 13)\n",
            "(2189, 64, 64, 13)\n",
            "(2189, 64, 64, 13)\n",
            "Number of patches for testing: 1472\n",
            "Patch shape: (64, 64, 13)\n",
            "(663, 64, 64, 13)\n",
            "(663, 64, 64, 13)\n",
            "2020-03-13\n",
            "shape:  8585116\n",
            "\n",
            " image 2:\n",
            "Number of patches for training: 5980\n",
            "Patch shape: (64, 64, 13)\n",
            "(2180, 64, 64, 13)\n",
            "(2180, 64, 64, 13)\n",
            "Number of patches for testing: 1472\n",
            "Patch shape: (64, 64, 13)\n",
            "(638, 64, 64, 13)\n",
            "(638, 64, 64, 13)\n",
            "2020-10-09\n",
            "shape:  8669689\n",
            "\n",
            " image 2:\n",
            "Number of patches for training: 5980\n",
            "Patch shape: (64, 64, 13)\n",
            "(2230, 64, 64, 13)\n",
            "(2230, 64, 64, 13)\n",
            "Number of patches for testing: 1472\n",
            "Patch shape: (64, 64, 13)\n",
            "(658, 64, 64, 13)\n",
            "(658, 64, 64, 13)\n",
            "2020-10-19\n",
            "shape:  8727759\n",
            "\n",
            " image 2:\n",
            "Number of patches for training: 5980\n",
            "Patch shape: (64, 64, 13)\n",
            "(2090, 64, 64, 13)\n",
            "(2090, 64, 64, 13)\n",
            "Number of patches for testing: 1472\n",
            "Patch shape: (64, 64, 13)\n",
            "(664, 64, 64, 13)\n",
            "(664, 64, 64, 13)\n",
            "2020-11-13\n",
            "shape:  8676205\n",
            "\n",
            " image 2:\n",
            "Number of patches for training: 5980\n",
            "Patch shape: (64, 64, 13)\n",
            "(2087, 64, 64, 13)\n",
            "(2087, 64, 64, 13)\n",
            "Number of patches for testing: 1472\n",
            "Patch shape: (64, 64, 13)\n",
            "(664, 64, 64, 13)\n",
            "(664, 64, 64, 13)\n",
            "2020-12-13\n",
            "shape:  8644406\n",
            "\n",
            " image 2:\n",
            "Number of patches for training: 5980\n",
            "Patch shape: (64, 64, 13)\n",
            "(2180, 64, 64, 13)\n",
            "(2180, 64, 64, 13)\n",
            "Number of patches for testing: 1472\n",
            "Patch shape: (64, 64, 13)\n",
            "(660, 64, 64, 13)\n",
            "(660, 64, 64, 13)\n",
            "2020-12-18\n",
            "shape:  8737277\n",
            "\n",
            " image 2:\n",
            "Number of patches for training: 5980\n",
            "Patch shape: (64, 64, 13)\n",
            "(2195, 64, 64, 13)\n",
            "(2195, 64, 64, 13)\n",
            "Number of patches for testing: 1472\n",
            "Patch shape: (64, 64, 13)\n",
            "(663, 64, 64, 13)\n",
            "(663, 64, 64, 13)\n",
            "2020-12-23\n",
            "shape:  8700415\n",
            "\n",
            " image 2:\n",
            "Number of patches for training: 5980\n",
            "Patch shape: (64, 64, 13)\n",
            "(2187, 64, 64, 13)\n",
            "(2187, 64, 64, 13)\n",
            "Number of patches for testing: 1472\n",
            "Patch shape: (64, 64, 13)\n",
            "(659, 64, 64, 13)\n",
            "(659, 64, 64, 13)\n",
            "2020-12-28\n",
            "shape:  8755668\n",
            "\n",
            " image 2:\n",
            "Number of patches for training: 5980\n",
            "Patch shape: (64, 64, 13)\n",
            "(2233, 64, 64, 13)\n",
            "(2233, 64, 64, 13)\n",
            "Number of patches for testing: 1472\n",
            "Patch shape: (64, 64, 13)\n",
            "(665, 64, 64, 13)\n",
            "(665, 64, 64, 13)\n"
          ]
        }
      ],
      "source": [
        "from pathlib import Path # for reincursive folders\n",
        "import gc\n",
        "import matplotlib.colors as mcolors\n",
        "\n",
        "from google.colab import files\n",
        "\n",
        "patches_test_2020 = []\n",
        "patches_train_2020 = []\n",
        "\n",
        "\n",
        "root_dir = '/content/drive/MyDrive/GEE_good_2020/'\n",
        "\n",
        "for filename in Path(root_dir).rglob('*.tif'):\n",
        "  try:\n",
        "      filename = str(filename)\n",
        "      date = filename[37:47] # select date of image\n",
        "      with rasterio.open(filename) as src:\n",
        "          image = src.read()\n",
        "      del src\n",
        "      gc.collect()\n",
        "      print(date)\n",
        "      image = stack_layers(image,ref,reference) # Remove NaN values and stack reference data\n",
        "      image = remove_nan(image) # Remove NaN values and stack reference data\n",
        "      image_reference = image[12,:,:]\n",
        "      image = np.transpose(image, (1, 2, 0))\n",
        "      image = normalize_image(image)\n",
        "\n",
        "      ### IMAGE 2\n",
        "      print('\\n image 2:')\n",
        "      image_no_2 = np.copy(image)\n",
        "      image_no_2[1035:2000,:,:] = np.nan\n",
        "      image_2 = image[1035:2000,:,:]\n",
        "      # Extract patches\n",
        "      patch_size = (64, 64, 13)\n",
        "      stride = 58\n",
        "      zeroed_patches_train, zeroed_patches_test, removed_indices = extract_zeroed_patches(image_no_2, image_2, patch_size=(64, 64, 13), nan_threshold=0.9)\n",
        "\n",
        "      # append patches\n",
        "      patches_test_2020.append(zeroed_patches_test)\n",
        "      patches_train_2020.append(zeroed_patches_train)\n",
        "\n",
        "  except Exception as e:\n",
        "    # code to handle the exception\n",
        "    print(e)\n",
        "    pass"
      ]
    },
    {
      "cell_type": "code",
      "execution_count": null,
      "metadata": {
        "colab": {
          "base_uri": "https://localhost:8080/"
        },
        "outputId": "6dc92954-d0a3-4833-f593-06d718ffd714",
        "id": "DNY-AqXdBhjD"
      },
      "outputs": [
        {
          "output_type": "execute_result",
          "data": {
            "text/plain": [
              "(7308, 64, 64, 13)"
            ]
          },
          "metadata": {},
          "execution_count": 21
        }
      ],
      "source": [
        "patches_test_2020_array = np.concatenate(patches_test_2020, axis=0)\n",
        "patches_test_2020_array.shape"
      ]
    },
    {
      "cell_type": "code",
      "execution_count": null,
      "metadata": {
        "colab": {
          "base_uri": "https://localhost:8080/"
        },
        "outputId": "24e97bc6-d207-4436-cdd6-c78af0f58ef3",
        "id": "Ao25JNl8BhjD"
      },
      "outputs": [
        {
          "output_type": "execute_result",
          "data": {
            "text/plain": [
              "(23811, 64, 64, 13)"
            ]
          },
          "metadata": {},
          "execution_count": 22
        }
      ],
      "source": [
        "patches_train_2020_array = np.concatenate(patches_train_2020, axis=0)\n",
        "patches_train_2020_array.shape\n",
        "# With no random starting point and no 10% striding: 14797 patches."
      ]
    },
    {
      "cell_type": "code",
      "execution_count": null,
      "metadata": {
        "id": "UPD1hKGTBhjD"
      },
      "outputs": [],
      "source": [
        "np.save('/content/drive/My Drive/Patches_64_20m/patches_test_2_2020_no_max_v2.npy', patches_test_2020_array)\n",
        "np.save('/content/drive/My Drive/Patches_64_20m/patches_train_no_2_2020_no_max_v2.npy', patches_train_2020_array)"
      ]
    },
    {
      "cell_type": "markdown",
      "metadata": {
        "id": "234RpM-3BhjD"
      },
      "source": [
        "## Patches 2021"
      ]
    },
    {
      "cell_type": "code",
      "execution_count": null,
      "metadata": {
        "colab": {
          "base_uri": "https://localhost:8080/"
        },
        "outputId": "c2a96129-1281-48c3-d3de-fb801cd50076",
        "id": "OQgSCt1lBhjE"
      },
      "outputs": [
        {
          "output_type": "stream",
          "name": "stdout",
          "text": [
            "2021-01-07\n",
            "shape:  8752528\n",
            "\n",
            " image 2:\n",
            "Number of patches for training: 5980\n",
            "Patch shape: (64, 64, 13)\n",
            "(2231, 64, 64, 13)\n",
            "(2231, 64, 64, 13)\n",
            "Number of patches for testing: 1472\n",
            "Patch shape: (64, 64, 13)\n",
            "(662, 64, 64, 13)\n",
            "(662, 64, 64, 13)\n",
            "2021-01-12\n",
            "shape:  8751697\n",
            "\n",
            " image 2:\n",
            "Number of patches for training: 5980\n",
            "Patch shape: (64, 64, 13)\n",
            "(2187, 64, 64, 13)\n",
            "(2187, 64, 64, 13)\n",
            "Number of patches for testing: 1472\n",
            "Patch shape: (64, 64, 13)\n",
            "(661, 64, 64, 13)\n",
            "(661, 64, 64, 13)\n",
            "2021-01-17\n",
            "shape:  8591704\n",
            "\n",
            " image 2:\n",
            "Number of patches for training: 5980\n",
            "Patch shape: (64, 64, 13)\n",
            "(2225, 64, 64, 13)\n",
            "(2225, 64, 64, 13)\n",
            "Number of patches for testing: 1472\n",
            "Patch shape: (64, 64, 13)\n",
            "(656, 64, 64, 13)\n",
            "(656, 64, 64, 13)\n",
            "2021-01-22\n",
            "shape:  8755515\n",
            "\n",
            " image 2:\n",
            "Number of patches for training: 5980\n",
            "Patch shape: (64, 64, 13)\n",
            "(2090, 64, 64, 13)\n",
            "(2090, 64, 64, 13)\n",
            "Number of patches for testing: 1472\n",
            "Patch shape: (64, 64, 13)\n",
            "(662, 64, 64, 13)\n",
            "(662, 64, 64, 13)\n",
            "2021-01-27\n",
            "shape:  8756195\n",
            "\n",
            " image 2:\n",
            "Number of patches for training: 5980\n",
            "Patch shape: (64, 64, 13)\n",
            "(2186, 64, 64, 13)\n",
            "(2186, 64, 64, 13)\n",
            "Number of patches for testing: 1472\n",
            "Patch shape: (64, 64, 13)\n",
            "(661, 64, 64, 13)\n",
            "(661, 64, 64, 13)\n",
            "2021-02-11\n",
            "shape:  8669494\n",
            "\n",
            " image 2:\n",
            "Number of patches for training: 5980\n",
            "Patch shape: (64, 64, 13)\n",
            "(2092, 64, 64, 13)\n",
            "(2092, 64, 64, 13)\n",
            "Number of patches for testing: 1472\n",
            "Patch shape: (64, 64, 13)\n",
            "(663, 64, 64, 13)\n",
            "(663, 64, 64, 13)\n",
            "2021-02-21\n",
            "shape:  8518843\n",
            "\n",
            " image 2:\n",
            "Number of patches for training: 5980\n",
            "Patch shape: (64, 64, 13)\n",
            "(2188, 64, 64, 13)\n",
            "(2188, 64, 64, 13)\n",
            "Number of patches for testing: 1472\n",
            "Patch shape: (64, 64, 13)\n",
            "(651, 64, 64, 13)\n",
            "(651, 64, 64, 13)\n",
            "2021-03-13\n",
            "shape:  8700384\n",
            "\n",
            " image 2:\n",
            "Number of patches for training: 5980\n",
            "Patch shape: (64, 64, 13)\n",
            "(2188, 64, 64, 13)\n",
            "(2188, 64, 64, 13)\n",
            "Number of patches for testing: 1472\n",
            "Patch shape: (64, 64, 13)\n",
            "(656, 64, 64, 13)\n",
            "(656, 64, 64, 13)\n",
            "2021-10-19\n",
            "shape:  8639922\n",
            "\n",
            " image 2:\n",
            "Number of patches for training: 5980\n",
            "Patch shape: (64, 64, 13)\n",
            "(2185, 64, 64, 13)\n",
            "(2185, 64, 64, 13)\n",
            "Number of patches for testing: 1472\n",
            "Patch shape: (64, 64, 13)\n",
            "(658, 64, 64, 13)\n",
            "(658, 64, 64, 13)\n",
            "2021-10-24\n",
            "shape:  8737240\n",
            "\n",
            " image 2:\n",
            "Number of patches for training: 5980\n",
            "Patch shape: (64, 64, 13)\n",
            "(2192, 64, 64, 13)\n",
            "(2192, 64, 64, 13)\n",
            "Number of patches for testing: 1472\n",
            "Patch shape: (64, 64, 13)\n",
            "(660, 64, 64, 13)\n",
            "(660, 64, 64, 13)\n",
            "2021-11-23\n",
            "shape:  8625011\n",
            "\n",
            " image 2:\n",
            "Number of patches for training: 5980\n",
            "Patch shape: (64, 64, 13)\n",
            "(2184, 64, 64, 13)\n",
            "(2184, 64, 64, 13)\n",
            "Number of patches for testing: 1472\n",
            "Patch shape: (64, 64, 13)\n",
            "(662, 64, 64, 13)\n",
            "(662, 64, 64, 13)\n",
            "2021-12-03\n",
            "shape:  8637136\n",
            "\n",
            " image 2:\n",
            "Number of patches for training: 5980\n",
            "Patch shape: (64, 64, 13)\n",
            "(2209, 64, 64, 13)\n",
            "(2209, 64, 64, 13)\n",
            "Number of patches for testing: 1472\n",
            "Patch shape: (64, 64, 13)\n",
            "(661, 64, 64, 13)\n",
            "(661, 64, 64, 13)\n",
            "2021-12-08\n",
            "shape:  8754362\n",
            "\n",
            " image 2:\n",
            "Number of patches for training: 5980\n",
            "Patch shape: (64, 64, 13)\n",
            "(2234, 64, 64, 13)\n",
            "(2234, 64, 64, 13)\n",
            "Number of patches for testing: 1472\n",
            "Patch shape: (64, 64, 13)\n",
            "(711, 64, 64, 13)\n",
            "(711, 64, 64, 13)\n",
            "2021-12-28\n",
            "shape:  8744949\n",
            "\n",
            " image 2:\n",
            "Number of patches for training: 5980\n",
            "Patch shape: (64, 64, 13)\n",
            "(2188, 64, 64, 13)\n",
            "(2188, 64, 64, 13)\n",
            "Number of patches for testing: 1472\n",
            "Patch shape: (64, 64, 13)\n",
            "(661, 64, 64, 13)\n",
            "(661, 64, 64, 13)\n"
          ]
        }
      ],
      "source": [
        "from pathlib import Path # for reincursive folders\n",
        "import gc\n",
        "import matplotlib.colors as mcolors\n",
        "\n",
        "from google.colab import files\n",
        "\n",
        "patches_test_2021 = []\n",
        "patches_train_2021 = []\n",
        "\n",
        "\n",
        "root_dir = '/content/drive/MyDrive/GEE_good_2021/'\n",
        "\n",
        "for filename in Path(root_dir).rglob('*.tif'):\n",
        "  try:\n",
        "      filename = str(filename)\n",
        "      date = filename[37:47] # select date of image\n",
        "      with rasterio.open(filename) as src:\n",
        "          image = src.read()\n",
        "      del src\n",
        "      gc.collect()\n",
        "      print(date)\n",
        "      image = stack_layers(image,ref,reference) # Remove NaN values and stack reference data\n",
        "      image = remove_nan(image) # Remove NaN values and stack reference data\n",
        "      image_reference = image[12,:,:]\n",
        "      image = np.transpose(image, (1, 2, 0))\n",
        "      image = normalize_image(image)\n",
        "\n",
        "      ### IMAGE 2\n",
        "      print('\\n image 2:')\n",
        "      image_no_2 = np.copy(image)\n",
        "      image_no_2[1035:2000,:,:] = np.nan\n",
        "      image_2 = image[1035:2000,:,:]\n",
        "      # Extract patches\n",
        "      patch_size = (16, 16, 13)\n",
        "      stride = 58\n",
        "      zeroed_patches_train, zeroed_patches_test, removed_indices = extract_zeroed_patches(image_no_2, image_2, patch_size=(64, 64, 13), nan_threshold=0.9)\n",
        "\n",
        "      # append patches\n",
        "      patches_test_2021.append(zeroed_patches_test)\n",
        "      patches_train_2021.append(zeroed_patches_train)\n",
        "\n",
        "  except Exception as e:\n",
        "    # code to handle the exception\n",
        "    print(e)\n",
        "    pass"
      ]
    },
    {
      "cell_type": "code",
      "execution_count": null,
      "metadata": {
        "colab": {
          "base_uri": "https://localhost:8080/"
        },
        "outputId": "dd8ccede-b762-4e30-9fc9-49bc895d1625",
        "id": "DeNUfFcxBhjE"
      },
      "outputs": [
        {
          "output_type": "execute_result",
          "data": {
            "text/plain": [
              "(9285, 64, 64, 13)"
            ]
          },
          "metadata": {},
          "execution_count": 21
        }
      ],
      "source": [
        "patches_test_2021_array = np.concatenate(patches_test_2021, axis=0)\n",
        "patches_test_2021_array.shape\n",
        "# With no random starting point and no 10% striding: 18837 patches."
      ]
    },
    {
      "cell_type": "code",
      "execution_count": null,
      "metadata": {
        "colab": {
          "base_uri": "https://localhost:8080/"
        },
        "outputId": "23a3a1b7-e229-4581-f8b3-cf95538ce4f8",
        "id": "DnAJd2KpBhjE"
      },
      "outputs": [
        {
          "output_type": "execute_result",
          "data": {
            "text/plain": [
              "(30579, 64, 64, 13)"
            ]
          },
          "metadata": {},
          "execution_count": 22
        }
      ],
      "source": [
        "patches_train_2021_array = np.concatenate(patches_train_2021, axis=0)\n",
        "patches_train_2021_array.shape\n",
        "# With no random starting point and no 10% striding: 18837 patches.\n",
        "# With random patching, no norm: 23056 patches."
      ]
    },
    {
      "cell_type": "code",
      "execution_count": null,
      "metadata": {
        "id": "18c8GFlvBhjE"
      },
      "outputs": [],
      "source": [
        "np.save('/content/drive/My Drive/Patches_64_20m/patches_test_2_2021_no_max_v2.npy', patches_test_2021_array)\n",
        "np.save('/content/drive/My Drive/Patches_64_20m/patches_train_no_2_2021_no_max_v2.npy', patches_train_2021_array)"
      ]
    },
    {
      "cell_type": "markdown",
      "metadata": {
        "id": "O7Pia82OBhjE"
      },
      "source": [
        "## Patches 2022"
      ]
    },
    {
      "cell_type": "code",
      "execution_count": null,
      "metadata": {
        "colab": {
          "base_uri": "https://localhost:8080/"
        },
        "outputId": "8b7a528e-a76f-4b24-ac95-6bc9b64d9a38",
        "id": "nkyykuGXBhjE"
      },
      "outputs": [
        {
          "output_type": "stream",
          "name": "stdout",
          "text": [
            "2022-01-12\n",
            "shape:  8755689\n",
            "\n",
            " image 2:\n",
            "Number of patches for training: 5980\n",
            "Patch shape: (64, 64, 13)\n",
            "(2189, 64, 64, 13)\n",
            "(2189, 64, 64, 13)\n",
            "Number of patches for testing: 1472\n",
            "Patch shape: (64, 64, 13)\n",
            "(712, 64, 64, 13)\n",
            "(712, 64, 64, 13)\n",
            "2022-01-22\n",
            "shape:  8608291\n",
            "\n",
            " image 2:\n",
            "Number of patches for training: 5980\n",
            "Patch shape: (64, 64, 13)\n",
            "(2067, 64, 64, 13)\n",
            "(2067, 64, 64, 13)\n",
            "Number of patches for testing: 1472\n",
            "Patch shape: (64, 64, 13)\n",
            "(661, 64, 64, 13)\n",
            "(661, 64, 64, 13)\n",
            "2022-02-21\n",
            "shape:  4885104\n",
            "\n",
            " image 2:\n",
            "Number of patches for training: 5980\n",
            "Patch shape: (64, 64, 13)\n",
            "(1915, 64, 64, 13)\n",
            "(1915, 64, 64, 13)\n",
            "Number of patches for testing: 1472\n",
            "Patch shape: (64, 64, 13)\n",
            "(553, 64, 64, 13)\n",
            "(553, 64, 64, 13)\n",
            "2022-03-03\n",
            "shape:  2602686\n",
            "\n",
            " image 2:\n",
            "Number of patches for training: 5980\n",
            "Patch shape: (64, 64, 13)\n",
            "(948, 64, 64, 13)\n",
            "(948, 64, 64, 13)\n",
            "Number of patches for testing: 1472\n",
            "Patch shape: (64, 64, 13)\n",
            "(234, 64, 64, 13)\n",
            "(234, 64, 64, 13)\n",
            "2022-11-03\n",
            "shape:  3826058\n",
            "\n",
            " image 2:\n",
            "Number of patches for training: 5980\n",
            "Patch shape: (64, 64, 13)\n",
            "(1589, 64, 64, 13)\n",
            "(1589, 64, 64, 13)\n",
            "Number of patches for testing: 1472\n",
            "Patch shape: (64, 64, 13)\n",
            "(288, 64, 64, 13)\n",
            "(288, 64, 64, 13)\n",
            "2022-11-18\n",
            "shape:  7315405\n",
            "\n",
            " image 2:\n",
            "Number of patches for training: 5980\n",
            "Patch shape: (64, 64, 13)\n",
            "(2082, 64, 64, 13)\n",
            "(2082, 64, 64, 13)\n",
            "Number of patches for testing: 1472\n",
            "Patch shape: (64, 64, 13)\n",
            "(660, 64, 64, 13)\n",
            "(660, 64, 64, 13)\n",
            "2022-11-28\n",
            "shape:  5010348\n",
            "\n",
            " image 2:\n",
            "Number of patches for training: 5980\n",
            "Patch shape: (64, 64, 13)\n",
            "(2068, 64, 64, 13)\n",
            "(2068, 64, 64, 13)\n",
            "Number of patches for testing: 1472\n",
            "Patch shape: (64, 64, 13)\n",
            "(524, 64, 64, 13)\n",
            "(524, 64, 64, 13)\n",
            "2022-12-23\n",
            "shape:  5228160\n",
            "\n",
            " image 2:\n",
            "Number of patches for training: 5980\n",
            "Patch shape: (64, 64, 13)\n",
            "(1906, 64, 64, 13)\n",
            "(1906, 64, 64, 13)\n",
            "Number of patches for testing: 1472\n",
            "Patch shape: (64, 64, 13)\n",
            "(606, 64, 64, 13)\n",
            "(606, 64, 64, 13)\n",
            "2023-01-12\n",
            "shape:  198577\n",
            "\n",
            " image 2:\n",
            "Number of patches for training: 5980\n",
            "Patch shape: (64, 64, 13)\n",
            "(231, 64, 64, 13)\n",
            "(231, 64, 64, 13)\n",
            "Number of patches for testing: 1472\n",
            "Patch shape: (64, 64, 13)\n",
            "(37, 64, 64, 13)\n",
            "(37, 64, 64, 13)\n",
            "2023-01-22\n",
            "shape:  5464189\n",
            "\n",
            " image 2:\n",
            "Number of patches for training: 5980\n",
            "Patch shape: (64, 64, 13)\n",
            "(1680, 64, 64, 13)\n",
            "(1680, 64, 64, 13)\n",
            "Number of patches for testing: 1472\n",
            "Patch shape: (64, 64, 13)\n",
            "(451, 64, 64, 13)\n",
            "(451, 64, 64, 13)\n"
          ]
        }
      ],
      "source": [
        "from pathlib import Path # for reincursive folders\n",
        "import gc\n",
        "import matplotlib.colors as mcolors\n",
        "\n",
        "from google.colab import files\n",
        "\n",
        "patches_test_2022 = []\n",
        "patches_train_2022 = []\n",
        "\n",
        "\n",
        "root_dir = '/content/drive/MyDrive/GEE_good_2022/'\n",
        "\n",
        "for filename in Path(root_dir).rglob('*.tif'):\n",
        "  try:\n",
        "      filename = str(filename)\n",
        "      date = filename[37:47] # select date of image\n",
        "      with rasterio.open(filename) as src:\n",
        "          image = src.read()\n",
        "      del src\n",
        "      gc.collect()\n",
        "      print(date)\n",
        "      image = stack_layers(image,ref,reference) # Remove NaN values and stack reference data\n",
        "      image = remove_nan(image) # Remove NaN values and stack reference data\n",
        "      image_reference = image[12,:,:]\n",
        "      image = np.transpose(image, (1, 2, 0))\n",
        "      image = normalize_image(image)\n",
        "\n",
        "      ### IMAGE 2\n",
        "      print('\\n image 2:')\n",
        "      image_no_2 = np.copy(image)\n",
        "      image_no_2[1035:2000,:,:] = np.nan\n",
        "      image_2 = image[1035:2000,:,:]\n",
        "      # Extract patches\n",
        "      patch_size = (16, 16, 13)\n",
        "      stride = 58\n",
        "      zeroed_patches_train, zeroed_patches_test, removed_indices = extract_zeroed_patches(image_no_2, image_2, patch_size=(64, 64, 13), nan_threshold=0.9)\n",
        "\n",
        "      # append patches\n",
        "      patches_test_2022.append(zeroed_patches_test)\n",
        "      patches_train_2022.append(zeroed_patches_train)\n",
        "\n",
        "  except Exception as e:\n",
        "    # code to handle the exception\n",
        "    print(e)\n",
        "    pass"
      ]
    },
    {
      "cell_type": "code",
      "execution_count": null,
      "metadata": {
        "colab": {
          "base_uri": "https://localhost:8080/"
        },
        "outputId": "686afc46-b0af-4986-be47-c70e5d904b4d",
        "id": "ie3mlE7mBhjE"
      },
      "outputs": [
        {
          "output_type": "execute_result",
          "data": {
            "text/plain": [
              "(4726, 64, 64, 13)"
            ]
          },
          "metadata": {},
          "execution_count": 21
        }
      ],
      "source": [
        "patches_test_2022_array = np.concatenate(patches_test_2022, axis=0)\n",
        "patches_test_2022_array.shape\n",
        "# With no random starting point and no 10% striding: 2729 patches."
      ]
    },
    {
      "cell_type": "code",
      "execution_count": null,
      "metadata": {
        "colab": {
          "base_uri": "https://localhost:8080/"
        },
        "outputId": "636a5275-0c72-4fca-ed88-bf5e695ee4f4",
        "id": "9NOOvAb1BhjE"
      },
      "outputs": [
        {
          "output_type": "execute_result",
          "data": {
            "text/plain": [
              "(16675, 64, 64, 13)"
            ]
          },
          "metadata": {},
          "execution_count": 22
        }
      ],
      "source": [
        "patches_train_2022_array = np.concatenate(patches_train_2022, axis=0)\n",
        "patches_train_2022_array.shape\n",
        "# With no random starting point and no 10% striding: 10335 patches."
      ]
    },
    {
      "cell_type": "code",
      "execution_count": null,
      "metadata": {
        "colab": {
          "base_uri": "https://localhost:8080/"
        },
        "outputId": "5e8a1164-105c-47f0-9314-012fa222664c",
        "id": "D9VIRGW0BhjF"
      },
      "outputs": [
        {
          "output_type": "display_data",
          "data": {
            "text/plain": [
              "<Figure size 432x288 with 2 Axes>"
            ],
            "image/png": "[encoded data removed]"
          },
          "metadata": {
            "needs_background": "light"
          }
        }
      ],
      "source": [
        "plt.imshow(patches_train_2022_array[213,:,:,1])\n",
        "plt.colorbar()\n",
        "plt.show()\n"
      ]
    },
    {
      "cell_type": "code",
      "execution_count": null,
      "metadata": {
        "id": "mHjdtnbYBhjF"
      },
      "outputs": [],
      "source": [
        "np.save('/content/drive/My Drive/Patches_64_20m/patches_test_2_2022_no_max_v2.npy', patches_test_2022_array)\n",
        "np.save('/content/drive/My Drive/Patches_64_20m/patches_train_no_2_2022_no_max_v2.npy', patches_train_2022_array)"
      ]
    },
    {
      "cell_type": "markdown",
      "metadata": {
        "id": "CvSTwQfwH9zO"
      },
      "source": [
        "# Patches 64x64 no max depth. Area 3"
      ]
    },
    {
      "cell_type": "markdown",
      "metadata": {
        "id": "5W57DtRIH9zP"
      },
      "source": [
        "## Patches 2019"
      ]
    },
    {
      "cell_type": "code",
      "execution_count": null,
      "metadata": {
        "colab": {
          "base_uri": "https://localhost:8080/"
        },
        "outputId": "29459799-71a0-4975-8785-d16e2081f5a5",
        "id": "LxKaCvpzH9zP"
      },
      "outputs": [
        {
          "output_type": "stream",
          "name": "stdout",
          "text": [
            "2018-12-19\n",
            "shape:  8470650\n",
            "\n",
            " image 3:\n",
            "Number of patches for training: 5980\n",
            "Patch shape: (64, 64, 13)\n",
            "(2145, 64, 64, 13)\n",
            "(2145, 64, 64, 13)\n",
            "Number of patches for testing: 1440\n",
            "Patch shape: (64, 64, 13)\n",
            "(670, 64, 64, 13)\n",
            "(670, 64, 64, 13)\n",
            "2019-01-03\n",
            "shape:  8733907\n",
            "\n",
            " image 3:\n",
            "Number of patches for training: 5980\n",
            "Patch shape: (64, 64, 13)\n",
            "(2207, 64, 64, 13)\n",
            "(2207, 64, 64, 13)\n",
            "Number of patches for testing: 1440\n",
            "Patch shape: (64, 64, 13)\n",
            "(678, 64, 64, 13)\n",
            "(678, 64, 64, 13)\n",
            "2019-01-08\n",
            "shape:  8755489\n",
            "\n",
            " image 3:\n",
            "Number of patches for training: 5980\n",
            "Patch shape: (64, 64, 13)\n",
            "(2208, 64, 64, 13)\n",
            "(2208, 64, 64, 13)\n",
            "Number of patches for testing: 1440\n",
            "Patch shape: (64, 64, 13)\n",
            "(647, 64, 64, 13)\n",
            "(647, 64, 64, 13)\n",
            "2019-01-13\n",
            "shape:  8666044\n",
            "\n",
            " image 3:\n",
            "Number of patches for training: 5980\n",
            "Patch shape: (64, 64, 13)\n",
            "(2105, 64, 64, 13)\n",
            "(2105, 64, 64, 13)\n",
            "Number of patches for testing: 1440\n",
            "Patch shape: (64, 64, 13)\n",
            "(684, 64, 64, 13)\n",
            "(684, 64, 64, 13)\n",
            "2019-02-02\n",
            "shape:  8563505\n",
            "\n",
            " image 3:\n",
            "Number of patches for training: 5980\n",
            "Patch shape: (64, 64, 13)\n",
            "(2102, 64, 64, 13)\n",
            "(2102, 64, 64, 13)\n",
            "Number of patches for testing: 1440\n",
            "Patch shape: (64, 64, 13)\n",
            "(672, 64, 64, 13)\n",
            "(672, 64, 64, 13)\n",
            "2019-02-12\n",
            "shape:  8715483\n",
            "\n",
            " image 3:\n",
            "Number of patches for training: 5980\n",
            "Patch shape: (64, 64, 13)\n",
            "(2111, 64, 64, 13)\n",
            "(2111, 64, 64, 13)\n",
            "Number of patches for testing: 1440\n",
            "Patch shape: (64, 64, 13)\n",
            "(694, 64, 64, 13)\n",
            "(694, 64, 64, 13)\n",
            "2019-03-14\n",
            "shape:  8550141\n",
            "\n",
            " image 3:\n",
            "Number of patches for training: 5980\n",
            "Patch shape: (64, 64, 13)\n",
            "(2090, 64, 64, 13)\n",
            "(2090, 64, 64, 13)\n",
            "Number of patches for testing: 1440\n",
            "Patch shape: (64, 64, 13)\n",
            "(675, 64, 64, 13)\n",
            "(675, 64, 64, 13)\n",
            "2019-10-10\n",
            "shape:  8525662\n",
            "\n",
            " image 3:\n",
            "Number of patches for training: 5980\n",
            "Patch shape: (64, 64, 13)\n",
            "(2148, 64, 64, 13)\n",
            "(2148, 64, 64, 13)\n",
            "Number of patches for testing: 1440\n",
            "Patch shape: (64, 64, 13)\n",
            "(674, 64, 64, 13)\n",
            "(674, 64, 64, 13)\n",
            "2019-10-15\n",
            "shape:  8335493\n",
            "\n",
            " image 3:\n",
            "Number of patches for training: 5980\n",
            "Patch shape: (64, 64, 13)\n",
            "(2063, 64, 64, 13)\n",
            "(2063, 64, 64, 13)\n",
            "Number of patches for testing: 1440\n",
            "Patch shape: (64, 64, 13)\n",
            "(649, 64, 64, 13)\n",
            "(649, 64, 64, 13)\n",
            "2019-11-04\n",
            "shape:  8745361\n",
            "\n",
            " image 3:\n",
            "Number of patches for training: 5980\n",
            "Patch shape: (64, 64, 13)\n",
            "(2177, 64, 64, 13)\n",
            "(2177, 64, 64, 13)\n",
            "Number of patches for testing: 1440\n",
            "Patch shape: (64, 64, 13)\n",
            "(699, 64, 64, 13)\n",
            "(699, 64, 64, 13)\n",
            "2019-11-14\n",
            "shape:  8746573\n",
            "\n",
            " image 3:\n",
            "Number of patches for training: 5980\n",
            "Patch shape: (64, 64, 13)\n",
            "(2205, 64, 64, 13)\n",
            "(2205, 64, 64, 13)\n",
            "Number of patches for testing: 1440\n",
            "Patch shape: (64, 64, 13)\n",
            "(672, 64, 64, 13)\n",
            "(672, 64, 64, 13)\n",
            "2019-11-19\n",
            "shape:  8636369\n",
            "\n",
            " image 3:\n",
            "Number of patches for training: 5980\n",
            "Patch shape: (64, 64, 13)\n",
            "(2168, 64, 64, 13)\n",
            "(2168, 64, 64, 13)\n",
            "Number of patches for testing: 1440\n",
            "Patch shape: (64, 64, 13)\n",
            "(682, 64, 64, 13)\n",
            "(682, 64, 64, 13)\n",
            "2019-11-24\n",
            "shape:  8754473\n",
            "\n",
            " image 3:\n",
            "Number of patches for training: 5980\n",
            "Patch shape: (64, 64, 13)\n",
            "(2117, 64, 64, 13)\n",
            "(2117, 64, 64, 13)\n",
            "Number of patches for testing: 1440\n",
            "Patch shape: (64, 64, 13)\n",
            "(692, 64, 64, 13)\n",
            "(692, 64, 64, 13)\n",
            "2019-12-09\n",
            "shape:  8654774\n",
            "\n",
            " image 3:\n",
            "Number of patches for training: 5980\n",
            "Patch shape: (64, 64, 13)\n",
            "(2180, 64, 64, 13)\n",
            "(2180, 64, 64, 13)\n",
            "Number of patches for testing: 1440\n",
            "Patch shape: (64, 64, 13)\n",
            "(645, 64, 64, 13)\n",
            "(645, 64, 64, 13)\n",
            "2019-12-29\n",
            "shape:  8722451\n",
            "\n",
            " image 3:\n",
            "Number of patches for training: 5980\n",
            "Patch shape: (64, 64, 13)\n",
            "(2112, 64, 64, 13)\n",
            "(2112, 64, 64, 13)\n",
            "Number of patches for testing: 1440\n",
            "Patch shape: (64, 64, 13)\n",
            "(681, 64, 64, 13)\n",
            "(681, 64, 64, 13)\n"
          ]
        }
      ],
      "source": [
        "from pathlib import Path # for reincursive folders\n",
        "import gc\n",
        "import matplotlib.colors as mcolors\n",
        "\n",
        "from google.colab import files\n",
        "\n",
        "patches_test_2019 = []\n",
        "patches_train_2019 = []\n",
        "\n",
        "\n",
        "root_dir = '/content/drive/MyDrive/GEE_good_2019/'\n",
        "\n",
        "for filename in Path(root_dir).rglob('*.tif'):\n",
        "  try:\n",
        "      filename = str(filename)\n",
        "      date = filename[37:47] # select date of image\n",
        "      with rasterio.open(filename) as src:\n",
        "          image = src.read()\n",
        "      del src\n",
        "      gc.collect()\n",
        "      print(date)\n",
        "      image = stack_layers(image,ref,reference) # Remove NaN values and stack reference data\n",
        "      image = remove_nan(image) # Remove NaN values and stack reference data\n",
        "      image_reference = image[12,:,:]\n",
        "      image = np.transpose(image, (1, 2, 0))\n",
        "      image = normalize_image(image)\n",
        "\n",
        "      ### IMAGE 3\n",
        "      print('\\n image 3:')\n",
        "      image_no_3 = np.copy(image)\n",
        "      image_no_3[2000:,:2800,:] = np.nan\n",
        "      image_3 = image[2000:,:2800,:]\n",
        "\n",
        "      # Extract patches\n",
        "      patch_size = (64, 64, 13)\n",
        "      stride = 58\n",
        "      zeroed_patches_train, zeroed_patches_test, removed_indices = extract_zeroed_patches(image_no_3, image_3, patch_size=(64, 64, 13), nan_threshold=0.9)\n",
        "\n",
        "      # append patches\n",
        "      patches_test_2019.append(zeroed_patches_test)\n",
        "      patches_train_2019.append(zeroed_patches_train)\n",
        "\n",
        "  except Exception as e:\n",
        "    # code to handle the exception\n",
        "    print(e)\n",
        "    pass"
      ]
    },
    {
      "cell_type": "code",
      "execution_count": null,
      "metadata": {
        "colab": {
          "base_uri": "https://localhost:8080/"
        },
        "outputId": "3f662ab6-c954-4602-f02b-b4b770dee6b2",
        "id": "TdMm-jXoH9zP"
      },
      "outputs": [
        {
          "output_type": "execute_result",
          "data": {
            "text/plain": [
              "(10114, 64, 64, 13)"
            ]
          },
          "metadata": {},
          "execution_count": 21
        }
      ],
      "source": [
        "patches_test_2019_array = np.concatenate(patches_test_2019, axis=0)\n",
        "patches_test_2019_array.shape\n",
        "# With no random starting point and no 10% striding: 5100 patches."
      ]
    },
    {
      "cell_type": "code",
      "execution_count": null,
      "metadata": {
        "colab": {
          "base_uri": "https://localhost:8080/"
        },
        "outputId": "619f3556-5a4d-40dd-9fac-acf8ff5c21e4",
        "id": "nvYoVL9XH9zP"
      },
      "outputs": [
        {
          "output_type": "execute_result",
          "data": {
            "text/plain": [
              "(32138, 64, 64, 13)"
            ]
          },
          "metadata": {},
          "execution_count": 22
        }
      ],
      "source": [
        "patches_train_2019_array = np.concatenate(patches_train_2019, axis=0)\n",
        "patches_train_2019_array.shape\n",
        "# With no random starting point and no 10% striding: 20081 patches."
      ]
    },
    {
      "cell_type": "code",
      "execution_count": null,
      "metadata": {
        "id": "k030N_sZH9zQ"
      },
      "outputs": [],
      "source": [
        "np.save('/content/drive/My Drive/Patches_64_20m/patches_test_3_2019_no_max_v2.npy', patches_test_2019_array)\n",
        "np.save('/content/drive/My Drive/Patches_64_20m/patches_train_no_3_2019_no_max_v2.npy', patches_train_2019_array)"
      ]
    },
    {
      "cell_type": "markdown",
      "metadata": {
        "id": "4dIalFgxH9zQ"
      },
      "source": [
        "## Patches 2020"
      ]
    },
    {
      "cell_type": "code",
      "execution_count": null,
      "metadata": {
        "colab": {
          "base_uri": "https://localhost:8080/"
        },
        "outputId": "2cba4cd2-f36c-47c6-f9fa-5bd207799540",
        "id": "ZXFBDiSVH9zQ"
      },
      "outputs": [
        {
          "output_type": "stream",
          "name": "stdout",
          "text": [
            "2020-02-02\n",
            "shape:  8735227\n",
            "\n",
            " image 3:\n",
            "Number of patches for training: 5980\n",
            "Patch shape: (64, 64, 13)\n",
            "(2105, 64, 64, 13)\n",
            "(2105, 64, 64, 13)\n",
            "Number of patches for testing: 1440\n",
            "Patch shape: (64, 64, 13)\n",
            "(652, 64, 64, 13)\n",
            "(652, 64, 64, 13)\n",
            "2020-02-12\n",
            "shape:  8468763\n",
            "\n",
            " image 3:\n",
            "Number of patches for training: 5980\n",
            "Patch shape: (64, 64, 13)\n",
            "(2087, 64, 64, 13)\n",
            "(2087, 64, 64, 13)\n",
            "Number of patches for testing: 1440\n",
            "Patch shape: (64, 64, 13)\n",
            "(679, 64, 64, 13)\n",
            "(679, 64, 64, 13)\n",
            "2020-02-17\n",
            "shape:  8741922\n",
            "\n",
            " image 3:\n",
            "Number of patches for training: 5980\n",
            "Patch shape: (64, 64, 13)\n",
            "(2202, 64, 64, 13)\n",
            "(2202, 64, 64, 13)\n",
            "Number of patches for testing: 1440\n",
            "Patch shape: (64, 64, 13)\n",
            "(680, 64, 64, 13)\n",
            "(680, 64, 64, 13)\n",
            "2020-03-13\n",
            "shape:  8585116\n",
            "\n",
            " image 3:\n",
            "Number of patches for training: 5980\n",
            "Patch shape: (64, 64, 13)\n",
            "(2179, 64, 64, 13)\n",
            "(2179, 64, 64, 13)\n",
            "Number of patches for testing: 1440\n",
            "Patch shape: (64, 64, 13)\n",
            "(653, 64, 64, 13)\n",
            "(653, 64, 64, 13)\n",
            "2020-10-09\n",
            "shape:  8669689\n",
            "\n",
            " image 3:\n",
            "Number of patches for training: 5980\n",
            "Patch shape: (64, 64, 13)\n",
            "(2208, 64, 64, 13)\n",
            "(2208, 64, 64, 13)\n",
            "Number of patches for testing: 1440\n",
            "Patch shape: (64, 64, 13)\n",
            "(670, 64, 64, 13)\n",
            "(670, 64, 64, 13)\n",
            "2020-10-19\n",
            "shape:  8727759\n",
            "\n",
            " image 3:\n",
            "Number of patches for training: 5980\n",
            "Patch shape: (64, 64, 13)\n",
            "(2205, 64, 64, 13)\n",
            "(2205, 64, 64, 13)\n",
            "Number of patches for testing: 1440\n",
            "Patch shape: (64, 64, 13)\n",
            "(673, 64, 64, 13)\n",
            "(673, 64, 64, 13)\n",
            "2020-11-13\n",
            "shape:  8676205\n",
            "\n",
            " image 3:\n",
            "Number of patches for training: 5980\n",
            "Patch shape: (64, 64, 13)\n",
            "(2211, 64, 64, 13)\n",
            "(2211, 64, 64, 13)\n",
            "Number of patches for testing: 1440\n",
            "Patch shape: (64, 64, 13)\n",
            "(694, 64, 64, 13)\n",
            "(694, 64, 64, 13)\n",
            "2020-12-13\n",
            "shape:  8644406\n",
            "\n",
            " image 3:\n",
            "Number of patches for training: 5980\n",
            "Patch shape: (64, 64, 13)\n",
            "(2173, 64, 64, 13)\n",
            "(2173, 64, 64, 13)\n",
            "Number of patches for testing: 1440\n",
            "Patch shape: (64, 64, 13)\n",
            "(695, 64, 64, 13)\n",
            "(695, 64, 64, 13)\n",
            "2020-12-18\n",
            "shape:  8737277\n",
            "\n",
            " image 3:\n",
            "Number of patches for training: 5980\n",
            "Patch shape: (64, 64, 13)\n",
            "(2203, 64, 64, 13)\n",
            "(2203, 64, 64, 13)\n",
            "Number of patches for testing: 1440\n",
            "Patch shape: (64, 64, 13)\n",
            "(659, 64, 64, 13)\n",
            "(659, 64, 64, 13)\n",
            "2020-12-23\n",
            "shape:  8700415\n",
            "\n",
            " image 3:\n",
            "Number of patches for training: 5980\n",
            "Patch shape: (64, 64, 13)\n",
            "(2181, 64, 64, 13)\n",
            "(2181, 64, 64, 13)\n",
            "Number of patches for testing: 1440\n",
            "Patch shape: (64, 64, 13)\n",
            "(695, 64, 64, 13)\n",
            "(695, 64, 64, 13)\n",
            "2020-12-28\n",
            "shape:  8755668\n",
            "\n",
            " image 3:\n",
            "Number of patches for training: 5980\n",
            "Patch shape: (64, 64, 13)\n",
            "(2218, 64, 64, 13)\n",
            "(2218, 64, 64, 13)\n",
            "Number of patches for testing: 1440\n",
            "Patch shape: (64, 64, 13)\n",
            "(664, 64, 64, 13)\n",
            "(664, 64, 64, 13)\n"
          ]
        }
      ],
      "source": [
        "from pathlib import Path # for reincursive folders\n",
        "import gc\n",
        "import matplotlib.colors as mcolors\n",
        "\n",
        "from google.colab import files\n",
        "\n",
        "patches_test_2020 = []\n",
        "patches_train_2020 = []\n",
        "\n",
        "\n",
        "root_dir = '/content/drive/MyDrive/GEE_good_2020/'\n",
        "\n",
        "for filename in Path(root_dir).rglob('*.tif'):\n",
        "  try:\n",
        "      filename = str(filename)\n",
        "      date = filename[37:47] # select date of image\n",
        "      with rasterio.open(filename) as src:\n",
        "          image = src.read()\n",
        "      del src\n",
        "      gc.collect()\n",
        "      print(date)\n",
        "      image = stack_layers(image,ref,reference) # Remove NaN values and stack reference data\n",
        "      image = remove_nan(image) # Remove NaN values and stack reference data\n",
        "      image_reference = image[12,:,:]\n",
        "      image = np.transpose(image, (1, 2, 0))\n",
        "      image = normalize_image(image)\n",
        "\n",
        "      ### IMAGE 3\n",
        "      print('\\n image 3:')\n",
        "      image_no_3 = np.copy(image)\n",
        "      image_no_3[2000:,:2800,:] = np.nan\n",
        "      image_3 = image[2000:,:2800,:]\n",
        "\n",
        "      patch_size = (64, 64, 13)\n",
        "      stride = 58\n",
        "      zeroed_patches_train, zeroed_patches_test, removed_indices = extract_zeroed_patches(image_no_3, image_3, patch_size=(64, 64, 13), nan_threshold=0.9)\n",
        "\n",
        "      # append patches\n",
        "      patches_test_2020.append(zeroed_patches_test)\n",
        "      patches_train_2020.append(zeroed_patches_train)\n",
        "\n",
        "  except Exception as e:\n",
        "    # code to handle the exception\n",
        "    print(e)\n",
        "    pass"
      ]
    },
    {
      "cell_type": "code",
      "execution_count": null,
      "metadata": {
        "colab": {
          "base_uri": "https://localhost:8080/"
        },
        "outputId": "65ecdd72-129b-4b6e-bccd-85de8405ca99",
        "id": "QpIf3FkFH9zQ"
      },
      "outputs": [
        {
          "output_type": "execute_result",
          "data": {
            "text/plain": [
              "(7414, 64, 64, 13)"
            ]
          },
          "metadata": {},
          "execution_count": 21
        }
      ],
      "source": [
        "patches_test_2020_array = np.concatenate(patches_test_2020, axis=0)\n",
        "patches_test_2020_array.shape"
      ]
    },
    {
      "cell_type": "code",
      "execution_count": null,
      "metadata": {
        "colab": {
          "base_uri": "https://localhost:8080/"
        },
        "outputId": "4dd33882-dec5-4193-99c7-d34637582b6c",
        "id": "Abe262w2H9zR"
      },
      "outputs": [
        {
          "output_type": "execute_result",
          "data": {
            "text/plain": [
              "(23972, 64, 64, 13)"
            ]
          },
          "metadata": {},
          "execution_count": 22
        }
      ],
      "source": [
        "patches_train_2020_array = np.concatenate(patches_train_2020, axis=0)\n",
        "patches_train_2020_array.shape\n",
        "# With no random starting point and no 10% striding: 14797 patches."
      ]
    },
    {
      "cell_type": "code",
      "execution_count": null,
      "metadata": {
        "id": "RN7W_hy6H9zR"
      },
      "outputs": [],
      "source": [
        "np.save('/content/drive/My Drive/Patches_64_20m/patches_test_3_2020_no_max_v2.npy', patches_test_2020_array)\n",
        "np.save('/content/drive/My Drive/Patches_64_20m/patches_train_no_3_2020_no_max_v2.npy', patches_train_2020_array)"
      ]
    },
    {
      "cell_type": "markdown",
      "metadata": {
        "id": "rskNSY4RH9zR"
      },
      "source": [
        "## Patches 2021"
      ]
    },
    {
      "cell_type": "code",
      "execution_count": null,
      "metadata": {
        "colab": {
          "base_uri": "https://localhost:8080/"
        },
        "outputId": "f97e8bcf-1830-422b-feb9-7c86bafe616b",
        "id": "nh99XTnTH9zR"
      },
      "outputs": [
        {
          "output_type": "stream",
          "name": "stdout",
          "text": [
            "2021-01-07\n",
            "shape:  8752528\n",
            "\n",
            " image 3:\n",
            "Number of patches for training: 5980\n",
            "Patch shape: (64, 64, 13)\n",
            "(2191, 64, 64, 13)\n",
            "(2191, 64, 64, 13)\n",
            "Number of patches for testing: 1440\n",
            "Patch shape: (64, 64, 13)\n",
            "(680, 64, 64, 13)\n",
            "(680, 64, 64, 13)\n",
            "2021-01-12\n",
            "shape:  8751697\n",
            "\n",
            " image 3:\n",
            "Number of patches for training: 5980\n",
            "Patch shape: (64, 64, 13)\n",
            "(2113, 64, 64, 13)\n",
            "(2113, 64, 64, 13)\n",
            "Number of patches for testing: 1440\n",
            "Patch shape: (64, 64, 13)\n",
            "(692, 64, 64, 13)\n",
            "(692, 64, 64, 13)\n",
            "2021-01-17\n",
            "shape:  8591704\n",
            "\n",
            " image 3:\n",
            "Number of patches for training: 5980\n",
            "Patch shape: (64, 64, 13)\n",
            "(2178, 64, 64, 13)\n",
            "(2178, 64, 64, 13)\n",
            "Number of patches for testing: 1440\n",
            "Patch shape: (64, 64, 13)\n",
            "(669, 64, 64, 13)\n",
            "(669, 64, 64, 13)\n",
            "2021-01-22\n",
            "shape:  8755515\n",
            "\n",
            " image 3:\n",
            "Number of patches for training: 5980\n",
            "Patch shape: (64, 64, 13)\n",
            "(2179, 64, 64, 13)\n",
            "(2179, 64, 64, 13)\n",
            "Number of patches for testing: 1440\n",
            "Patch shape: (64, 64, 13)\n",
            "(672, 64, 64, 13)\n",
            "(672, 64, 64, 13)\n",
            "2021-01-27\n",
            "shape:  8756195\n",
            "\n",
            " image 3:\n",
            "Number of patches for training: 5980\n",
            "Patch shape: (64, 64, 13)\n",
            "(2187, 64, 64, 13)\n",
            "(2187, 64, 64, 13)\n",
            "Number of patches for testing: 1440\n",
            "Patch shape: (64, 64, 13)\n",
            "(652, 64, 64, 13)\n",
            "(652, 64, 64, 13)\n",
            "2021-02-11\n",
            "shape:  8669494\n",
            "\n",
            " image 3:\n",
            "Number of patches for training: 5980\n",
            "Patch shape: (64, 64, 13)\n",
            "(2181, 64, 64, 13)\n",
            "(2181, 64, 64, 13)\n",
            "Number of patches for testing: 1440\n",
            "Patch shape: (64, 64, 13)\n",
            "(650, 64, 64, 13)\n",
            "(650, 64, 64, 13)\n",
            "2021-02-21\n",
            "shape:  8518843\n",
            "\n",
            " image 3:\n",
            "Number of patches for training: 5980\n",
            "Patch shape: (64, 64, 13)\n",
            "(2178, 64, 64, 13)\n",
            "(2178, 64, 64, 13)\n",
            "Number of patches for testing: 1440\n",
            "Patch shape: (64, 64, 13)\n",
            "(688, 64, 64, 13)\n",
            "(688, 64, 64, 13)\n",
            "2021-03-13\n",
            "shape:  8700384\n",
            "\n",
            " image 3:\n",
            "Number of patches for training: 5980\n",
            "Patch shape: (64, 64, 13)\n",
            "(2178, 64, 64, 13)\n",
            "(2178, 64, 64, 13)\n",
            "Number of patches for testing: 1440\n",
            "Patch shape: (64, 64, 13)\n",
            "(685, 64, 64, 13)\n",
            "(685, 64, 64, 13)\n",
            "2021-10-19\n",
            "shape:  8639922\n",
            "\n",
            " image 3:\n",
            "Number of patches for training: 5980\n",
            "Patch shape: (64, 64, 13)\n",
            "(2207, 64, 64, 13)\n",
            "(2207, 64, 64, 13)\n",
            "Number of patches for testing: 1440\n",
            "Patch shape: (64, 64, 13)\n",
            "(676, 64, 64, 13)\n",
            "(676, 64, 64, 13)\n",
            "2021-10-24\n",
            "shape:  8737240\n",
            "\n",
            " image 3:\n",
            "Number of patches for training: 5980\n",
            "Patch shape: (64, 64, 13)\n",
            "(2208, 64, 64, 13)\n",
            "(2208, 64, 64, 13)\n",
            "Number of patches for testing: 1440\n",
            "Patch shape: (64, 64, 13)\n",
            "(689, 64, 64, 13)\n",
            "(689, 64, 64, 13)\n",
            "2021-11-23\n",
            "shape:  8625011\n",
            "\n",
            " image 3:\n",
            "Number of patches for training: 5980\n",
            "Patch shape: (64, 64, 13)\n",
            "(2176, 64, 64, 13)\n",
            "(2176, 64, 64, 13)\n",
            "Number of patches for testing: 1440\n",
            "Patch shape: (64, 64, 13)\n",
            "(670, 64, 64, 13)\n",
            "(670, 64, 64, 13)\n",
            "2021-12-03\n",
            "shape:  8637136\n",
            "\n",
            " image 3:\n",
            "Number of patches for training: 5980\n",
            "Patch shape: (64, 64, 13)\n",
            "(2193, 64, 64, 13)\n",
            "(2193, 64, 64, 13)\n",
            "Number of patches for testing: 1440\n",
            "Patch shape: (64, 64, 13)\n",
            "(642, 64, 64, 13)\n",
            "(642, 64, 64, 13)\n",
            "2021-12-08\n",
            "shape:  8754362\n",
            "\n",
            " image 3:\n",
            "Number of patches for training: 5980\n",
            "Patch shape: (64, 64, 13)\n",
            "(2183, 64, 64, 13)\n",
            "(2183, 64, 64, 13)\n",
            "Number of patches for testing: 1440\n",
            "Patch shape: (64, 64, 13)\n",
            "(650, 64, 64, 13)\n",
            "(650, 64, 64, 13)\n",
            "2021-12-28\n",
            "shape:  8744949\n",
            "\n",
            " image 3:\n",
            "Number of patches for training: 5980\n",
            "Patch shape: (64, 64, 13)\n",
            "(2170, 64, 64, 13)\n",
            "(2170, 64, 64, 13)\n",
            "Number of patches for testing: 1440\n",
            "Patch shape: (64, 64, 13)\n",
            "(673, 64, 64, 13)\n",
            "(673, 64, 64, 13)\n"
          ]
        }
      ],
      "source": [
        "from pathlib import Path # for reincursive folders\n",
        "import gc\n",
        "import matplotlib.colors as mcolors\n",
        "\n",
        "from google.colab import files\n",
        "\n",
        "patches_test_2021 = []\n",
        "patches_train_2021 = []\n",
        "\n",
        "\n",
        "root_dir = '/content/drive/MyDrive/GEE_good_2021/'\n",
        "\n",
        "for filename in Path(root_dir).rglob('*.tif'):\n",
        "  try:\n",
        "      filename = str(filename)\n",
        "      date = filename[37:47] # select date of image\n",
        "      with rasterio.open(filename) as src:\n",
        "          image = src.read()\n",
        "      del src\n",
        "      gc.collect()\n",
        "      print(date)\n",
        "      image = stack_layers(image,ref,reference) # Remove NaN values and stack reference data\n",
        "      image = remove_nan(image) # Remove NaN values and stack reference data\n",
        "      image_reference = image[12,:,:]\n",
        "      image = np.transpose(image, (1, 2, 0))\n",
        "      image = normalize_image(image)\n",
        "\n",
        "      ### IMAGE 3\n",
        "      print('\\n image 3:')\n",
        "      image_no_3 = np.copy(image)\n",
        "      image_no_3[2000:,:2800,:] = np.nan\n",
        "      image_3 = image[2000:,:2800,:]\n",
        "\n",
        "      # Extract patches\n",
        "      stride = 58\n",
        "      zeroed_patches_train, zeroed_patches_test, removed_indices = extract_zeroed_patches(image_no_3, image_3, patch_size=(64, 64, 13), nan_threshold=0.9)\n",
        "\n",
        "      # append patches\n",
        "      patches_test_2021.append(zeroed_patches_test)\n",
        "      patches_train_2021.append(zeroed_patches_train)\n",
        "\n",
        "  except Exception as e:\n",
        "    # code to handle the exception\n",
        "    print(e)\n",
        "    pass"
      ]
    },
    {
      "cell_type": "code",
      "execution_count": null,
      "metadata": {
        "colab": {
          "base_uri": "https://localhost:8080/"
        },
        "outputId": "598a92fe-e8e5-442b-9334-af9b7c91b9aa",
        "id": "Nm7e_itaH9zR"
      },
      "outputs": [
        {
          "output_type": "execute_result",
          "data": {
            "text/plain": [
              "(9388, 64, 64, 13)"
            ]
          },
          "metadata": {},
          "execution_count": 21
        }
      ],
      "source": [
        "patches_test_2021_array = np.concatenate(patches_test_2021, axis=0)\n",
        "patches_test_2021_array.shape\n",
        "# With no random starting point and no 10% striding: 18837 patches."
      ]
    },
    {
      "cell_type": "code",
      "execution_count": null,
      "metadata": {
        "colab": {
          "base_uri": "https://localhost:8080/"
        },
        "outputId": "aa16703e-ec87-4dbd-9041-7e904721a279",
        "id": "4Zh_A6HOH9zR"
      },
      "outputs": [
        {
          "output_type": "execute_result",
          "data": {
            "text/plain": [
              "(30522, 64, 64, 13)"
            ]
          },
          "metadata": {},
          "execution_count": 22
        }
      ],
      "source": [
        "patches_train_2021_array = np.concatenate(patches_train_2021, axis=0)\n",
        "patches_train_2021_array.shape\n",
        "# With no random starting point and no 10% striding: 18837 patches.\n",
        "# With random patching, no norm: 23056 patches."
      ]
    },
    {
      "cell_type": "code",
      "execution_count": null,
      "metadata": {
        "id": "ZZ8_c1YLH9zR"
      },
      "outputs": [],
      "source": [
        "np.save('/content/drive/My Drive/Patches_64_20m/patches_test_3_2021_no_max_v2.npy', patches_test_2021_array)\n",
        "np.save('/content/drive/My Drive/Patches_64_20m/patches_train_no_3_2021_no_max_v2.npy', patches_train_2021_array)"
      ]
    },
    {
      "cell_type": "markdown",
      "metadata": {
        "id": "CUEOVYmEH9zR"
      },
      "source": [
        "## Patches 2022"
      ]
    },
    {
      "cell_type": "code",
      "execution_count": null,
      "metadata": {
        "colab": {
          "base_uri": "https://localhost:8080/"
        },
        "outputId": "5d35c50e-32b5-48b5-c8e9-89fd3ae2567b",
        "id": "iNl6Pqh2H9zS"
      },
      "outputs": [
        {
          "output_type": "stream",
          "name": "stdout",
          "text": [
            "2022-01-12\n",
            "shape:  8755689\n",
            "\n",
            " image 3:\n",
            "Number of patches for training: 5980\n",
            "Patch shape: (64, 64, 13)\n",
            "(2196, 64, 64, 13)\n",
            "(2196, 64, 64, 13)\n",
            "Number of patches for testing: 1440\n",
            "Patch shape: (64, 64, 13)\n",
            "(671, 64, 64, 13)\n",
            "(671, 64, 64, 13)\n",
            "2022-01-22\n",
            "shape:  8608291\n",
            "\n",
            " image 3:\n",
            "Number of patches for training: 5980\n",
            "Patch shape: (64, 64, 13)\n",
            "(2159, 64, 64, 13)\n",
            "(2159, 64, 64, 13)\n",
            "Number of patches for testing: 1440\n",
            "Patch shape: (64, 64, 13)\n",
            "(668, 64, 64, 13)\n",
            "(668, 64, 64, 13)\n",
            "2022-02-21\n",
            "shape:  4885104\n",
            "\n",
            " image 3:\n",
            "Number of patches for training: 5980\n",
            "Patch shape: (64, 64, 13)\n",
            "(1981, 64, 64, 13)\n",
            "(1981, 64, 64, 13)\n",
            "Number of patches for testing: 1440\n",
            "Patch shape: (64, 64, 13)\n",
            "(533, 64, 64, 13)\n",
            "(533, 64, 64, 13)\n",
            "2022-03-03\n",
            "shape:  2602686\n",
            "\n",
            " image 3:\n",
            "Number of patches for training: 5980\n",
            "Patch shape: (64, 64, 13)\n",
            "(1105, 64, 64, 13)\n",
            "(1105, 64, 64, 13)\n",
            "Number of patches for testing: 1440\n",
            "Patch shape: (64, 64, 13)\n",
            "(100, 64, 64, 13)\n",
            "(100, 64, 64, 13)\n",
            "2022-11-03\n",
            "shape:  3826058\n",
            "\n",
            " image 3:\n",
            "Number of patches for training: 5980\n",
            "Patch shape: (64, 64, 13)\n",
            "(1236, 64, 64, 13)\n",
            "(1236, 64, 64, 13)\n",
            "Number of patches for testing: 1440\n",
            "Patch shape: (64, 64, 13)\n",
            "(550, 64, 64, 13)\n",
            "(550, 64, 64, 13)\n",
            "2022-11-18\n",
            "shape:  7315405\n",
            "\n",
            " image 3:\n",
            "Number of patches for training: 5980\n",
            "Patch shape: (64, 64, 13)\n",
            "(2161, 64, 64, 13)\n",
            "(2161, 64, 64, 13)\n",
            "Number of patches for testing: 1440\n",
            "Patch shape: (64, 64, 13)\n",
            "(650, 64, 64, 13)\n",
            "(650, 64, 64, 13)\n",
            "2022-11-28\n",
            "shape:  5010348\n",
            "\n",
            " image 3:\n",
            "Number of patches for training: 5980\n",
            "Patch shape: (64, 64, 13)\n",
            "(1959, 64, 64, 13)\n",
            "(1959, 64, 64, 13)\n",
            "Number of patches for testing: 1440\n",
            "Patch shape: (64, 64, 13)\n",
            "(679, 64, 64, 13)\n",
            "(679, 64, 64, 13)\n",
            "2022-12-23\n",
            "shape:  5228160\n",
            "\n",
            " image 3:\n",
            "Number of patches for training: 5980\n",
            "Patch shape: (64, 64, 13)\n",
            "(1863, 64, 64, 13)\n",
            "(1863, 64, 64, 13)\n",
            "Number of patches for testing: 1440\n",
            "Patch shape: (64, 64, 13)\n",
            "(666, 64, 64, 13)\n",
            "(666, 64, 64, 13)\n",
            "2023-01-12\n",
            "shape:  198577\n",
            "\n",
            " image 3:\n",
            "Number of patches for training: 5980\n",
            "Patch shape: (64, 64, 13)\n",
            "(190, 64, 64, 13)\n",
            "(190, 64, 64, 13)\n",
            "Number of patches for testing: 1440\n",
            "Patch shape: (64, 64, 13)\n",
            "(78, 64, 64, 13)\n",
            "(78, 64, 64, 13)\n",
            "2023-01-22\n",
            "shape:  5464189\n",
            "\n",
            " image 3:\n",
            "Number of patches for training: 5980\n",
            "Patch shape: (64, 64, 13)\n",
            "(1468, 64, 64, 13)\n",
            "(1468, 64, 64, 13)\n",
            "Number of patches for testing: 1440\n",
            "Patch shape: (64, 64, 13)\n",
            "(685, 64, 64, 13)\n",
            "(685, 64, 64, 13)\n"
          ]
        }
      ],
      "source": [
        "from pathlib import Path # for reincursive folders\n",
        "import gc\n",
        "import matplotlib.colors as mcolors\n",
        "\n",
        "from google.colab import files\n",
        "\n",
        "patches_test_2022 = []\n",
        "patches_train_2022 = []\n",
        "\n",
        "\n",
        "root_dir = '/content/drive/MyDrive/GEE_good_2022/'\n",
        "\n",
        "for filename in Path(root_dir).rglob('*.tif'):\n",
        "  try:\n",
        "      filename = str(filename)\n",
        "      date = filename[37:47] # select date of image\n",
        "      with rasterio.open(filename) as src:\n",
        "          image = src.read()\n",
        "      del src\n",
        "      gc.collect()\n",
        "      print(date)\n",
        "      image = stack_layers(image,ref,reference) # Remove NaN values and stack reference data\n",
        "      image = remove_nan(image) # Remove NaN values and stack reference data\n",
        "      image_reference = image[12,:,:]\n",
        "      image = np.transpose(image, (1, 2, 0))\n",
        "      image = normalize_image(image)\n",
        "\n",
        "      ### IMAGE 3\n",
        "      print('\\n image 3:')\n",
        "      image_no_3 = np.copy(image)\n",
        "      image_no_3[2000:,:2800,:] = np.nan\n",
        "      image_3 = image[2000:,:2800,:]\n",
        "\n",
        "      # Extract patches\n",
        "      patch_size = (16, 16, 13)\n",
        "      stride = 58\n",
        "      zeroed_patches_train, zeroed_patches_test, removed_indices = extract_zeroed_patches(image_no_3, image_3, patch_size=(64, 64, 13), nan_threshold=0.9)\n",
        "\n",
        "      # append patches\n",
        "      patches_test_2022.append(zeroed_patches_test)\n",
        "      patches_train_2022.append(zeroed_patches_train)\n",
        "\n",
        "  except Exception as e:\n",
        "    # code to handle the exception\n",
        "    print(e)\n",
        "    pass"
      ]
    },
    {
      "cell_type": "code",
      "execution_count": null,
      "metadata": {
        "colab": {
          "base_uri": "https://localhost:8080/"
        },
        "outputId": "1aef9beb-9689-4c5f-fa6a-d4d15758eebe",
        "id": "DdWHFgMFH9zS"
      },
      "outputs": [
        {
          "output_type": "execute_result",
          "data": {
            "text/plain": [
              "(5280, 64, 64, 13)"
            ]
          },
          "metadata": {},
          "execution_count": 21
        }
      ],
      "source": [
        "patches_test_2022_array = np.concatenate(patches_test_2022, axis=0)\n",
        "patches_test_2022_array.shape\n",
        "# With no random starting point and no 10% striding: 2729 patches."
      ]
    },
    {
      "cell_type": "code",
      "execution_count": null,
      "metadata": {
        "colab": {
          "base_uri": "https://localhost:8080/"
        },
        "outputId": "538fc29b-7ad3-4b73-dd90-0a490f297154",
        "id": "M34aIVbwH9zS"
      },
      "outputs": [
        {
          "output_type": "execute_result",
          "data": {
            "text/plain": [
              "(16318, 64, 64, 13)"
            ]
          },
          "metadata": {},
          "execution_count": 22
        }
      ],
      "source": [
        "patches_train_2022_array = np.concatenate(patches_train_2022, axis=0)\n",
        "patches_train_2022_array.shape\n",
        "# With no random starting point and no 10% striding: 10335 patches."
      ]
    },
    {
      "cell_type": "code",
      "execution_count": null,
      "metadata": {
        "colab": {
          "base_uri": "https://localhost:8080/",
          "height": 268
        },
        "outputId": "e15d8104-6305-4b0a-e08e-587c3b423a2d",
        "id": "wgBVPtJCH9zS"
      },
      "outputs": [
        {
          "output_type": "display_data",
          "data": {
            "text/plain": [
              "<Figure size 432x288 with 2 Axes>"
            ],
            "image/png": "[encoded data removed]"
          },
          "metadata": {
            "needs_background": "light"
          }
        }
      ],
      "source": [
        "plt.imshow(patches_train_2022_array[213,:,:,1])\n",
        "plt.colorbar()\n",
        "plt.show()\n"
      ]
    },
    {
      "cell_type": "code",
      "execution_count": null,
      "metadata": {
        "id": "5g-NhuLwH9zS"
      },
      "outputs": [],
      "source": [
        "np.save('/content/drive/My Drive/Patches_64_20m/patches_test_3_2022_no_max_v2.npy', patches_test_2022_array)\n",
        "np.save('/content/drive/My Drive/Patches_64_20m/patches_train_no_3_2022_no_max_v2.npy', patches_train_2022_array)"
      ]
    },
    {
      "cell_type": "markdown",
      "metadata": {
        "id": "IekNVrwEQwvP"
      },
      "source": [
        "# Patches 64x64 no max depth. Area 4"
      ]
    },
    {
      "cell_type": "markdown",
      "metadata": {
        "id": "yuyBjlmWQwvQ"
      },
      "source": [
        "## Patches 2019"
      ]
    },
    {
      "cell_type": "code",
      "execution_count": null,
      "metadata": {
        "colab": {
          "base_uri": "https://localhost:8080/"
        },
        "outputId": "14cbe334-d934-4fe5-ca48-65ad52fb2c27",
        "id": "0BSbfn_ZQwvQ"
      },
      "outputs": [
        {
          "output_type": "stream",
          "name": "stdout",
          "text": [
            "2018-12-19\n",
            "shape:  8470650\n",
            "\n",
            " image 4:\n",
            "Number of patches for training: 5980\n",
            "Patch shape: (64, 64, 13)\n",
            "(2132, 64, 64, 13)\n",
            "(2132, 64, 64, 13)\n",
            "Number of patches for testing: 1320\n",
            "Patch shape: (64, 64, 13)\n",
            "(680, 64, 64, 13)\n",
            "(680, 64, 64, 13)\n",
            "2019-01-03\n",
            "shape:  8733907\n",
            "\n",
            " image 4:\n",
            "Number of patches for training: 5980\n",
            "Patch shape: (64, 64, 13)\n",
            "(2158, 64, 64, 13)\n",
            "(2158, 64, 64, 13)\n",
            "Number of patches for testing: 1320\n",
            "Patch shape: (64, 64, 13)\n",
            "(681, 64, 64, 13)\n",
            "(681, 64, 64, 13)\n",
            "2019-01-08\n",
            "shape:  8755489\n",
            "\n",
            " image 4:\n",
            "Number of patches for training: 5980\n",
            "Patch shape: (64, 64, 13)\n",
            "(2165, 64, 64, 13)\n",
            "(2165, 64, 64, 13)\n",
            "Number of patches for testing: 1320\n",
            "Patch shape: (64, 64, 13)\n",
            "(683, 64, 64, 13)\n",
            "(683, 64, 64, 13)\n",
            "2019-01-13\n",
            "shape:  8666044\n",
            "\n",
            " image 4:\n",
            "Number of patches for training: 5980\n",
            "Patch shape: (64, 64, 13)\n",
            "(2152, 64, 64, 13)\n",
            "(2152, 64, 64, 13)\n",
            "Number of patches for testing: 1320\n",
            "Patch shape: (64, 64, 13)\n",
            "(681, 64, 64, 13)\n",
            "(681, 64, 64, 13)\n",
            "2019-02-02\n",
            "shape:  8563505\n",
            "\n",
            " image 4:\n",
            "Number of patches for training: 5980\n",
            "Patch shape: (64, 64, 13)\n",
            "(2060, 64, 64, 13)\n",
            "(2060, 64, 64, 13)\n",
            "Number of patches for testing: 1320\n",
            "Patch shape: (64, 64, 13)\n",
            "(673, 64, 64, 13)\n",
            "(673, 64, 64, 13)\n",
            "2019-02-12\n",
            "shape:  8715483\n",
            "\n",
            " image 4:\n",
            "Number of patches for training: 5980\n",
            "Patch shape: (64, 64, 13)\n",
            "(2069, 64, 64, 13)\n",
            "(2069, 64, 64, 13)\n",
            "Number of patches for testing: 1320\n",
            "Patch shape: (64, 64, 13)\n",
            "(684, 64, 64, 13)\n",
            "(684, 64, 64, 13)\n",
            "2019-03-14\n",
            "shape:  8550141\n",
            "\n",
            " image 4:\n",
            "Number of patches for training: 5980\n",
            "Patch shape: (64, 64, 13)\n",
            "(2136, 64, 64, 13)\n",
            "(2136, 64, 64, 13)\n",
            "Number of patches for testing: 1320\n",
            "Patch shape: (64, 64, 13)\n",
            "(693, 64, 64, 13)\n",
            "(693, 64, 64, 13)\n",
            "2019-10-10\n",
            "shape:  8525662\n",
            "\n",
            " image 4:\n",
            "Number of patches for training: 5980\n",
            "Patch shape: (64, 64, 13)\n",
            "(2126, 64, 64, 13)\n",
            "(2126, 64, 64, 13)\n",
            "Number of patches for testing: 1320\n",
            "Patch shape: (64, 64, 13)\n",
            "(677, 64, 64, 13)\n",
            "(677, 64, 64, 13)\n",
            "2019-10-15\n",
            "shape:  8335493\n",
            "\n",
            " image 4:\n",
            "Number of patches for training: 5980\n",
            "Patch shape: (64, 64, 13)\n",
            "(2017, 64, 64, 13)\n",
            "(2017, 64, 64, 13)\n",
            "Number of patches for testing: 1320\n",
            "Patch shape: (64, 64, 13)\n",
            "(688, 64, 64, 13)\n",
            "(688, 64, 64, 13)\n",
            "2019-11-04\n",
            "shape:  8745361\n",
            "\n",
            " image 4:\n",
            "Number of patches for training: 5980\n",
            "Patch shape: (64, 64, 13)\n",
            "(2159, 64, 64, 13)\n",
            "(2159, 64, 64, 13)\n",
            "Number of patches for testing: 1320\n",
            "Patch shape: (64, 64, 13)\n",
            "(682, 64, 64, 13)\n",
            "(682, 64, 64, 13)\n",
            "2019-11-14\n",
            "shape:  8746573\n",
            "\n",
            " image 4:\n",
            "Number of patches for training: 5980\n",
            "Patch shape: (64, 64, 13)\n",
            "(2079, 64, 64, 13)\n",
            "(2079, 64, 64, 13)\n",
            "Number of patches for testing: 1320\n",
            "Patch shape: (64, 64, 13)\n",
            "(687, 64, 64, 13)\n",
            "(687, 64, 64, 13)\n",
            "2019-11-19\n",
            "shape:  8636369\n",
            "\n",
            " image 4:\n",
            "Number of patches for training: 5980\n",
            "Patch shape: (64, 64, 13)\n",
            "(2161, 64, 64, 13)\n",
            "(2161, 64, 64, 13)\n",
            "Number of patches for testing: 1320\n",
            "Patch shape: (64, 64, 13)\n",
            "(685, 64, 64, 13)\n",
            "(685, 64, 64, 13)\n",
            "2019-11-24\n",
            "shape:  8754473\n",
            "\n",
            " image 4:\n",
            "Number of patches for training: 5980\n",
            "Patch shape: (64, 64, 13)\n",
            "(2163, 64, 64, 13)\n",
            "(2163, 64, 64, 13)\n",
            "Number of patches for testing: 1320\n",
            "Patch shape: (64, 64, 13)\n",
            "(684, 64, 64, 13)\n",
            "(684, 64, 64, 13)\n",
            "2019-12-09\n",
            "shape:  8654774\n",
            "\n",
            " image 4:\n",
            "Number of patches for training: 5980\n",
            "Patch shape: (64, 64, 13)\n",
            "(2059, 64, 64, 13)\n",
            "(2059, 64, 64, 13)\n",
            "Number of patches for testing: 1320\n",
            "Patch shape: (64, 64, 13)\n",
            "(687, 64, 64, 13)\n",
            "(687, 64, 64, 13)\n",
            "2019-12-29\n",
            "shape:  8722451\n",
            "\n",
            " image 4:\n",
            "Number of patches for training: 5980\n",
            "Patch shape: (64, 64, 13)\n",
            "(2064, 64, 64, 13)\n",
            "(2064, 64, 64, 13)\n",
            "Number of patches for testing: 1320\n",
            "Patch shape: (64, 64, 13)\n",
            "(684, 64, 64, 13)\n",
            "(684, 64, 64, 13)\n"
          ]
        }
      ],
      "source": [
        "from pathlib import Path # for reincursive folders\n",
        "import gc\n",
        "import matplotlib.colors as mcolors\n",
        "\n",
        "from google.colab import files\n",
        "\n",
        "patches_test_2019 = []\n",
        "patches_train_2019 = []\n",
        "\n",
        "\n",
        "root_dir = '/content/drive/MyDrive/GEE_good_2019/'\n",
        "\n",
        "for filename in Path(root_dir).rglob('*.tif'):\n",
        "  try:\n",
        "      filename = str(filename)\n",
        "      date = filename[37:47] # select date of image\n",
        "      with rasterio.open(filename) as src:\n",
        "          image = src.read()\n",
        "      del src\n",
        "      gc.collect()\n",
        "      print(date)\n",
        "      image = stack_layers(image,ref,reference) # Remove NaN values and stack reference data\n",
        "      image = remove_nan(image) # Remove NaN values and stack reference data\n",
        "      image_reference = image[12,:,:]\n",
        "      image = np.transpose(image, (1, 2, 0))\n",
        "      image = normalize_image(image)\n",
        "\n",
        "      ### IMAGE 4\n",
        "      print('\\n image 4:')\n",
        "      image_no_4 = np.copy(image)\n",
        "      image_no_4[2000:,2800:,:] = np.nan\n",
        "      image_4 = image[2000:,2800:,:]\n",
        "\n",
        "      # Extract patches\n",
        "      patch_size = (64, 64, 13)\n",
        "      stride = 58\n",
        "      zeroed_patches_train, zeroed_patches_test, removed_indices = extract_zeroed_patches(image_no_4, image_4, patch_size=(64, 64, 13), nan_threshold=0.9)\n",
        "\n",
        "      # append patches\n",
        "      patches_test_2019.append(zeroed_patches_test)\n",
        "      patches_train_2019.append(zeroed_patches_train)\n",
        "\n",
        "  except Exception as e:\n",
        "    # code to handle the exception\n",
        "    print(e)\n",
        "    pass"
      ]
    },
    {
      "cell_type": "code",
      "execution_count": null,
      "metadata": {
        "colab": {
          "base_uri": "https://localhost:8080/"
        },
        "outputId": "330c044b-455e-42f7-a82a-136d3909ea43",
        "id": "ETcD4U2-QwvQ"
      },
      "outputs": [
        {
          "output_type": "execute_result",
          "data": {
            "text/plain": [
              "(10249, 64, 64, 13)"
            ]
          },
          "metadata": {},
          "execution_count": 21
        }
      ],
      "source": [
        "patches_test_2019_array = np.concatenate(patches_test_2019, axis=0)\n",
        "patches_test_2019_array.shape\n",
        "# With no random starting point and no 10% striding: 5100 patches."
      ]
    },
    {
      "cell_type": "code",
      "execution_count": null,
      "metadata": {
        "colab": {
          "base_uri": "https://localhost:8080/"
        },
        "outputId": "f6c6e769-651e-4e75-f5bd-619c40755281",
        "id": "KMtdkIbVQwvQ"
      },
      "outputs": [
        {
          "output_type": "execute_result",
          "data": {
            "text/plain": [
              "(31700, 64, 64, 13)"
            ]
          },
          "metadata": {},
          "execution_count": 22
        }
      ],
      "source": [
        "patches_train_2019_array = np.concatenate(patches_train_2019, axis=0)\n",
        "patches_train_2019_array.shape\n",
        "# With no random starting point and no 10% striding: 20081 patches."
      ]
    },
    {
      "cell_type": "code",
      "execution_count": null,
      "metadata": {
        "id": "DXt7vL1IQwvQ"
      },
      "outputs": [],
      "source": [
        "np.save('/content/drive/My Drive/Patches_64_20m/patches_test_4_2019_no_max_v2.npy', patches_test_2019_array)\n",
        "np.save('/content/drive/My Drive/Patches_64_20m/patches_train_no_4_2019_no_max_v2.npy', patches_train_2019_array)"
      ]
    },
    {
      "cell_type": "markdown",
      "metadata": {
        "id": "yMG3BilpQwvR"
      },
      "source": [
        "## Patches 2020"
      ]
    },
    {
      "cell_type": "code",
      "execution_count": null,
      "metadata": {
        "colab": {
          "base_uri": "https://localhost:8080/"
        },
        "outputId": "4a4a58e2-627b-4598-dceb-656af09d8eff",
        "id": "JCWiIN5lQwvR"
      },
      "outputs": [
        {
          "output_type": "stream",
          "name": "stdout",
          "text": [
            "2020-02-02\n",
            "shape:  8735227\n",
            "\n",
            " image 4:\n",
            "Number of patches for training: 5980\n",
            "Patch shape: (64, 64, 13)\n",
            "(2160, 64, 64, 13)\n",
            "(2160, 64, 64, 13)\n",
            "Number of patches for testing: 1320\n",
            "Patch shape: (64, 64, 13)\n",
            "(685, 64, 64, 13)\n",
            "(685, 64, 64, 13)\n",
            "2020-02-12\n",
            "shape:  8468763\n",
            "\n",
            " image 4:\n",
            "Number of patches for training: 5980\n",
            "Patch shape: (64, 64, 13)\n",
            "(2124, 64, 64, 13)\n",
            "(2124, 64, 64, 13)\n",
            "Number of patches for testing: 1320\n",
            "Patch shape: (64, 64, 13)\n",
            "(686, 64, 64, 13)\n",
            "(686, 64, 64, 13)\n",
            "2020-02-17\n",
            "shape:  8741922\n",
            "\n",
            " image 4:\n",
            "Number of patches for training: 5980\n",
            "Patch shape: (64, 64, 13)\n",
            "(2167, 64, 64, 13)\n",
            "(2167, 64, 64, 13)\n",
            "Number of patches for testing: 1320\n",
            "Patch shape: (64, 64, 13)\n",
            "(692, 64, 64, 13)\n",
            "(692, 64, 64, 13)\n",
            "2020-03-13\n",
            "shape:  8585116\n",
            "\n",
            " image 4:\n",
            "Number of patches for training: 5980\n",
            "Patch shape: (64, 64, 13)\n",
            "(2130, 64, 64, 13)\n",
            "(2130, 64, 64, 13)\n",
            "Number of patches for testing: 1320\n",
            "Patch shape: (64, 64, 13)\n",
            "(711, 64, 64, 13)\n",
            "(711, 64, 64, 13)\n",
            "2020-10-09\n",
            "shape:  8669689\n",
            "\n",
            " image 4:\n",
            "Number of patches for training: 5980\n",
            "Patch shape: (64, 64, 13)\n",
            "(2150, 64, 64, 13)\n",
            "(2150, 64, 64, 13)\n",
            "Number of patches for testing: 1320\n",
            "Patch shape: (64, 64, 13)\n",
            "(691, 64, 64, 13)\n",
            "(691, 64, 64, 13)\n",
            "2020-10-19\n",
            "shape:  8727759\n",
            "\n",
            " image 4:\n",
            "Number of patches for training: 5980\n",
            "Patch shape: (64, 64, 13)\n",
            "(2065, 64, 64, 13)\n",
            "(2065, 64, 64, 13)\n",
            "Number of patches for testing: 1320\n",
            "Patch shape: (64, 64, 13)\n",
            "(681, 64, 64, 13)\n",
            "(681, 64, 64, 13)\n",
            "2020-11-13\n",
            "shape:  8676205\n",
            "\n",
            " image 4:\n",
            "Number of patches for training: 5980\n",
            "Patch shape: (64, 64, 13)\n",
            "(2078, 64, 64, 13)\n",
            "(2078, 64, 64, 13)\n",
            "Number of patches for testing: 1320\n",
            "Patch shape: (64, 64, 13)\n",
            "(684, 64, 64, 13)\n",
            "(684, 64, 64, 13)\n",
            "2020-12-13\n",
            "shape:  8644406\n",
            "\n",
            " image 4:\n",
            "Number of patches for training: 5980\n",
            "Patch shape: (64, 64, 13)\n",
            "(2148, 64, 64, 13)\n",
            "(2148, 64, 64, 13)\n",
            "Number of patches for testing: 1320\n",
            "Patch shape: (64, 64, 13)\n",
            "(683, 64, 64, 13)\n",
            "(683, 64, 64, 13)\n",
            "2020-12-18\n",
            "shape:  8737277\n",
            "\n",
            " image 4:\n",
            "Number of patches for training: 5980\n",
            "Patch shape: (64, 64, 13)\n",
            "(2068, 64, 64, 13)\n",
            "(2068, 64, 64, 13)\n",
            "Number of patches for testing: 1320\n",
            "Patch shape: (64, 64, 13)\n",
            "(714, 64, 64, 13)\n",
            "(714, 64, 64, 13)\n",
            "2020-12-23\n",
            "shape:  8700415\n",
            "\n",
            " image 4:\n",
            "Number of patches for training: 5980\n",
            "Patch shape: (64, 64, 13)\n",
            "(2163, 64, 64, 13)\n",
            "(2163, 64, 64, 13)\n",
            "Number of patches for testing: 1320\n",
            "Patch shape: (64, 64, 13)\n",
            "(684, 64, 64, 13)\n",
            "(684, 64, 64, 13)\n",
            "2020-12-28\n",
            "shape:  8755668\n",
            "\n",
            " image 4:\n",
            "Number of patches for training: 5980\n",
            "Patch shape: (64, 64, 13)\n",
            "(2158, 64, 64, 13)\n",
            "(2158, 64, 64, 13)\n",
            "Number of patches for testing: 1320\n",
            "Patch shape: (64, 64, 13)\n",
            "(687, 64, 64, 13)\n",
            "(687, 64, 64, 13)\n"
          ]
        }
      ],
      "source": [
        "from pathlib import Path # for reincursive folders\n",
        "import gc\n",
        "import matplotlib.colors as mcolors\n",
        "\n",
        "from google.colab import files\n",
        "\n",
        "patches_test_2020 = []\n",
        "patches_train_2020 = []\n",
        "\n",
        "\n",
        "root_dir = '/content/drive/MyDrive/GEE_good_2020/'\n",
        "\n",
        "for filename in Path(root_dir).rglob('*.tif'):\n",
        "  try:\n",
        "      filename = str(filename)\n",
        "      date = filename[37:47] # select date of image\n",
        "      with rasterio.open(filename) as src:\n",
        "          image = src.read()\n",
        "      del src\n",
        "      gc.collect()\n",
        "      print(date)\n",
        "      image = stack_layers(image,ref,reference) # Remove NaN values and stack reference data\n",
        "      image = remove_nan(image) # Remove NaN values and stack reference data\n",
        "      image_reference = image[12,:,:]\n",
        "      image = np.transpose(image, (1, 2, 0))\n",
        "      image = normalize_image(image)\n",
        "\n",
        "      ### IMAGE 4\n",
        "      print('\\n image 4:')\n",
        "      image_no_4 = np.copy(image)\n",
        "      image_no_4[2000:,2800:,:] = np.nan\n",
        "      image_4 = image[2000:,2800:,:]\n",
        "\n",
        "      # Extract patches\n",
        "      patch_size = (64, 64, 13)\n",
        "      stride = 58\n",
        "      zeroed_patches_train, zeroed_patches_test, removed_indices = extract_zeroed_patches(image_no_4, image_4, patch_size=(64, 64, 13), nan_threshold=0.9)\n",
        "\n",
        "      # append patches\n",
        "      patches_test_2020.append(zeroed_patches_test)\n",
        "      patches_train_2020.append(zeroed_patches_train)\n",
        "\n",
        "  except Exception as e:\n",
        "    # code to handle the exception\n",
        "    print(e)\n",
        "    pass"
      ]
    },
    {
      "cell_type": "code",
      "execution_count": null,
      "metadata": {
        "colab": {
          "base_uri": "https://localhost:8080/"
        },
        "outputId": "602fea25-dcb0-47de-f47e-254ae43d13c5",
        "id": "I4ZvNG5pQwvR"
      },
      "outputs": [
        {
          "output_type": "execute_result",
          "data": {
            "text/plain": [
              "(7598, 64, 64, 13)"
            ]
          },
          "metadata": {},
          "execution_count": 21
        }
      ],
      "source": [
        "patches_test_2020_array = np.concatenate(patches_test_2020, axis=0)\n",
        "patches_test_2020_array.shape"
      ]
    },
    {
      "cell_type": "code",
      "execution_count": null,
      "metadata": {
        "colab": {
          "base_uri": "https://localhost:8080/"
        },
        "outputId": "2c47633e-8530-45aa-e9ec-eb98d83bdd46",
        "id": "VJv4kPOyQwvR"
      },
      "outputs": [
        {
          "output_type": "execute_result",
          "data": {
            "text/plain": [
              "(23411, 64, 64, 13)"
            ]
          },
          "metadata": {},
          "execution_count": 22
        }
      ],
      "source": [
        "patches_train_2020_array = np.concatenate(patches_train_2020, axis=0)\n",
        "patches_train_2020_array.shape\n",
        "# With no random starting point and no 10% striding: 14797 patches."
      ]
    },
    {
      "cell_type": "code",
      "execution_count": null,
      "metadata": {
        "id": "HSnMOcXuQwvR"
      },
      "outputs": [],
      "source": [
        "np.save('/content/drive/My Drive/Patches_64_20m/patches_test_4_2020_no_max_v2.npy', patches_test_2020_array)\n",
        "np.save('/content/drive/My Drive/Patches_64_20m/patches_train_no_4_2020_no_max_v2.npy', patches_train_2020_array)"
      ]
    },
    {
      "cell_type": "markdown",
      "metadata": {
        "id": "ImcwxEh3QwvR"
      },
      "source": [
        "## Patches 2021"
      ]
    },
    {
      "cell_type": "code",
      "execution_count": null,
      "metadata": {
        "colab": {
          "base_uri": "https://localhost:8080/"
        },
        "outputId": "3594e774-bfe9-48b1-fe31-e2ee7741c8e5",
        "id": "dgt-Gte-QwvR"
      },
      "outputs": [
        {
          "output_type": "stream",
          "name": "stdout",
          "text": [
            "2021-01-07\n",
            "shape:  8752528\n",
            "\n",
            " image 4:\n",
            "Number of patches for training: 5980\n",
            "Patch shape: (64, 64, 13)\n",
            "(2166, 64, 64, 13)\n",
            "(2166, 64, 64, 13)\n",
            "Number of patches for testing: 1320\n",
            "Patch shape: (64, 64, 13)\n",
            "(688, 64, 64, 13)\n",
            "(688, 64, 64, 13)\n",
            "2021-01-12\n",
            "shape:  8751697\n",
            "\n",
            " image 4:\n",
            "Number of patches for training: 5980\n",
            "Patch shape: (64, 64, 13)\n",
            "(2080, 64, 64, 13)\n",
            "(2080, 64, 64, 13)\n",
            "Number of patches for testing: 1320\n",
            "Patch shape: (64, 64, 13)\n",
            "(690, 64, 64, 13)\n",
            "(690, 64, 64, 13)\n",
            "2021-01-17\n",
            "shape:  8591704\n",
            "\n",
            " image 4:\n",
            "Number of patches for training: 5980\n",
            "Patch shape: (64, 64, 13)\n",
            "(2149, 64, 64, 13)\n",
            "(2149, 64, 64, 13)\n",
            "Number of patches for testing: 1320\n",
            "Patch shape: (64, 64, 13)\n",
            "(688, 64, 64, 13)\n",
            "(688, 64, 64, 13)\n",
            "2021-01-22\n",
            "shape:  8755515\n",
            "\n",
            " image 4:\n",
            "Number of patches for training: 5980\n",
            "Patch shape: (64, 64, 13)\n",
            "(2172, 64, 64, 13)\n",
            "(2172, 64, 64, 13)\n",
            "Number of patches for testing: 1320\n",
            "Patch shape: (64, 64, 13)\n",
            "(687, 64, 64, 13)\n",
            "(687, 64, 64, 13)\n",
            "2021-01-27\n",
            "shape:  8756195\n",
            "\n",
            " image 4:\n",
            "Number of patches for training: 5980\n",
            "Patch shape: (64, 64, 13)\n",
            "(2159, 64, 64, 13)\n",
            "(2159, 64, 64, 13)\n",
            "Number of patches for testing: 1320\n",
            "Patch shape: (64, 64, 13)\n",
            "(715, 64, 64, 13)\n",
            "(715, 64, 64, 13)\n",
            "2021-02-11\n",
            "shape:  8669494\n",
            "\n",
            " image 4:\n",
            "Number of patches for training: 5980\n",
            "Patch shape: (64, 64, 13)\n",
            "(2080, 64, 64, 13)\n",
            "(2080, 64, 64, 13)\n",
            "Number of patches for testing: 1320\n",
            "Patch shape: (64, 64, 13)\n",
            "(684, 64, 64, 13)\n",
            "(684, 64, 64, 13)\n",
            "2021-02-21\n",
            "shape:  8518843\n",
            "\n",
            " image 4:\n",
            "Number of patches for training: 5980\n",
            "Patch shape: (64, 64, 13)\n",
            "(2155, 64, 64, 13)\n",
            "(2155, 64, 64, 13)\n",
            "Number of patches for testing: 1320\n",
            "Patch shape: (64, 64, 13)\n",
            "(689, 64, 64, 13)\n",
            "(689, 64, 64, 13)\n",
            "2021-03-13\n",
            "shape:  8700384\n",
            "\n",
            " image 4:\n",
            "Number of patches for training: 5980\n",
            "Patch shape: (64, 64, 13)\n",
            "(2151, 64, 64, 13)\n",
            "(2151, 64, 64, 13)\n",
            "Number of patches for testing: 1320\n",
            "Patch shape: (64, 64, 13)\n",
            "(694, 64, 64, 13)\n",
            "(694, 64, 64, 13)\n",
            "2021-10-19\n",
            "shape:  8639922\n",
            "\n",
            " image 4:\n",
            "Number of patches for training: 5980\n",
            "Patch shape: (64, 64, 13)\n",
            "(2152, 64, 64, 13)\n",
            "(2152, 64, 64, 13)\n",
            "Number of patches for testing: 1320\n",
            "Patch shape: (64, 64, 13)\n",
            "(686, 64, 64, 13)\n",
            "(686, 64, 64, 13)\n",
            "2021-10-24\n",
            "shape:  8737240\n",
            "\n",
            " image 4:\n",
            "Number of patches for training: 5980\n",
            "Patch shape: (64, 64, 13)\n",
            "(2163, 64, 64, 13)\n",
            "(2163, 64, 64, 13)\n",
            "Number of patches for testing: 1320\n",
            "Patch shape: (64, 64, 13)\n",
            "(686, 64, 64, 13)\n",
            "(686, 64, 64, 13)\n",
            "2021-11-23\n",
            "shape:  8625011\n",
            "\n",
            " image 4:\n",
            "Number of patches for training: 5980\n",
            "Patch shape: (64, 64, 13)\n",
            "(2078, 64, 64, 13)\n",
            "(2078, 64, 64, 13)\n",
            "Number of patches for testing: 1320\n",
            "Patch shape: (64, 64, 13)\n",
            "(682, 64, 64, 13)\n",
            "(682, 64, 64, 13)\n",
            "2021-12-03\n",
            "shape:  8637136\n",
            "\n",
            " image 4:\n",
            "Number of patches for training: 5980\n",
            "Patch shape: (64, 64, 13)\n",
            "(2063, 64, 64, 13)\n",
            "(2063, 64, 64, 13)\n",
            "Number of patches for testing: 1320\n",
            "Patch shape: (64, 64, 13)\n",
            "(688, 64, 64, 13)\n",
            "(688, 64, 64, 13)\n",
            "2021-12-08\n",
            "shape:  8754362\n",
            "\n",
            " image 4:\n",
            "Number of patches for training: 5980\n",
            "Patch shape: (64, 64, 13)\n",
            "(2160, 64, 64, 13)\n",
            "(2160, 64, 64, 13)\n",
            "Number of patches for testing: 1320\n",
            "Patch shape: (64, 64, 13)\n",
            "(688, 64, 64, 13)\n",
            "(688, 64, 64, 13)\n",
            "2021-12-28\n",
            "shape:  8744949\n",
            "\n",
            " image 4:\n",
            "Number of patches for training: 5980\n",
            "Patch shape: (64, 64, 13)\n",
            "(2068, 64, 64, 13)\n",
            "(2068, 64, 64, 13)\n",
            "Number of patches for testing: 1320\n",
            "Patch shape: (64, 64, 13)\n",
            "(678, 64, 64, 13)\n",
            "(678, 64, 64, 13)\n"
          ]
        }
      ],
      "source": [
        "from pathlib import Path # for reincursive folders\n",
        "import gc\n",
        "import matplotlib.colors as mcolors\n",
        "\n",
        "from google.colab import files\n",
        "\n",
        "patches_test_2021 = []\n",
        "patches_train_2021 = []\n",
        "\n",
        "\n",
        "root_dir = '/content/drive/MyDrive/GEE_good_2021/'\n",
        "\n",
        "for filename in Path(root_dir).rglob('*.tif'):\n",
        "  try:\n",
        "      filename = str(filename)\n",
        "      date = filename[37:47] # select date of image\n",
        "      with rasterio.open(filename) as src:\n",
        "          image = src.read()\n",
        "      del src\n",
        "      gc.collect()\n",
        "      print(date)\n",
        "      image = stack_layers(image,ref,reference) # Remove NaN values and stack reference data\n",
        "      image = remove_nan(image) # Remove NaN values and stack reference data\n",
        "      image_reference = image[12,:,:]\n",
        "      image = np.transpose(image, (1, 2, 0))\n",
        "      image = normalize_image(image)\n",
        "\n",
        "      ### IMAGE 4\n",
        "      print('\\n image 4:')\n",
        "      image_no_4 = np.copy(image)\n",
        "      image_no_4[2000:,2800:,:] = np.nan\n",
        "      image_4 = image[2000:,2800:,:]\n",
        "\n",
        "      # Extract patches\n",
        "      stride = 58\n",
        "      zeroed_patches_train, zeroed_patches_test, removed_indices = extract_zeroed_patches(image_no_4, image_4, patch_size=(64, 64, 13), nan_threshold=0.9)\n",
        "\n",
        "      # append patches\n",
        "      patches_test_2021.append(zeroed_patches_test)\n",
        "      patches_train_2021.append(zeroed_patches_train)\n",
        "\n",
        "  except Exception as e:\n",
        "    # code to handle the exception\n",
        "    print(e)\n",
        "    pass"
      ]
    },
    {
      "cell_type": "code",
      "execution_count": null,
      "metadata": {
        "colab": {
          "base_uri": "https://localhost:8080/"
        },
        "outputId": "061deda0-13c5-41df-e8c3-64275e70c296",
        "id": "pYmlCyNtQwvR"
      },
      "outputs": [
        {
          "output_type": "execute_result",
          "data": {
            "text/plain": [
              "(9643, 64, 64, 13)"
            ]
          },
          "metadata": {},
          "execution_count": 21
        }
      ],
      "source": [
        "patches_test_2021_array = np.concatenate(patches_test_2021, axis=0)\n",
        "patches_test_2021_array.shape\n",
        "# With no random starting point and no 10% striding: 18837 patches."
      ]
    },
    {
      "cell_type": "code",
      "execution_count": null,
      "metadata": {
        "colab": {
          "base_uri": "https://localhost:8080/"
        },
        "outputId": "c2a3bbea-d4cf-4d93-a1e4-352f7b281f17",
        "id": "JF-oXrOQQwvT"
      },
      "outputs": [
        {
          "output_type": "execute_result",
          "data": {
            "text/plain": [
              "(29796, 64, 64, 13)"
            ]
          },
          "metadata": {},
          "execution_count": 22
        }
      ],
      "source": [
        "patches_train_2021_array = np.concatenate(patches_train_2021, axis=0)\n",
        "patches_train_2021_array.shape\n",
        "# With no random starting point and no 10% striding: 18837 patches.\n",
        "# With random patching, no norm: 23056 patches."
      ]
    },
    {
      "cell_type": "code",
      "execution_count": null,
      "metadata": {
        "id": "2hnrl3eKQwvT"
      },
      "outputs": [],
      "source": [
        "np.save('/content/drive/My Drive/Patches_64_20m/patches_test_4_2021_no_max_v2.npy', patches_test_2021_array)\n",
        "np.save('/content/drive/My Drive/Patches_64_20m/patches_train_no_4_2021_no_max_v2.npy', patches_train_2021_array)"
      ]
    },
    {
      "cell_type": "markdown",
      "metadata": {
        "id": "FyAPetPzQwvT"
      },
      "source": [
        "## Patches 2022"
      ]
    },
    {
      "cell_type": "code",
      "execution_count": null,
      "metadata": {
        "colab": {
          "base_uri": "https://localhost:8080/"
        },
        "outputId": "c8141f45-c5cf-4973-f1c3-68c4510dccf8",
        "id": "J7k7eEjxQwvT"
      },
      "outputs": [
        {
          "output_type": "stream",
          "name": "stdout",
          "text": [
            "2022-01-12\n",
            "shape:  8755689\n",
            "\n",
            " image 4:\n",
            "Number of patches for training: 5980\n",
            "Patch shape: (64, 64, 13)\n",
            "(2066, 64, 64, 13)\n",
            "(2066, 64, 64, 13)\n",
            "Number of patches for testing: 1320\n",
            "Patch shape: (64, 64, 13)\n",
            "(683, 64, 64, 13)\n",
            "(683, 64, 64, 13)\n",
            "2022-01-22\n",
            "shape:  8608291\n",
            "\n",
            " image 4:\n",
            "Number of patches for training: 5980\n",
            "Patch shape: (64, 64, 13)\n",
            "(2160, 64, 64, 13)\n",
            "(2160, 64, 64, 13)\n",
            "Number of patches for testing: 1320\n",
            "Patch shape: (64, 64, 13)\n",
            "(658, 64, 64, 13)\n",
            "(658, 64, 64, 13)\n",
            "2022-02-21\n",
            "shape:  4885104\n",
            "\n",
            " image 4:\n",
            "Number of patches for training: 5980\n",
            "Patch shape: (64, 64, 13)\n",
            "(1725, 64, 64, 13)\n",
            "(1725, 64, 64, 13)\n",
            "Number of patches for testing: 1320\n",
            "Patch shape: (64, 64, 13)\n",
            "(673, 64, 64, 13)\n",
            "(673, 64, 64, 13)\n",
            "2022-03-03\n",
            "shape:  2602686\n",
            "\n",
            " image 4:\n",
            "Number of patches for training: 5980\n",
            "Patch shape: (64, 64, 13)\n",
            "(1077, 64, 64, 13)\n",
            "(1077, 64, 64, 13)\n",
            "Number of patches for testing: 1320\n",
            "Patch shape: (64, 64, 13)\n",
            "(97, 64, 64, 13)\n",
            "(97, 64, 64, 13)\n",
            "2022-11-03\n",
            "shape:  3826058\n",
            "\n",
            " image 4:\n",
            "Number of patches for training: 5980\n",
            "Patch shape: (64, 64, 13)\n",
            "(1188, 64, 64, 13)\n",
            "(1188, 64, 64, 13)\n",
            "Number of patches for testing: 1320\n",
            "Patch shape: (64, 64, 13)\n",
            "(677, 64, 64, 13)\n",
            "(677, 64, 64, 13)\n",
            "2022-11-18\n",
            "shape:  7315405\n",
            "\n",
            " image 4:\n",
            "Number of patches for training: 5980\n",
            "Patch shape: (64, 64, 13)\n",
            "(2156, 64, 64, 13)\n",
            "(2156, 64, 64, 13)\n",
            "Number of patches for testing: 1320\n",
            "Patch shape: (64, 64, 13)\n",
            "(687, 64, 64, 13)\n",
            "(687, 64, 64, 13)\n",
            "2022-11-28\n",
            "shape:  5010348\n",
            "\n",
            " image 4:\n",
            "Number of patches for training: 5980\n",
            "Patch shape: (64, 64, 13)\n",
            "(1924, 64, 64, 13)\n",
            "(1924, 64, 64, 13)\n",
            "Number of patches for testing: 1320\n",
            "Patch shape: (64, 64, 13)\n",
            "(680, 64, 64, 13)\n",
            "(680, 64, 64, 13)\n",
            "2022-12-23\n",
            "shape:  5228160\n",
            "\n",
            " image 4:\n",
            "Number of patches for training: 5980\n",
            "Patch shape: (64, 64, 13)\n",
            "(1872, 64, 64, 13)\n",
            "(1872, 64, 64, 13)\n",
            "Number of patches for testing: 1320\n",
            "Patch shape: (64, 64, 13)\n",
            "(630, 64, 64, 13)\n",
            "(630, 64, 64, 13)\n",
            "2023-01-12\n",
            "shape:  198577\n",
            "\n",
            " image 4:\n",
            "Number of patches for training: 5980\n",
            "Patch shape: (64, 64, 13)\n",
            "(220, 64, 64, 13)\n",
            "(220, 64, 64, 13)\n",
            "Number of patches for testing: 1320\n",
            "Patch shape: (64, 64, 13)\n",
            "(54, 64, 64, 13)\n",
            "(54, 64, 64, 13)\n",
            "2023-01-22\n",
            "shape:  5464189\n",
            "\n",
            " image 4:\n",
            "Number of patches for training: 5980\n",
            "Patch shape: (64, 64, 13)\n",
            "(1446, 64, 64, 13)\n",
            "(1446, 64, 64, 13)\n",
            "Number of patches for testing: 1320\n",
            "Patch shape: (64, 64, 13)\n",
            "(682, 64, 64, 13)\n",
            "(682, 64, 64, 13)\n"
          ]
        }
      ],
      "source": [
        "from pathlib import Path # for reincursive folders\n",
        "import gc\n",
        "import matplotlib.colors as mcolors\n",
        "\n",
        "from google.colab import files\n",
        "\n",
        "patches_test_2022 = []\n",
        "patches_train_2022 = []\n",
        "\n",
        "\n",
        "root_dir = '/content/drive/MyDrive/GEE_good_2022/'\n",
        "\n",
        "for filename in Path(root_dir).rglob('*.tif'):\n",
        "  try:\n",
        "      filename = str(filename)\n",
        "      date = filename[37:47] # select date of image\n",
        "      with rasterio.open(filename) as src:\n",
        "          image = src.read()\n",
        "      del src\n",
        "      gc.collect()\n",
        "      print(date)\n",
        "      image = stack_layers(image,ref,reference) # Remove NaN values and stack reference data\n",
        "      image = remove_nan(image) # Remove NaN values and stack reference data\n",
        "      image_reference = image[12,:,:]\n",
        "      image = np.transpose(image, (1, 2, 0))\n",
        "      image = normalize_image(image)\n",
        "\n",
        "      ### IMAGE 4\n",
        "      print('\\n image 4:')\n",
        "      image_no_4 = np.copy(image)\n",
        "      image_no_4[2000:,2800:,:] = np.nan\n",
        "      image_4 = image[2000:,2800:,:]\n",
        "      # Extract patches\n",
        "      stride = 58\n",
        "      zeroed_patches_train, zeroed_patches_test, removed_indices = extract_zeroed_patches(image_no_4, image_4, patch_size=(64, 64, 13), nan_threshold=0.9)\n",
        "\n",
        "      # append patches\n",
        "      patches_test_2022.append(zeroed_patches_test)\n",
        "      patches_train_2022.append(zeroed_patches_train)\n",
        "\n",
        "  except Exception as e:\n",
        "    # code to handle the exception\n",
        "    print(e)\n",
        "    pass"
      ]
    },
    {
      "cell_type": "code",
      "execution_count": null,
      "metadata": {
        "colab": {
          "base_uri": "https://localhost:8080/"
        },
        "outputId": "b9ff6afe-564b-4eed-b54c-877aaa95e45b",
        "id": "QXNzZCCaQwvT"
      },
      "outputs": [
        {
          "output_type": "execute_result",
          "data": {
            "text/plain": [
              "(5521, 64, 64, 13)"
            ]
          },
          "metadata": {},
          "execution_count": 21
        }
      ],
      "source": [
        "patches_test_2022_array = np.concatenate(patches_test_2022, axis=0)\n",
        "patches_test_2022_array.shape\n",
        "# With no random starting point and no 10% striding: 2729 patches."
      ]
    },
    {
      "cell_type": "code",
      "execution_count": null,
      "metadata": {
        "colab": {
          "base_uri": "https://localhost:8080/"
        },
        "outputId": "3650d8cb-d662-497f-c1a3-c641558bd386",
        "id": "6Kl160DQQwvT"
      },
      "outputs": [
        {
          "output_type": "execute_result",
          "data": {
            "text/plain": [
              "(15834, 64, 64, 13)"
            ]
          },
          "metadata": {},
          "execution_count": 22
        }
      ],
      "source": [
        "patches_train_2022_array = np.concatenate(patches_train_2022, axis=0)\n",
        "patches_train_2022_array.shape\n",
        "# With no random starting point and no 10% striding: 10335 patches."
      ]
    },
    {
      "cell_type": "code",
      "execution_count": null,
      "metadata": {
        "colab": {
          "base_uri": "https://localhost:8080/"
        },
        "outputId": "0e1ff55c-77c5-4834-e08a-91d108059618",
        "id": "w2FYpAeCQwvT"
      },
      "outputs": [
        {
          "output_type": "display_data",
          "data": {
            "text/plain": [
              "<Figure size 432x288 with 2 Axes>"
            ],
            "image/png": "[encoded data removed]"
          },
          "metadata": {
            "needs_background": "light"
          }
        }
      ],
      "source": [
        "plt.imshow(patches_train_2022_array[213,:,:,1])\n",
        "plt.colorbar()\n",
        "plt.show()\n"
      ]
    },
    {
      "cell_type": "code",
      "execution_count": null,
      "metadata": {
        "id": "oUw4za-jQwvT"
      },
      "outputs": [],
      "source": [
        "np.save('/content/drive/My Drive/Patches_64_20m/patches_test_4_2022_no_max_v2.npy', patches_test_2022_array)\n",
        "np.save('/content/drive/My Drive/Patches_64_20m/patches_train_no_4_2022_no_max_v2.npy', patches_train_2022_array)"
      ]
    }
  ],
  "metadata": {
    "colab": {
      "collapsed_sections": [
        "7cs9ojXQLHle",
        "rlyMlHx8LHlf",
        "gw8efd2aLHlh",
        "9nuuBgM7LHli",
        "X7HkQvfGLHlk",
        "s_DFdX3qKXL4",
        "YfslkbqCKXL-",
        "a40T1iaaKXMB",
        "wdtgOHfxKXMC",
        "2cSXkzzdKXME",
        "788Bq7ytUW-B",
        "VrdtooWKUW-C",
        "Iv9T8EzRUW-D",
        "bJPnFItSUW-E",
        "pImxljcOUW-G",
        "0SMUhPl0egqC",
        "1rN-hPGQegqC",
        "ljPvux9TegqD",
        "mkvr9fmIegqE",
        "X64IskDxegqF",
        "6IOxyKnI4tDc",
        "0AL755mZ4tDe",
        "bshA-EmsBhjB",
        "CvSTwQfwH9zO",
        "IekNVrwEQwvP"
      ],
      "machine_shape": "hm",
      "provenance": [],
      "toc_visible": true
    },
    "gpuClass": "standard",
    "kernelspec": {
      "display_name": "Python 3",
      "name": "python3"
    },
    "language_info": {
      "name": "python"
    }
  },
  "nbformat": 4,
  "nbformat_minor": 0
}